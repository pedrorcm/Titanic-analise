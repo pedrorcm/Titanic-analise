{
  "cells": [
    {
      "cell_type": "code",
      "execution_count": 1,
      "metadata": {
        "id": "ccbB0pgeTX8Q"
      },
      "outputs": [],
      "source": [
        "import pandas as pd\n",
        "import numpy as np"
      ]
    },
    {
      "cell_type": "code",
      "execution_count": 2,
      "metadata": {
        "id": "P3Qxza6tTX8T"
      },
      "outputs": [],
      "source": [
        "data = 'titanic.csv'\n",
        "lida = pd.read_csv(data)\n",
        "\n",
        "titanic = pd.DataFrame(lida)"
      ]
    },
    {
      "cell_type": "code",
      "execution_count": 5,
      "metadata": {},
      "outputs": [
        {
          "data": {
            "text/plain": [
              "Survived                   0.0\n",
              "Pclass                     0.0\n",
              "Name                       0.0\n",
              "Sex                        0.0\n",
              "Age                        0.0\n",
              "Siblings/Spouses Aboard    0.0\n",
              "Parents/Children Aboard    0.0\n",
              "Fare                       0.0\n",
              "dtype: float64"
            ]
          },
          "execution_count": 5,
          "metadata": {},
          "output_type": "execute_result"
        }
      ],
      "source": [
        "titanic.isnull().sum() / titanic.shape[0]"
      ]
    },
    {
      "cell_type": "code",
      "execution_count": 186,
      "metadata": {
        "id": "-uOgPaAeTX8T",
        "outputId": "979749b5-261d-454c-d05b-043c620b95ce"
      },
      "outputs": [
        {
          "data": {
            "text/html": [
              "<div>\n",
              "<style scoped>\n",
              "    .dataframe tbody tr th:only-of-type {\n",
              "        vertical-align: middle;\n",
              "    }\n",
              "\n",
              "    .dataframe tbody tr th {\n",
              "        vertical-align: top;\n",
              "    }\n",
              "\n",
              "    .dataframe thead th {\n",
              "        text-align: right;\n",
              "    }\n",
              "</style>\n",
              "<table border=\"1\" class=\"dataframe\">\n",
              "  <thead>\n",
              "    <tr style=\"text-align: right;\">\n",
              "      <th></th>\n",
              "      <th>Survived</th>\n",
              "      <th>Pclass</th>\n",
              "      <th>Age</th>\n",
              "      <th>Fare</th>\n",
              "    </tr>\n",
              "  </thead>\n",
              "  <tbody>\n",
              "    <tr>\n",
              "      <th>0</th>\n",
              "      <td>0</td>\n",
              "      <td>3</td>\n",
              "      <td>22.0</td>\n",
              "      <td>7.2500</td>\n",
              "    </tr>\n",
              "    <tr>\n",
              "      <th>1</th>\n",
              "      <td>1</td>\n",
              "      <td>1</td>\n",
              "      <td>38.0</td>\n",
              "      <td>71.2833</td>\n",
              "    </tr>\n",
              "    <tr>\n",
              "      <th>2</th>\n",
              "      <td>1</td>\n",
              "      <td>3</td>\n",
              "      <td>26.0</td>\n",
              "      <td>7.9250</td>\n",
              "    </tr>\n",
              "    <tr>\n",
              "      <th>3</th>\n",
              "      <td>1</td>\n",
              "      <td>1</td>\n",
              "      <td>35.0</td>\n",
              "      <td>53.1000</td>\n",
              "    </tr>\n",
              "    <tr>\n",
              "      <th>4</th>\n",
              "      <td>0</td>\n",
              "      <td>3</td>\n",
              "      <td>35.0</td>\n",
              "      <td>8.0500</td>\n",
              "    </tr>\n",
              "    <tr>\n",
              "      <th>...</th>\n",
              "      <td>...</td>\n",
              "      <td>...</td>\n",
              "      <td>...</td>\n",
              "      <td>...</td>\n",
              "    </tr>\n",
              "    <tr>\n",
              "      <th>882</th>\n",
              "      <td>0</td>\n",
              "      <td>2</td>\n",
              "      <td>27.0</td>\n",
              "      <td>13.0000</td>\n",
              "    </tr>\n",
              "    <tr>\n",
              "      <th>883</th>\n",
              "      <td>1</td>\n",
              "      <td>1</td>\n",
              "      <td>19.0</td>\n",
              "      <td>30.0000</td>\n",
              "    </tr>\n",
              "    <tr>\n",
              "      <th>884</th>\n",
              "      <td>0</td>\n",
              "      <td>3</td>\n",
              "      <td>7.0</td>\n",
              "      <td>23.4500</td>\n",
              "    </tr>\n",
              "    <tr>\n",
              "      <th>885</th>\n",
              "      <td>1</td>\n",
              "      <td>1</td>\n",
              "      <td>26.0</td>\n",
              "      <td>30.0000</td>\n",
              "    </tr>\n",
              "    <tr>\n",
              "      <th>886</th>\n",
              "      <td>0</td>\n",
              "      <td>3</td>\n",
              "      <td>32.0</td>\n",
              "      <td>7.7500</td>\n",
              "    </tr>\n",
              "  </tbody>\n",
              "</table>\n",
              "<p>887 rows × 4 columns</p>\n",
              "</div>"
            ],
            "text/plain": [
              "     Survived  Pclass   Age     Fare\n",
              "0           0       3  22.0   7.2500\n",
              "1           1       1  38.0  71.2833\n",
              "2           1       3  26.0   7.9250\n",
              "3           1       1  35.0  53.1000\n",
              "4           0       3  35.0   8.0500\n",
              "..        ...     ...   ...      ...\n",
              "882         0       2  27.0  13.0000\n",
              "883         1       1  19.0  30.0000\n",
              "884         0       3   7.0  23.4500\n",
              "885         1       1  26.0  30.0000\n",
              "886         0       3  32.0   7.7500\n",
              "\n",
              "[887 rows x 4 columns]"
            ]
          },
          "execution_count": 186,
          "metadata": {},
          "output_type": "execute_result"
        }
      ],
      "source": [
        "titanic[['Survived', 'Pclass', 'Age', 'Fare']]"
      ]
    },
    {
      "cell_type": "code",
      "execution_count": 187,
      "metadata": {
        "id": "rBqWzW6BTX8U"
      },
      "outputs": [],
      "source": [
        "formatar = lambda y: f'%.2f' % y"
      ]
    },
    {
      "cell_type": "code",
      "execution_count": 188,
      "metadata": {
        "id": "nFirrdC4TX8U",
        "outputId": "7bd580c5-926f-439f-ef03-1bdb5958c297"
      },
      "outputs": [
        {
          "data": {
            "text/plain": [
              "0      0.00\n",
              "1      1.00\n",
              "2      1.00\n",
              "3      1.00\n",
              "4      0.00\n",
              "       ... \n",
              "882    0.00\n",
              "883    1.00\n",
              "884    0.00\n",
              "885    1.00\n",
              "886    0.00\n",
              "Name: Survived, Length: 887, dtype: object"
            ]
          },
          "execution_count": 188,
          "metadata": {},
          "output_type": "execute_result"
        }
      ],
      "source": [
        "surv2cd = titanic['Survived'].apply(formatar)\n",
        "surv2cd"
      ]
    },
    {
      "cell_type": "code",
      "execution_count": 189,
      "metadata": {
        "id": "RxcwWfHLTX8V",
        "outputId": "1cd38a1d-3b46-4f8d-f732-d33e55d162b7"
      },
      "outputs": [
        {
          "data": {
            "text/plain": [
              "0      3.000\n",
              "1      1.000\n",
              "2      3.000\n",
              "3      1.000\n",
              "4      3.000\n",
              "       ...  \n",
              "882    2.000\n",
              "883    1.000\n",
              "884    3.000\n",
              "885    1.000\n",
              "886    3.000\n",
              "Name: Pclass, Length: 887, dtype: object"
            ]
          },
          "execution_count": 189,
          "metadata": {},
          "output_type": "execute_result"
        }
      ],
      "source": [
        "funlamb = lambda y: f'%.3f' % y\n",
        "\n",
        "pc3cd = titanic['Pclass'].apply(funlamb)\n",
        "pc3cd"
      ]
    },
    {
      "cell_type": "code",
      "execution_count": 190,
      "metadata": {
        "id": "VnuOuJFETX8W",
        "outputId": "b1163ed5-c805-45c1-eab9-acd44c1db32d"
      },
      "outputs": [],
      "source": [
        "# titanic_dec = lambda x: '%.1f' % x if (type(x) == int or type(x) == float) else x\n",
        "# titanic.applymap(titanic_dec)"
      ]
    },
    {
      "cell_type": "code",
      "execution_count": 191,
      "metadata": {
        "id": "OzCMn8KMTX8W",
        "outputId": "46d9e4c7-6f81-4128-df52-1da2ca4956b6"
      },
      "outputs": [
        {
          "data": {
            "text/html": [
              "<div>\n",
              "<style scoped>\n",
              "    .dataframe tbody tr th:only-of-type {\n",
              "        vertical-align: middle;\n",
              "    }\n",
              "\n",
              "    .dataframe tbody tr th {\n",
              "        vertical-align: top;\n",
              "    }\n",
              "\n",
              "    .dataframe thead th {\n",
              "        text-align: right;\n",
              "    }\n",
              "</style>\n",
              "<table border=\"1\" class=\"dataframe\">\n",
              "  <thead>\n",
              "    <tr style=\"text-align: right;\">\n",
              "      <th></th>\n",
              "      <th>Survived</th>\n",
              "      <th>Pclass</th>\n",
              "      <th>Name</th>\n",
              "      <th>Sex</th>\n",
              "      <th>Age</th>\n",
              "      <th>Siblings/Spouses Aboard</th>\n",
              "      <th>Parents/Children Aboard</th>\n",
              "      <th>Fare</th>\n",
              "    </tr>\n",
              "  </thead>\n",
              "  <tbody>\n",
              "    <tr>\n",
              "      <th>0</th>\n",
              "      <td>0</td>\n",
              "      <td>3</td>\n",
              "      <td>Mr. Owen Harris Braund</td>\n",
              "      <td>male</td>\n",
              "      <td>22.0</td>\n",
              "      <td>1</td>\n",
              "      <td>0</td>\n",
              "      <td>7.2500</td>\n",
              "    </tr>\n",
              "    <tr>\n",
              "      <th>1</th>\n",
              "      <td>1</td>\n",
              "      <td>1</td>\n",
              "      <td>Mrs. John Bradley (Florence Briggs Thayer) Cum...</td>\n",
              "      <td>female</td>\n",
              "      <td>38.0</td>\n",
              "      <td>1</td>\n",
              "      <td>0</td>\n",
              "      <td>71.2833</td>\n",
              "    </tr>\n",
              "    <tr>\n",
              "      <th>2</th>\n",
              "      <td>1</td>\n",
              "      <td>3</td>\n",
              "      <td>Miss. Laina Heikkinen</td>\n",
              "      <td>female</td>\n",
              "      <td>26.0</td>\n",
              "      <td>0</td>\n",
              "      <td>0</td>\n",
              "      <td>7.9250</td>\n",
              "    </tr>\n",
              "    <tr>\n",
              "      <th>3</th>\n",
              "      <td>1</td>\n",
              "      <td>1</td>\n",
              "      <td>Mrs. Jacques Heath (Lily May Peel) Futrelle</td>\n",
              "      <td>female</td>\n",
              "      <td>35.0</td>\n",
              "      <td>1</td>\n",
              "      <td>0</td>\n",
              "      <td>53.1000</td>\n",
              "    </tr>\n",
              "    <tr>\n",
              "      <th>4</th>\n",
              "      <td>0</td>\n",
              "      <td>3</td>\n",
              "      <td>Mr. William Henry Allen</td>\n",
              "      <td>male</td>\n",
              "      <td>35.0</td>\n",
              "      <td>0</td>\n",
              "      <td>0</td>\n",
              "      <td>8.0500</td>\n",
              "    </tr>\n",
              "  </tbody>\n",
              "</table>\n",
              "</div>"
            ],
            "text/plain": [
              "   Survived  Pclass                                               Name  \\\n",
              "0         0       3                             Mr. Owen Harris Braund   \n",
              "1         1       1  Mrs. John Bradley (Florence Briggs Thayer) Cum...   \n",
              "2         1       3                              Miss. Laina Heikkinen   \n",
              "3         1       1        Mrs. Jacques Heath (Lily May Peel) Futrelle   \n",
              "4         0       3                            Mr. William Henry Allen   \n",
              "\n",
              "      Sex   Age  Siblings/Spouses Aboard  Parents/Children Aboard     Fare  \n",
              "0    male  22.0                        1                        0   7.2500  \n",
              "1  female  38.0                        1                        0  71.2833  \n",
              "2  female  26.0                        0                        0   7.9250  \n",
              "3  female  35.0                        1                        0  53.1000  \n",
              "4    male  35.0                        0                        0   8.0500  "
            ]
          },
          "execution_count": 191,
          "metadata": {},
          "output_type": "execute_result"
        }
      ],
      "source": [
        "dfhead = titanic.head(5)\n",
        "dfhead"
      ]
    },
    {
      "cell_type": "code",
      "execution_count": 192,
      "metadata": {
        "id": "zlAb7Q5GTX8X",
        "outputId": "14f77d4d-483e-4294-caa6-ea742556ad86"
      },
      "outputs": [
        {
          "data": {
            "text/html": [
              "<div>\n",
              "<style scoped>\n",
              "    .dataframe tbody tr th:only-of-type {\n",
              "        vertical-align: middle;\n",
              "    }\n",
              "\n",
              "    .dataframe tbody tr th {\n",
              "        vertical-align: top;\n",
              "    }\n",
              "\n",
              "    .dataframe thead th {\n",
              "        text-align: right;\n",
              "    }\n",
              "</style>\n",
              "<table border=\"1\" class=\"dataframe\">\n",
              "  <thead>\n",
              "    <tr style=\"text-align: right;\">\n",
              "      <th></th>\n",
              "      <th>Survived</th>\n",
              "      <th>Pclass</th>\n",
              "      <th>Name</th>\n",
              "      <th>Sex</th>\n",
              "      <th>Age</th>\n",
              "      <th>Siblings/Spouses Aboard</th>\n",
              "      <th>Parents/Children Aboard</th>\n",
              "      <th>Fare</th>\n",
              "    </tr>\n",
              "  </thead>\n",
              "  <tbody>\n",
              "    <tr>\n",
              "      <th>0</th>\n",
              "      <td>0</td>\n",
              "      <td>3</td>\n",
              "      <td>Mr. Owen Harris Braund</td>\n",
              "      <td>male</td>\n",
              "      <td>22.0</td>\n",
              "      <td>1</td>\n",
              "      <td>0</td>\n",
              "      <td>7.2500</td>\n",
              "    </tr>\n",
              "    <tr>\n",
              "      <th>2</th>\n",
              "      <td>1</td>\n",
              "      <td>3</td>\n",
              "      <td>Miss. Laina Heikkinen</td>\n",
              "      <td>female</td>\n",
              "      <td>26.0</td>\n",
              "      <td>0</td>\n",
              "      <td>0</td>\n",
              "      <td>7.9250</td>\n",
              "    </tr>\n",
              "    <tr>\n",
              "      <th>3</th>\n",
              "      <td>1</td>\n",
              "      <td>1</td>\n",
              "      <td>Mrs. Jacques Heath (Lily May Peel) Futrelle</td>\n",
              "      <td>female</td>\n",
              "      <td>35.0</td>\n",
              "      <td>1</td>\n",
              "      <td>0</td>\n",
              "      <td>53.1000</td>\n",
              "    </tr>\n",
              "    <tr>\n",
              "      <th>4</th>\n",
              "      <td>0</td>\n",
              "      <td>3</td>\n",
              "      <td>Mr. William Henry Allen</td>\n",
              "      <td>male</td>\n",
              "      <td>35.0</td>\n",
              "      <td>0</td>\n",
              "      <td>0</td>\n",
              "      <td>8.0500</td>\n",
              "    </tr>\n",
              "    <tr>\n",
              "      <th>1</th>\n",
              "      <td>1</td>\n",
              "      <td>1</td>\n",
              "      <td>Mrs. John Bradley (Florence Briggs Thayer) Cum...</td>\n",
              "      <td>female</td>\n",
              "      <td>38.0</td>\n",
              "      <td>1</td>\n",
              "      <td>0</td>\n",
              "      <td>71.2833</td>\n",
              "    </tr>\n",
              "  </tbody>\n",
              "</table>\n",
              "</div>"
            ],
            "text/plain": [
              "   Survived  Pclass                                               Name  \\\n",
              "0         0       3                             Mr. Owen Harris Braund   \n",
              "2         1       3                              Miss. Laina Heikkinen   \n",
              "3         1       1        Mrs. Jacques Heath (Lily May Peel) Futrelle   \n",
              "4         0       3                            Mr. William Henry Allen   \n",
              "1         1       1  Mrs. John Bradley (Florence Briggs Thayer) Cum...   \n",
              "\n",
              "      Sex   Age  Siblings/Spouses Aboard  Parents/Children Aboard     Fare  \n",
              "0    male  22.0                        1                        0   7.2500  \n",
              "2  female  26.0                        0                        0   7.9250  \n",
              "3  female  35.0                        1                        0  53.1000  \n",
              "4    male  35.0                        0                        0   8.0500  \n",
              "1  female  38.0                        1                        0  71.2833  "
            ]
          },
          "execution_count": 192,
          "metadata": {},
          "output_type": "execute_result"
        }
      ],
      "source": [
        "dfhead.sort_values(by= ['Age'])"
      ]
    },
    {
      "cell_type": "markdown",
      "metadata": {
        "id": "4sljem4BTX8X"
      },
      "source": [
        "____"
      ]
    },
    {
      "cell_type": "markdown",
      "metadata": {
        "id": "tj_AIsCNTX8Y"
      },
      "source": [
        "## Extras"
      ]
    },
    {
      "cell_type": "code",
      "execution_count": 193,
      "metadata": {
        "id": "RDfiOPogTX8Z",
        "outputId": "d7633ee9-d409-4887-a5d9-79a28005c54d"
      },
      "outputs": [
        {
          "data": {
            "text/html": [
              "<div>\n",
              "<style scoped>\n",
              "    .dataframe tbody tr th:only-of-type {\n",
              "        vertical-align: middle;\n",
              "    }\n",
              "\n",
              "    .dataframe tbody tr th {\n",
              "        vertical-align: top;\n",
              "    }\n",
              "\n",
              "    .dataframe thead th {\n",
              "        text-align: right;\n",
              "    }\n",
              "</style>\n",
              "<table border=\"1\" class=\"dataframe\">\n",
              "  <thead>\n",
              "    <tr style=\"text-align: right;\">\n",
              "      <th></th>\n",
              "      <th>Survived</th>\n",
              "      <th>Pclass</th>\n",
              "      <th>Name</th>\n",
              "      <th>Sex</th>\n",
              "      <th>Age</th>\n",
              "      <th>Siblings/Spouses Aboard</th>\n",
              "      <th>Parents/Children Aboard</th>\n",
              "      <th>Fare</th>\n",
              "    </tr>\n",
              "  </thead>\n",
              "  <tbody>\n",
              "    <tr>\n",
              "      <th>0</th>\n",
              "      <td>0</td>\n",
              "      <td>3</td>\n",
              "      <td>Mr. Owen Harris Braund</td>\n",
              "      <td>male</td>\n",
              "      <td>22.0</td>\n",
              "      <td>1</td>\n",
              "      <td>0</td>\n",
              "      <td>7.2500</td>\n",
              "    </tr>\n",
              "    <tr>\n",
              "      <th>1</th>\n",
              "      <td>1</td>\n",
              "      <td>1</td>\n",
              "      <td>Mrs. John Bradley (Florence Briggs Thayer) Cum...</td>\n",
              "      <td>female</td>\n",
              "      <td>38.0</td>\n",
              "      <td>1</td>\n",
              "      <td>0</td>\n",
              "      <td>71.2833</td>\n",
              "    </tr>\n",
              "  </tbody>\n",
              "</table>\n",
              "</div>"
            ],
            "text/plain": [
              "   Survived  Pclass                                               Name  \\\n",
              "0         0       3                             Mr. Owen Harris Braund   \n",
              "1         1       1  Mrs. John Bradley (Florence Briggs Thayer) Cum...   \n",
              "\n",
              "      Sex   Age  Siblings/Spouses Aboard  Parents/Children Aboard     Fare  \n",
              "0    male  22.0                        1                        0   7.2500  \n",
              "1  female  38.0                        1                        0  71.2833  "
            ]
          },
          "execution_count": 193,
          "metadata": {},
          "output_type": "execute_result"
        }
      ],
      "source": [
        "titanic.head(2)"
      ]
    },
    {
      "cell_type": "code",
      "execution_count": 194,
      "metadata": {
        "id": "mPD5WsBSTX8Z"
      },
      "outputs": [],
      "source": [
        "formatar = lambda y: float(f'%.1f' % y)\n",
        "\n",
        "titanic['Fare']= titanic['Fare'].apply(formatar)"
      ]
    },
    {
      "cell_type": "code",
      "execution_count": 195,
      "metadata": {
        "id": "OZXrbW70TX8Z",
        "outputId": "8e3e9d80-feef-4b1f-c440-44666df8657e"
      },
      "outputs": [
        {
          "data": {
            "text/html": [
              "<div>\n",
              "<style scoped>\n",
              "    .dataframe tbody tr th:only-of-type {\n",
              "        vertical-align: middle;\n",
              "    }\n",
              "\n",
              "    .dataframe tbody tr th {\n",
              "        vertical-align: top;\n",
              "    }\n",
              "\n",
              "    .dataframe thead th {\n",
              "        text-align: right;\n",
              "    }\n",
              "</style>\n",
              "<table border=\"1\" class=\"dataframe\">\n",
              "  <thead>\n",
              "    <tr style=\"text-align: right;\">\n",
              "      <th></th>\n",
              "      <th>Survived</th>\n",
              "      <th>Pclass</th>\n",
              "      <th>Name</th>\n",
              "      <th>Sex</th>\n",
              "      <th>Age</th>\n",
              "      <th>Siblings/Spouses Aboard</th>\n",
              "      <th>Parents/Children Aboard</th>\n",
              "      <th>Fare</th>\n",
              "    </tr>\n",
              "  </thead>\n",
              "  <tbody>\n",
              "    <tr>\n",
              "      <th>0</th>\n",
              "      <td>0</td>\n",
              "      <td>3</td>\n",
              "      <td>Mr. Owen Harris Braund</td>\n",
              "      <td>male</td>\n",
              "      <td>22.0</td>\n",
              "      <td>1</td>\n",
              "      <td>0</td>\n",
              "      <td>7.2</td>\n",
              "    </tr>\n",
              "    <tr>\n",
              "      <th>1</th>\n",
              "      <td>1</td>\n",
              "      <td>1</td>\n",
              "      <td>Mrs. John Bradley (Florence Briggs Thayer) Cum...</td>\n",
              "      <td>female</td>\n",
              "      <td>38.0</td>\n",
              "      <td>1</td>\n",
              "      <td>0</td>\n",
              "      <td>71.3</td>\n",
              "    </tr>\n",
              "  </tbody>\n",
              "</table>\n",
              "</div>"
            ],
            "text/plain": [
              "   Survived  Pclass                                               Name  \\\n",
              "0         0       3                             Mr. Owen Harris Braund   \n",
              "1         1       1  Mrs. John Bradley (Florence Briggs Thayer) Cum...   \n",
              "\n",
              "      Sex   Age  Siblings/Spouses Aboard  Parents/Children Aboard  Fare  \n",
              "0    male  22.0                        1                        0   7.2  \n",
              "1  female  38.0                        1                        0  71.3  "
            ]
          },
          "execution_count": 195,
          "metadata": {},
          "output_type": "execute_result"
        }
      ],
      "source": [
        "titanic.head(2)"
      ]
    },
    {
      "cell_type": "markdown",
      "metadata": {
        "id": "cTkHOXlVTX8a"
      },
      "source": [
        "# **Sobre Tarifas e Sobreviventes**"
      ]
    },
    {
      "cell_type": "markdown",
      "metadata": {},
      "source": [
        "## A quantidade de gente que sobreviveu e suas tarifas. O preço influenciou?"
      ]
    },
    {
      "cell_type": "code",
      "execution_count": null,
      "metadata": {},
      "outputs": [],
      "source": [
        "primeiraClasse = titanic[titanic['Pclass'] == 1]\n",
        "segundaClasse = titanic[titanic['Pclass'] == 2]\n",
        "terceiraClasse = titanic[titanic['Pclass'] == 3]"
      ]
    },
    {
      "cell_type": "code",
      "execution_count": 414,
      "metadata": {},
      "outputs": [
        {
          "data": {
            "text/plain": [
              "63.0"
            ]
          },
          "execution_count": 414,
          "metadata": {},
          "output_type": "execute_result"
        }
      ],
      "source": [
        "# ~0.63 porcentagem de sobreviventes da primeira classe\n",
        "pspc = primeiraClasse.describe().loc['mean'] \n",
        "pspc = pspc[0].round(2)*100\n",
        "pspc"
      ]
    },
    {
      "cell_type": "code",
      "execution_count": 415,
      "metadata": {},
      "outputs": [],
      "source": [
        "# Quantidade total PC\n",
        "qtpc = primeiraClasse.shape[0]"
      ]
    },
    {
      "cell_type": "code",
      "execution_count": 416,
      "metadata": {},
      "outputs": [
        {
          "data": {
            "text/plain": [
              "136"
            ]
          },
          "execution_count": 416,
          "metadata": {},
          "output_type": "execute_result"
        }
      ],
      "source": [
        "# Quantidade sobreviventes PC \n",
        "qtdSobPC = primeiraClasse[primeiraClasse['Survived']== 1].shape[0]\n",
        "qtdSobPC\n"
      ]
    },
    {
      "cell_type": "code",
      "execution_count": 417,
      "metadata": {},
      "outputs": [],
      "source": [
        "# 136 pessoas sobreviveram na PC."
      ]
    },
    {
      "cell_type": "markdown",
      "metadata": {},
      "source": [
        "_______"
      ]
    },
    {
      "cell_type": "code",
      "execution_count": 418,
      "metadata": {},
      "outputs": [
        {
          "data": {
            "text/plain": [
              "Survived                    0.472826\n",
              "Pclass                      2.000000\n",
              "Age                        29.868641\n",
              "Siblings/Spouses Aboard     0.402174\n",
              "Parents/Children Aboard     0.380435\n",
              "Fare                       20.663587\n",
              "Name: mean, dtype: float64"
            ]
          },
          "execution_count": 418,
          "metadata": {},
          "output_type": "execute_result"
        }
      ],
      "source": [
        "segundaClasse.describe().loc['mean'] # ~0.47 porcentagem de sobreviventes da segunda classe"
      ]
    },
    {
      "cell_type": "code",
      "execution_count": 419,
      "metadata": {},
      "outputs": [
        {
          "data": {
            "text/plain": [
              "47.0"
            ]
          },
          "execution_count": 419,
          "metadata": {},
          "output_type": "execute_result"
        }
      ],
      "source": [
        "# Porcentagen Sobreviventes Segunda Classe PSSC\n",
        "pssc = segundaClasse.describe().loc['mean'][0].round(2)*100\n",
        "pssc"
      ]
    },
    {
      "cell_type": "code",
      "execution_count": 420,
      "metadata": {},
      "outputs": [
        {
          "data": {
            "text/plain": [
              "184"
            ]
          },
          "execution_count": 420,
          "metadata": {},
          "output_type": "execute_result"
        }
      ],
      "source": [
        "# Quantidade Total Segunda Classe QTSC\n",
        "qtsc = segundaClasse.shape[0]\n",
        "qtsc"
      ]
    },
    {
      "cell_type": "code",
      "execution_count": 421,
      "metadata": {},
      "outputs": [
        {
          "data": {
            "text/plain": [
              "87"
            ]
          },
          "execution_count": 421,
          "metadata": {},
          "output_type": "execute_result"
        }
      ],
      "source": [
        "# Quantidade Sobreviventes Seg. Clas.\n",
        "qtdSobSC = segundaClasse[segundaClasse['Survived'] == 1].shape[0]\n",
        "qtdSobSC"
      ]
    },
    {
      "cell_type": "markdown",
      "metadata": {},
      "source": [
        "____"
      ]
    },
    {
      "cell_type": "code",
      "execution_count": 422,
      "metadata": {},
      "outputs": [
        {
          "data": {
            "text/plain": [
              "Survived                    0.244353\n",
              "Pclass                      3.000000\n",
              "Age                        25.188747\n",
              "Siblings/Spouses Aboard     0.620123\n",
              "Parents/Children Aboard     0.396304\n",
              "Fare                       13.712936\n",
              "Name: mean, dtype: float64"
            ]
          },
          "execution_count": 422,
          "metadata": {},
          "output_type": "execute_result"
        }
      ],
      "source": [
        "terceiraClasse.describe().loc['mean'] # ~0.24 porcentagem sobreviventes terceira classe"
      ]
    },
    {
      "cell_type": "code",
      "execution_count": 423,
      "metadata": {},
      "outputs": [
        {
          "data": {
            "text/plain": [
              "24.0"
            ]
          },
          "execution_count": 423,
          "metadata": {},
          "output_type": "execute_result"
        }
      ],
      "source": [
        "# Porc. Sob. T. C.\n",
        "pstc = float(f'{terceiraClasse.Survived.mean():.2f}')*100\n",
        "pstc"
      ]
    },
    {
      "cell_type": "code",
      "execution_count": 424,
      "metadata": {},
      "outputs": [
        {
          "data": {
            "text/plain": [
              "487"
            ]
          },
          "execution_count": 424,
          "metadata": {},
          "output_type": "execute_result"
        }
      ],
      "source": [
        "# Qtd Total T. C.\n",
        "qttc = terceiraClasse.shape[0]\n",
        "qttc"
      ]
    },
    {
      "cell_type": "code",
      "execution_count": 425,
      "metadata": {},
      "outputs": [
        {
          "data": {
            "text/plain": [
              "119"
            ]
          },
          "execution_count": 425,
          "metadata": {},
          "output_type": "execute_result"
        }
      ],
      "source": [
        "#Sobreviventes TC\n",
        "qtdSobTC = terceiraClasse[terceiraClasse['Survived'] == 1].shape[0]\n",
        "qtdSobTC"
      ]
    },
    {
      "cell_type": "code",
      "execution_count": 455,
      "metadata": {},
      "outputs": [
        {
          "name": "stdout",
          "output_type": "stream",
          "text": [
            "Respondendo à pergunta inicial.\n",
            "\n",
            "Temos um total de 887 pessoas no navio, divididos de tal forma:\n",
            "1a Classe - 216 \n",
            "2a Classe - 184\n",
            "3a Classe - 487\n",
            "\n",
            "Podemos observar que existem muito mais pessoas na terceira classe.\n",
            "Somando a 1 e 2 Classes, temos menos que na terceira: 400 pessoas, contra 487.\n",
            "\n",
            "Com isso em mente, sabemos que apenas 24.0% da Terceira classe sobreviveu,\n",
            "totalizando 119 pessoas.\n",
            "\n",
            "Já na primeira classe, onde o total da população é de 44.35% em relação à Terceira Classe (menos da metade)\n",
            "observamos que 63.0% dos passageiros foram embarcados nos botes, totalizando 136 pessoas.\n",
            "\n",
            "Em números absolutos, torna-se claro que muito mais pessoas da primeira classe embarcaram.\n",
            "Teria sido devido ao valor $$$ que pagaram? Ou apenas sorte, mais pessoas desta classe estavam mais próximas aos botes na hora?\n",
            "\n"
          ]
        }
      ],
      "source": [
        "print('''Respondendo à pergunta inicial.\n",
        "\n",
        "Temos um total de {} pessoas no navio, divididos de tal forma:\n",
        "1a Classe - {} \n",
        "2a Classe - {}\n",
        "3a Classe - {}\n",
        "\n",
        "Podemos observar que existem muito mais pessoas na terceira classe.\n",
        "Somando a 1 e 2 Classes, temos menos que na terceira: {} pessoas, contra {}.\n",
        "\n",
        "Com isso em mente, sabemos que apenas {}% da Terceira classe sobreviveu,\n",
        "totalizando {} pessoas.\n",
        "\n",
        "Já na primeira classe, onde o total da população é de {:.2f}% em relação à Terceira Classe (menos da metade)\n",
        "observamos que {}% dos passageiros foram embarcados nos botes, totalizando {} pessoas.\n",
        "\n",
        "Em números absolutos, torna-se claro que muito mais pessoas da primeira classe embarcaram.\n",
        "'''.format((qtpc + qtsc + qttc), qtpc, \n",
        "            qtsc, qttc,(qtpc+qtsc),qttc, \n",
        "            (pstc), qtdSobTC, (qtpc*100/qttc),\n",
        "            pspc, qtdSobPC ))"
      ]
    },
    {
      "cell_type": "code",
      "execution_count": 460,
      "metadata": {},
      "outputs": [],
      "source": [
        "# Continuar acima \n",
        "# + https://courses.bowdoin.edu/history-2203-fall-2020-kmoyniha/reflection/#:~:text=First%20class%20passengers%20had%20the,survived%20(Takis%2C%201999)."
      ]
    },
    {
      "cell_type": "markdown",
      "metadata": {
        "id": "SCpbKzdaTX8a"
      },
      "source": [
        "## Geral"
      ]
    },
    {
      "cell_type": "code",
      "execution_count": 427,
      "metadata": {
        "id": "8Bizx5HTTX8b",
        "outputId": "a2b6d491-8a5a-4fdb-9c36-4f5623180bf9"
      },
      "outputs": [
        {
          "data": {
            "text/plain": [
              "count    342.000000\n",
              "mean      48.399708\n",
              "std       66.594968\n",
              "min        0.000000\n",
              "25%       12.500000\n",
              "50%       26.000000\n",
              "75%       57.000000\n",
              "max      512.300000\n",
              "Name: Fare, dtype: float64"
            ]
          },
          "execution_count": 427,
          "metadata": {},
          "output_type": "execute_result"
        }
      ],
      "source": [
        "sobreviventes = titanic[titanic['Survived'] == 1]\n",
        "pagantes = sobreviventes['Fare'].describe()\n",
        "pagantes"
      ]
    },
    {
      "cell_type": "code",
      "execution_count": 459,
      "metadata": {},
      "outputs": [
        {
          "data": {
            "text/plain": [
              "0    1\n",
              "dtype: int64"
            ]
          },
          "execution_count": 459,
          "metadata": {},
          "output_type": "execute_result"
        }
      ],
      "source": [
        "\n",
        "sobreviventes['Pclass'].mode()"
      ]
    },
    {
      "cell_type": "markdown",
      "metadata": {
        "id": "UN7Y5L9dTX8b"
      },
      "source": [
        "### Sobrev. min. Fare"
      ]
    },
    {
      "cell_type": "code",
      "execution_count": 198,
      "metadata": {
        "id": "q4Z24Nu1TX8b",
        "outputId": "26fabf78-8c10-4c82-fce3-a94ecd254f07"
      },
      "outputs": [
        {
          "data": {
            "text/html": [
              "<div>\n",
              "<style scoped>\n",
              "    .dataframe tbody tr th:only-of-type {\n",
              "        vertical-align: middle;\n",
              "    }\n",
              "\n",
              "    .dataframe tbody tr th {\n",
              "        vertical-align: top;\n",
              "    }\n",
              "\n",
              "    .dataframe thead th {\n",
              "        text-align: right;\n",
              "    }\n",
              "</style>\n",
              "<table border=\"1\" class=\"dataframe\">\n",
              "  <thead>\n",
              "    <tr style=\"text-align: right;\">\n",
              "      <th></th>\n",
              "      <th>Survived</th>\n",
              "      <th>Pclass</th>\n",
              "      <th>Name</th>\n",
              "      <th>Sex</th>\n",
              "      <th>Age</th>\n",
              "      <th>Siblings/Spouses Aboard</th>\n",
              "      <th>Parents/Children Aboard</th>\n",
              "      <th>Fare</th>\n",
              "    </tr>\n",
              "  </thead>\n",
              "  <tbody>\n",
              "    <tr>\n",
              "      <th>269</th>\n",
              "      <td>1</td>\n",
              "      <td>3</td>\n",
              "      <td>Mr. William Henry Tornquist</td>\n",
              "      <td>male</td>\n",
              "      <td>25.0</td>\n",
              "      <td>0</td>\n",
              "      <td>0</td>\n",
              "      <td>0.0</td>\n",
              "    </tr>\n",
              "  </tbody>\n",
              "</table>\n",
              "</div>"
            ],
            "text/plain": [
              "     Survived  Pclass                         Name   Sex   Age  \\\n",
              "269         1       3  Mr. William Henry Tornquist  male  25.0   \n",
              "\n",
              "     Siblings/Spouses Aboard  Parents/Children Aboard  Fare  \n",
              "269                        0                        0   0.0  "
            ]
          },
          "execution_count": 198,
          "metadata": {},
          "output_type": "execute_result"
        }
      ],
      "source": [
        "# Verificando o valor min da passagem dos sobreviventes. Fora ele que pagou 0, a tarifa mais barata começa a ser a partir de £ 7. Bate com o preço minimo médio verificado\n",
        "# William trabalhava como marinheiro e havia acabado um trabalho na Europa. Foi enviado de volta ao porto de NY no titanic.\n",
        "sobreviventes[sobreviventes['Fare'] == 0]\n",
        "# https://www.encyclopedia-titanica.org/titanic-survivor/william-henry-tornquist.html"
      ]
    },
    {
      "cell_type": "markdown",
      "metadata": {
        "id": "SGj2-J94TX8b"
      },
      "source": [
        "_____"
      ]
    },
    {
      "cell_type": "markdown",
      "metadata": {
        "id": "Z5QkeAybTX8c"
      },
      "source": [
        "### Preco alto classe baixa"
      ]
    },
    {
      "cell_type": "markdown",
      "metadata": {
        "id": "Lt7zUqm2TX8c"
      },
      "source": [
        "Considerando o grupo de pessoas que sobreviveu, há pessoas que pagaram um alto valor de embarque, mas não estavam na primeira classe.\n",
        "\n",
        "Deste grupo de 7 pessoas, haviam duas irmãs e cinco chineses que estavam a bordo do titanic.\n",
        "\n",
        "\n",
        "O preço alto explicou-se depois:\n",
        "> Os chineses dividiam o quarto, então sua \"Fare\" foi conjunta, fazendo com que parecesse que cada um deles pagou 56.5\n",
        "\n",
        "> O mesmo vale para a família Sage, composta por 8 integrantes, onde o valor em cada integrante ficou como o valor total.\n"
      ]
    },
    {
      "cell_type": "code",
      "execution_count": 199,
      "metadata": {
        "id": "ZMsQ147XTX8c",
        "outputId": "49c13f85-e80e-49c3-f6cf-aefbb85c274b"
      },
      "outputs": [
        {
          "data": {
            "text/plain": [
              "'21 pessoas que pagaram embarques acima de £ 50 nao estavam na 1a Classe '"
            ]
          },
          "execution_count": 199,
          "metadata": {},
          "output_type": "execute_result"
        }
      ],
      "source": [
        "a = titanic[(titanic[\"Fare\"] > 50) & (titanic[\"Pclass\"] > 1)].shape[0]\n",
        "f'{titanic[(titanic[\"Fare\"] > 50) & (titanic[\"Pclass\"] > 1)].shape[0]} pessoas que pagaram embarques acima de £ 50 nao estavam na 1a Classe '"
      ]
    },
    {
      "cell_type": "code",
      "execution_count": 200,
      "metadata": {
        "id": "5fmSct0lTX8c",
        "outputId": "6182c774-a1a5-4328-db09-d548662dc03d"
      },
      "outputs": [
        {
          "data": {
            "text/plain": [
              "'139 pessoas que pagaram embarques acima de £ 50 e estavam na 1a Classe '"
            ]
          },
          "execution_count": 200,
          "metadata": {},
          "output_type": "execute_result"
        }
      ],
      "source": [
        "b = titanic[(titanic[\"Fare\"] > 50) & (titanic[\"Pclass\"] == 1)].shape[0]\n",
        "f'{titanic[(titanic[\"Fare\"] > 50) & (titanic[\"Pclass\"] == 1)].shape[0]} pessoas que pagaram embarques acima de £ 50 e estavam na 1a Classe '"
      ]
    },
    {
      "cell_type": "code",
      "execution_count": 201,
      "metadata": {
        "id": "8qy7CnndTX8c",
        "outputId": "5c0a5ef5-b416-4769-e0a7-d1b3cc02ba88"
      },
      "outputs": [
        {
          "data": {
            "text/plain": [
              "'Considerando um total de 160 pessoas que pagaram acima de £ 50, 21 parece ser um número expressivo. Por que não estavam na 1a?'"
            ]
          },
          "execution_count": 201,
          "metadata": {},
          "output_type": "execute_result"
        }
      ],
      "source": [
        "f'Considerando um total de {a + b} pessoas que pagaram acima de £ 50, {a} parece ser um número expressivo. Por que não estavam na 1a?'"
      ]
    },
    {
      "cell_type": "code",
      "execution_count": 202,
      "metadata": {
        "id": "u57k7E4STX8d",
        "outputId": "9ed37c3a-9f34-4357-f116-660ab29c520e"
      },
      "outputs": [
        {
          "name": "stdout",
          "output_type": "stream",
          "text": [
            "Puxando a lista dessas 21 pessoas.\n"
          ]
        },
        {
          "data": {
            "text/html": [
              "<div>\n",
              "<style scoped>\n",
              "    .dataframe tbody tr th:only-of-type {\n",
              "        vertical-align: middle;\n",
              "    }\n",
              "\n",
              "    .dataframe tbody tr th {\n",
              "        vertical-align: top;\n",
              "    }\n",
              "\n",
              "    .dataframe thead th {\n",
              "        text-align: right;\n",
              "    }\n",
              "</style>\n",
              "<table border=\"1\" class=\"dataframe\">\n",
              "  <thead>\n",
              "    <tr style=\"text-align: right;\">\n",
              "      <th></th>\n",
              "      <th>Survived</th>\n",
              "      <th>Pclass</th>\n",
              "      <th>Name</th>\n",
              "      <th>Sex</th>\n",
              "      <th>Age</th>\n",
              "      <th>Siblings/Spouses Aboard</th>\n",
              "      <th>Parents/Children Aboard</th>\n",
              "      <th>Fare</th>\n",
              "    </tr>\n",
              "  </thead>\n",
              "  <tbody>\n",
              "    <tr>\n",
              "      <th>71</th>\n",
              "      <td>0</td>\n",
              "      <td>2</td>\n",
              "      <td>Mr. Ambrose Jr Hood</td>\n",
              "      <td>male</td>\n",
              "      <td>21.0</td>\n",
              "      <td>0</td>\n",
              "      <td>0</td>\n",
              "      <td>73.5</td>\n",
              "    </tr>\n",
              "    <tr>\n",
              "      <th>73</th>\n",
              "      <td>1</td>\n",
              "      <td>3</td>\n",
              "      <td>Mr. Lee Bing</td>\n",
              "      <td>male</td>\n",
              "      <td>32.0</td>\n",
              "      <td>0</td>\n",
              "      <td>0</td>\n",
              "      <td>56.5</td>\n",
              "    </tr>\n",
              "    <tr>\n",
              "      <th>119</th>\n",
              "      <td>0</td>\n",
              "      <td>2</td>\n",
              "      <td>Mr. Stanley George Hickman</td>\n",
              "      <td>male</td>\n",
              "      <td>21.0</td>\n",
              "      <td>2</td>\n",
              "      <td>0</td>\n",
              "      <td>73.5</td>\n",
              "    </tr>\n",
              "  </tbody>\n",
              "</table>\n",
              "</div>"
            ],
            "text/plain": [
              "     Survived  Pclass                        Name   Sex   Age  \\\n",
              "71          0       2         Mr. Ambrose Jr Hood  male  21.0   \n",
              "73          1       3                Mr. Lee Bing  male  32.0   \n",
              "119         0       2  Mr. Stanley George Hickman  male  21.0   \n",
              "\n",
              "     Siblings/Spouses Aboard  Parents/Children Aboard  Fare  \n",
              "71                         0                        0  73.5  \n",
              "73                         0                        0  56.5  \n",
              "119                        2                        0  73.5  "
            ]
          },
          "execution_count": 202,
          "metadata": {},
          "output_type": "execute_result"
        }
      ],
      "source": [
        "print(f'Puxando a lista dessas {a} pessoas.')\n",
        "objetoEstudo = titanic[(titanic['Fare'] > 50) & (titanic['Pclass'] > 1)]\n",
        "objetoEstudo.head(3)"
      ]
    },
    {
      "cell_type": "code",
      "execution_count": 203,
      "metadata": {
        "id": "xy1ZDVPeTX8d",
        "outputId": "21eb126e-2562-420c-f8a4-f7a2cb399848"
      },
      "outputs": [
        {
          "data": {
            "text/plain": [
              "7"
            ]
          },
          "execution_count": 203,
          "metadata": {},
          "output_type": "execute_result"
        }
      ],
      "source": [
        "# Podemos observar que existem várias pessoa de uma mesma família, correspondentes aos números 8 repetidos de \"irmãos/esposo\". \n",
        "# Confirmamos isso pelos sobrenomes. A tarifa de 69.5 foi por pessoa? ou para a família toda?\n",
        "sageNum = titanic[titanic['Name'].str.contains('Sage$')].shape[0]\n",
        "sageNum"
      ]
    },
    {
      "cell_type": "code",
      "execution_count": 204,
      "metadata": {
        "id": "oO54O965TX8d",
        "outputId": "aeae4784-be12-458c-bcc4-08f721e428a7"
      },
      "outputs": [
        {
          "data": {
            "text/html": [
              "<div>\n",
              "<style scoped>\n",
              "    .dataframe tbody tr th:only-of-type {\n",
              "        vertical-align: middle;\n",
              "    }\n",
              "\n",
              "    .dataframe tbody tr th {\n",
              "        vertical-align: top;\n",
              "    }\n",
              "\n",
              "    .dataframe thead th {\n",
              "        text-align: right;\n",
              "    }\n",
              "</style>\n",
              "<table border=\"1\" class=\"dataframe\">\n",
              "  <thead>\n",
              "    <tr style=\"text-align: right;\">\n",
              "      <th></th>\n",
              "      <th>Survived</th>\n",
              "      <th>Pclass</th>\n",
              "      <th>Name</th>\n",
              "      <th>Sex</th>\n",
              "      <th>Age</th>\n",
              "      <th>Siblings/Spouses Aboard</th>\n",
              "      <th>Parents/Children Aboard</th>\n",
              "      <th>Fare</th>\n",
              "    </tr>\n",
              "  </thead>\n",
              "  <tbody>\n",
              "    <tr>\n",
              "      <th>158</th>\n",
              "      <td>0</td>\n",
              "      <td>3</td>\n",
              "      <td>Master. Thomas Henry Sage</td>\n",
              "      <td>male</td>\n",
              "      <td>5.0</td>\n",
              "      <td>8</td>\n",
              "      <td>2</td>\n",
              "      <td>69.5</td>\n",
              "    </tr>\n",
              "    <tr>\n",
              "      <th>179</th>\n",
              "      <td>0</td>\n",
              "      <td>3</td>\n",
              "      <td>Miss. Constance Gladys Sage</td>\n",
              "      <td>female</td>\n",
              "      <td>8.0</td>\n",
              "      <td>8</td>\n",
              "      <td>2</td>\n",
              "      <td>69.5</td>\n",
              "    </tr>\n",
              "    <tr>\n",
              "      <th>200</th>\n",
              "      <td>0</td>\n",
              "      <td>3</td>\n",
              "      <td>Mr. Frederick Sage</td>\n",
              "      <td>male</td>\n",
              "      <td>17.0</td>\n",
              "      <td>8</td>\n",
              "      <td>2</td>\n",
              "      <td>69.5</td>\n",
              "    </tr>\n",
              "    <tr>\n",
              "      <th>322</th>\n",
              "      <td>0</td>\n",
              "      <td>3</td>\n",
              "      <td>Mr. George John Jr Sage</td>\n",
              "      <td>male</td>\n",
              "      <td>20.0</td>\n",
              "      <td>8</td>\n",
              "      <td>2</td>\n",
              "      <td>69.5</td>\n",
              "    </tr>\n",
              "    <tr>\n",
              "      <th>788</th>\n",
              "      <td>0</td>\n",
              "      <td>3</td>\n",
              "      <td>Miss. Stella Anna Sage</td>\n",
              "      <td>female</td>\n",
              "      <td>21.0</td>\n",
              "      <td>8</td>\n",
              "      <td>2</td>\n",
              "      <td>69.5</td>\n",
              "    </tr>\n",
              "    <tr>\n",
              "      <th>842</th>\n",
              "      <td>0</td>\n",
              "      <td>3</td>\n",
              "      <td>Mr. Douglas Bullen Sage</td>\n",
              "      <td>male</td>\n",
              "      <td>18.0</td>\n",
              "      <td>8</td>\n",
              "      <td>2</td>\n",
              "      <td>69.5</td>\n",
              "    </tr>\n",
              "    <tr>\n",
              "      <th>859</th>\n",
              "      <td>0</td>\n",
              "      <td>3</td>\n",
              "      <td>Miss. Dorothy Edith Sage</td>\n",
              "      <td>female</td>\n",
              "      <td>14.0</td>\n",
              "      <td>8</td>\n",
              "      <td>2</td>\n",
              "      <td>69.5</td>\n",
              "    </tr>\n",
              "  </tbody>\n",
              "</table>\n",
              "</div>"
            ],
            "text/plain": [
              "     Survived  Pclass                         Name     Sex   Age  \\\n",
              "158         0       3    Master. Thomas Henry Sage    male   5.0   \n",
              "179         0       3  Miss. Constance Gladys Sage  female   8.0   \n",
              "200         0       3           Mr. Frederick Sage    male  17.0   \n",
              "322         0       3      Mr. George John Jr Sage    male  20.0   \n",
              "788         0       3       Miss. Stella Anna Sage  female  21.0   \n",
              "842         0       3      Mr. Douglas Bullen Sage    male  18.0   \n",
              "859         0       3     Miss. Dorothy Edith Sage  female  14.0   \n",
              "\n",
              "     Siblings/Spouses Aboard  Parents/Children Aboard  Fare  \n",
              "158                        8                        2  69.5  \n",
              "179                        8                        2  69.5  \n",
              "200                        8                        2  69.5  \n",
              "322                        8                        2  69.5  \n",
              "788                        8                        2  69.5  \n",
              "842                        8                        2  69.5  \n",
              "859                        8                        2  69.5  "
            ]
          },
          "execution_count": 204,
          "metadata": {},
          "output_type": "execute_result"
        }
      ],
      "source": [
        "sageFamily = titanic[titanic['Name'].str.contains('Sage$')]\n",
        "sageFamily"
      ]
    },
    {
      "cell_type": "code",
      "execution_count": 205,
      "metadata": {
        "id": "GhgS1kbsTX8d",
        "outputId": "70148201-f6bd-41df-e3cc-b10a63d4db29"
      },
      "outputs": [
        {
          "data": {
            "text/plain": [
              "9.928571428571429"
            ]
          },
          "execution_count": 205,
          "metadata": {},
          "output_type": "execute_result"
        }
      ],
      "source": [
        "# Titanic was a luxurious ship and tickets were expensive. \n",
        "# A third class ticket cost around £7 in 1912 which is nearly £800 in today's money.\n",
        "# A second class ticket cost around £13 or nearly £1500 today \n",
        "# and a first class ticket would have set you back a minimum of £30 or more than £3300 today.\n",
        "sageFamily['Fare'].iloc[0] / sageNum\n",
        "#Os Sage estavam na terceira classe. O valor 'Fare' correspondente a eles é em relação ao(s) quarto(s) completos."
      ]
    },
    {
      "cell_type": "code",
      "execution_count": 206,
      "metadata": {
        "id": "btws5CvNTX8d",
        "outputId": "d9abf6fd-765e-477f-a89a-26de311fe446"
      },
      "outputs": [
        {
          "name": "stdout",
          "output_type": "stream",
          "text": [
            "14 Numero dos pagantes acima de 50 que não eram da familia Sage\n"
          ]
        }
      ],
      "source": [
        "print(f'{a - sageNum} Numero dos pagantes acima de 50 que não eram da familia Sage')"
      ]
    },
    {
      "cell_type": "code",
      "execution_count": 207,
      "metadata": {
        "id": "fduF3NusTX8e",
        "outputId": "424b1e32-4d01-461b-dc4e-1bae0cc1090f"
      },
      "outputs": [
        {
          "name": "stderr",
          "output_type": "stream",
          "text": [
            "C:\\Users\\peyq\\AppData\\Roaming\\Python\\Python39\\site-packages\\pandas\\core\\frame.py:4901: SettingWithCopyWarning: \n",
            "A value is trying to be set on a copy of a slice from a DataFrame\n",
            "\n",
            "See the caveats in the documentation: https://pandas.pydata.org/pandas-docs/stable/user_guide/indexing.html#returning-a-view-versus-a-copy\n",
            "  return super().drop(\n"
          ]
        }
      ],
      "source": [
        "#Dropando os Sage do nosso objeto de estudos.\n",
        "objetoEstudo.drop(sageFamily.index, axis=0, inplace=True)"
      ]
    },
    {
      "cell_type": "code",
      "execution_count": 208,
      "metadata": {
        "id": "LGDrHB5ATX8e",
        "outputId": "7465e05f-bb83-4f8c-88b4-ee5029067a9e"
      },
      "outputs": [
        {
          "data": {
            "text/html": [
              "<div>\n",
              "<style scoped>\n",
              "    .dataframe tbody tr th:only-of-type {\n",
              "        vertical-align: middle;\n",
              "    }\n",
              "\n",
              "    .dataframe tbody tr th {\n",
              "        vertical-align: top;\n",
              "    }\n",
              "\n",
              "    .dataframe thead th {\n",
              "        text-align: right;\n",
              "    }\n",
              "</style>\n",
              "<table border=\"1\" class=\"dataframe\">\n",
              "  <thead>\n",
              "    <tr style=\"text-align: right;\">\n",
              "      <th></th>\n",
              "      <th>Survived</th>\n",
              "      <th>Pclass</th>\n",
              "      <th>Name</th>\n",
              "      <th>Sex</th>\n",
              "      <th>Age</th>\n",
              "      <th>Siblings/Spouses Aboard</th>\n",
              "      <th>Parents/Children Aboard</th>\n",
              "      <th>Fare</th>\n",
              "    </tr>\n",
              "  </thead>\n",
              "  <tbody>\n",
              "    <tr>\n",
              "      <th>71</th>\n",
              "      <td>0</td>\n",
              "      <td>2</td>\n",
              "      <td>Mr. Ambrose Jr Hood</td>\n",
              "      <td>male</td>\n",
              "      <td>21.0</td>\n",
              "      <td>0</td>\n",
              "      <td>0</td>\n",
              "      <td>73.5</td>\n",
              "    </tr>\n",
              "    <tr>\n",
              "      <th>73</th>\n",
              "      <td>1</td>\n",
              "      <td>3</td>\n",
              "      <td>Mr. Lee Bing</td>\n",
              "      <td>male</td>\n",
              "      <td>32.0</td>\n",
              "      <td>0</td>\n",
              "      <td>0</td>\n",
              "      <td>56.5</td>\n",
              "    </tr>\n",
              "    <tr>\n",
              "      <th>119</th>\n",
              "      <td>0</td>\n",
              "      <td>2</td>\n",
              "      <td>Mr. Stanley George Hickman</td>\n",
              "      <td>male</td>\n",
              "      <td>21.0</td>\n",
              "      <td>2</td>\n",
              "      <td>0</td>\n",
              "      <td>73.5</td>\n",
              "    </tr>\n",
              "    <tr>\n",
              "      <th>168</th>\n",
              "      <td>0</td>\n",
              "      <td>3</td>\n",
              "      <td>Mr. Lee Ling</td>\n",
              "      <td>male</td>\n",
              "      <td>28.0</td>\n",
              "      <td>0</td>\n",
              "      <td>0</td>\n",
              "      <td>56.5</td>\n",
              "    </tr>\n",
              "    <tr>\n",
              "      <th>383</th>\n",
              "      <td>0</td>\n",
              "      <td>2</td>\n",
              "      <td>Mr. Charles Henry Davies</td>\n",
              "      <td>male</td>\n",
              "      <td>18.0</td>\n",
              "      <td>0</td>\n",
              "      <td>0</td>\n",
              "      <td>73.5</td>\n",
              "    </tr>\n",
              "    <tr>\n",
              "      <th>506</th>\n",
              "      <td>1</td>\n",
              "      <td>3</td>\n",
              "      <td>Mr. Fang Lang</td>\n",
              "      <td>male</td>\n",
              "      <td>26.0</td>\n",
              "      <td>0</td>\n",
              "      <td>0</td>\n",
              "      <td>56.5</td>\n",
              "    </tr>\n",
              "    <tr>\n",
              "      <th>612</th>\n",
              "      <td>1</td>\n",
              "      <td>2</td>\n",
              "      <td>Miss. Alice Herman</td>\n",
              "      <td>female</td>\n",
              "      <td>24.0</td>\n",
              "      <td>1</td>\n",
              "      <td>2</td>\n",
              "      <td>65.0</td>\n",
              "    </tr>\n",
              "    <tr>\n",
              "      <th>640</th>\n",
              "      <td>1</td>\n",
              "      <td>3</td>\n",
              "      <td>Mr. Choong Foo</td>\n",
              "      <td>male</td>\n",
              "      <td>32.0</td>\n",
              "      <td>0</td>\n",
              "      <td>0</td>\n",
              "      <td>56.5</td>\n",
              "    </tr>\n",
              "    <tr>\n",
              "      <th>652</th>\n",
              "      <td>0</td>\n",
              "      <td>2</td>\n",
              "      <td>Mr. Leonard Mark Hickman</td>\n",
              "      <td>male</td>\n",
              "      <td>24.0</td>\n",
              "      <td>2</td>\n",
              "      <td>0</td>\n",
              "      <td>73.5</td>\n",
              "    </tr>\n",
              "    <tr>\n",
              "      <th>662</th>\n",
              "      <td>0</td>\n",
              "      <td>2</td>\n",
              "      <td>Mr. Lewis Hickman</td>\n",
              "      <td>male</td>\n",
              "      <td>32.0</td>\n",
              "      <td>2</td>\n",
              "      <td>0</td>\n",
              "      <td>73.5</td>\n",
              "    </tr>\n",
              "    <tr>\n",
              "      <th>689</th>\n",
              "      <td>1</td>\n",
              "      <td>3</td>\n",
              "      <td>Mr. Ali Lam</td>\n",
              "      <td>male</td>\n",
              "      <td>37.0</td>\n",
              "      <td>0</td>\n",
              "      <td>0</td>\n",
              "      <td>56.5</td>\n",
              "    </tr>\n",
              "    <tr>\n",
              "      <th>750</th>\n",
              "      <td>1</td>\n",
              "      <td>2</td>\n",
              "      <td>Mrs. Samuel (Jane Laver) Herman</td>\n",
              "      <td>female</td>\n",
              "      <td>48.0</td>\n",
              "      <td>1</td>\n",
              "      <td>2</td>\n",
              "      <td>65.0</td>\n",
              "    </tr>\n",
              "    <tr>\n",
              "      <th>822</th>\n",
              "      <td>0</td>\n",
              "      <td>3</td>\n",
              "      <td>Mr. Len Lam</td>\n",
              "      <td>male</td>\n",
              "      <td>23.0</td>\n",
              "      <td>0</td>\n",
              "      <td>0</td>\n",
              "      <td>56.5</td>\n",
              "    </tr>\n",
              "    <tr>\n",
              "      <th>834</th>\n",
              "      <td>1</td>\n",
              "      <td>3</td>\n",
              "      <td>Mr. Chang Chip</td>\n",
              "      <td>male</td>\n",
              "      <td>32.0</td>\n",
              "      <td>0</td>\n",
              "      <td>0</td>\n",
              "      <td>56.5</td>\n",
              "    </tr>\n",
              "  </tbody>\n",
              "</table>\n",
              "</div>"
            ],
            "text/plain": [
              "     Survived  Pclass                             Name     Sex   Age  \\\n",
              "71          0       2              Mr. Ambrose Jr Hood    male  21.0   \n",
              "73          1       3                     Mr. Lee Bing    male  32.0   \n",
              "119         0       2       Mr. Stanley George Hickman    male  21.0   \n",
              "168         0       3                     Mr. Lee Ling    male  28.0   \n",
              "383         0       2         Mr. Charles Henry Davies    male  18.0   \n",
              "506         1       3                    Mr. Fang Lang    male  26.0   \n",
              "612         1       2               Miss. Alice Herman  female  24.0   \n",
              "640         1       3                   Mr. Choong Foo    male  32.0   \n",
              "652         0       2         Mr. Leonard Mark Hickman    male  24.0   \n",
              "662         0       2                Mr. Lewis Hickman    male  32.0   \n",
              "689         1       3                      Mr. Ali Lam    male  37.0   \n",
              "750         1       2  Mrs. Samuel (Jane Laver) Herman  female  48.0   \n",
              "822         0       3                      Mr. Len Lam    male  23.0   \n",
              "834         1       3                   Mr. Chang Chip    male  32.0   \n",
              "\n",
              "     Siblings/Spouses Aboard  Parents/Children Aboard  Fare  \n",
              "71                         0                        0  73.5  \n",
              "73                         0                        0  56.5  \n",
              "119                        2                        0  73.5  \n",
              "168                        0                        0  56.5  \n",
              "383                        0                        0  73.5  \n",
              "506                        0                        0  56.5  \n",
              "612                        1                        2  65.0  \n",
              "640                        0                        0  56.5  \n",
              "652                        2                        0  73.5  \n",
              "662                        2                        0  73.5  \n",
              "689                        0                        0  56.5  \n",
              "750                        1                        2  65.0  \n",
              "822                        0                        0  56.5  \n",
              "834                        0                        0  56.5  "
            ]
          },
          "execution_count": 208,
          "metadata": {},
          "output_type": "execute_result"
        }
      ],
      "source": [
        "objetoEstudo"
      ]
    },
    {
      "cell_type": "code",
      "execution_count": 209,
      "metadata": {
        "id": "YLj92jjFTX8e",
        "outputId": "988a4a13-02a8-48fe-e6dc-c816d13e94b0"
      },
      "outputs": [
        {
          "data": {
            "text/html": [
              "<div>\n",
              "<style scoped>\n",
              "    .dataframe tbody tr th:only-of-type {\n",
              "        vertical-align: middle;\n",
              "    }\n",
              "\n",
              "    .dataframe tbody tr th {\n",
              "        vertical-align: top;\n",
              "    }\n",
              "\n",
              "    .dataframe thead th {\n",
              "        text-align: right;\n",
              "    }\n",
              "</style>\n",
              "<table border=\"1\" class=\"dataframe\">\n",
              "  <thead>\n",
              "    <tr style=\"text-align: right;\">\n",
              "      <th></th>\n",
              "      <th>Survived</th>\n",
              "      <th>Pclass</th>\n",
              "      <th>Name</th>\n",
              "      <th>Sex</th>\n",
              "      <th>Age</th>\n",
              "      <th>Siblings/Spouses Aboard</th>\n",
              "      <th>Parents/Children Aboard</th>\n",
              "      <th>Fare</th>\n",
              "    </tr>\n",
              "  </thead>\n",
              "  <tbody>\n",
              "    <tr>\n",
              "      <th>119</th>\n",
              "      <td>0</td>\n",
              "      <td>2</td>\n",
              "      <td>Mr. Stanley George Hickman</td>\n",
              "      <td>male</td>\n",
              "      <td>21.0</td>\n",
              "      <td>2</td>\n",
              "      <td>0</td>\n",
              "      <td>73.5</td>\n",
              "    </tr>\n",
              "    <tr>\n",
              "      <th>652</th>\n",
              "      <td>0</td>\n",
              "      <td>2</td>\n",
              "      <td>Mr. Leonard Mark Hickman</td>\n",
              "      <td>male</td>\n",
              "      <td>24.0</td>\n",
              "      <td>2</td>\n",
              "      <td>0</td>\n",
              "      <td>73.5</td>\n",
              "    </tr>\n",
              "    <tr>\n",
              "      <th>662</th>\n",
              "      <td>0</td>\n",
              "      <td>2</td>\n",
              "      <td>Mr. Lewis Hickman</td>\n",
              "      <td>male</td>\n",
              "      <td>32.0</td>\n",
              "      <td>2</td>\n",
              "      <td>0</td>\n",
              "      <td>73.5</td>\n",
              "    </tr>\n",
              "  </tbody>\n",
              "</table>\n",
              "</div>"
            ],
            "text/plain": [
              "     Survived  Pclass                        Name   Sex   Age  \\\n",
              "119         0       2  Mr. Stanley George Hickman  male  21.0   \n",
              "652         0       2    Mr. Leonard Mark Hickman  male  24.0   \n",
              "662         0       2           Mr. Lewis Hickman  male  32.0   \n",
              "\n",
              "     Siblings/Spouses Aboard  Parents/Children Aboard  Fare  \n",
              "119                        2                        0  73.5  \n",
              "652                        2                        0  73.5  \n",
              "662                        2                        0  73.5  "
            ]
          },
          "execution_count": 209,
          "metadata": {},
          "output_type": "execute_result"
        }
      ],
      "source": [
        "# Podemos observar mais duas famílias: uma com 3 pessoas (1 + 2 'sibling/spouse') e outra com duas.\n",
        "# Os hickman e os herman.\n",
        "\n",
        "hickmanFamily = objetoEstudo[objetoEstudo['Name'].str.contains('Hickman$')]\n",
        "hermanFamily = objetoEstudo[objetoEstudo['Name'].str.contains('Herman$')]\n",
        "hickmanFamily"
      ]
    },
    {
      "cell_type": "code",
      "execution_count": 210,
      "metadata": {
        "id": "_nn6WjwZTX8e",
        "outputId": "69b144f1-0b05-413d-ad9e-288c344e247c"
      },
      "outputs": [
        {
          "data": {
            "text/plain": [
              "'Preço por pessoa para cada um dos 3 integrantes da familia Hickman: £ 24.5'"
            ]
          },
          "execution_count": 210,
          "metadata": {},
          "output_type": "execute_result"
        }
      ],
      "source": [
        "f'Preço por pessoa para cada um dos {hickmanFamily.shape[0]} integrantes da familia Hickman: £ {hickmanFamily.Fare.iloc[0] / hickmanFamily.shape[0]}'"
      ]
    },
    {
      "cell_type": "code",
      "execution_count": 211,
      "metadata": {
        "id": "Yk87cpKaTX8e",
        "outputId": "7cf54808-afd7-4d58-cac5-9f774c6eafa0"
      },
      "outputs": [
        {
          "data": {
            "text/plain": [
              "'Preço por pessoa para cada um dos 2 integrantes da familia Hickman: £ 32.5'"
            ]
          },
          "execution_count": 211,
          "metadata": {},
          "output_type": "execute_result"
        }
      ],
      "source": [
        "f'Preço por pessoa para cada um dos {hermanFamily.shape[0]} integrantes da familia Hickman: £ {hermanFamily.Fare.iloc[0] / hermanFamily.shape[0]}'"
      ]
    },
    {
      "cell_type": "code",
      "execution_count": 212,
      "metadata": {
        "id": "zGgXTat2TX8f"
      },
      "outputs": [
        {
          "name": "stderr",
          "output_type": "stream",
          "text": [
            "C:\\Users\\peyq\\AppData\\Roaming\\Python\\Python39\\site-packages\\pandas\\core\\frame.py:4901: SettingWithCopyWarning: \n",
            "A value is trying to be set on a copy of a slice from a DataFrame\n",
            "\n",
            "See the caveats in the documentation: https://pandas.pydata.org/pandas-docs/stable/user_guide/indexing.html#returning-a-view-versus-a-copy\n",
            "  return super().drop(\n"
          ]
        }
      ],
      "source": [
        "#objetoEstudo.drop(hickmanFamily.index, axis=0, inplace=True)\n",
        "objetoEstudo.drop(hermanFamily.index, axis=0, inplace=True)"
      ]
    },
    {
      "cell_type": "markdown",
      "metadata": {
        "id": "sgj83Pv8TX8f"
      },
      "source": [
        "<span style=\"color:cyan\">**Filtramos então a informação das pessoas que pagaram acima de 50, não estavam na primeira classe e não estavam acompanhados de família**</span>"
      ]
    },
    {
      "cell_type": "markdown",
      "metadata": {
        "id": "3qcXGaNQUmyD"
      },
      "source": [
        "*O filtro de família poderia ter sido realizado de maneira muito mais simples, na busca excluindo os resultados com siblings/spouses or parents/children maior que 0*"
      ]
    },
    {
      "cell_type": "code",
      "execution_count": 213,
      "metadata": {
        "id": "rhY3QUG-TX8f",
        "outputId": "5d856cfe-e3a8-4567-be38-c3b4f68bd349"
      },
      "outputs": [
        {
          "data": {
            "text/html": [
              "<div>\n",
              "<style scoped>\n",
              "    .dataframe tbody tr th:only-of-type {\n",
              "        vertical-align: middle;\n",
              "    }\n",
              "\n",
              "    .dataframe tbody tr th {\n",
              "        vertical-align: top;\n",
              "    }\n",
              "\n",
              "    .dataframe thead th {\n",
              "        text-align: right;\n",
              "    }\n",
              "</style>\n",
              "<table border=\"1\" class=\"dataframe\">\n",
              "  <thead>\n",
              "    <tr style=\"text-align: right;\">\n",
              "      <th></th>\n",
              "      <th>Survived</th>\n",
              "      <th>Pclass</th>\n",
              "      <th>Name</th>\n",
              "      <th>Sex</th>\n",
              "      <th>Age</th>\n",
              "      <th>Siblings/Spouses Aboard</th>\n",
              "      <th>Parents/Children Aboard</th>\n",
              "      <th>Fare</th>\n",
              "    </tr>\n",
              "  </thead>\n",
              "  <tbody>\n",
              "    <tr>\n",
              "      <th>71</th>\n",
              "      <td>0</td>\n",
              "      <td>2</td>\n",
              "      <td>Mr. Ambrose Jr Hood</td>\n",
              "      <td>male</td>\n",
              "      <td>21.0</td>\n",
              "      <td>0</td>\n",
              "      <td>0</td>\n",
              "      <td>73.5</td>\n",
              "    </tr>\n",
              "    <tr>\n",
              "      <th>73</th>\n",
              "      <td>1</td>\n",
              "      <td>3</td>\n",
              "      <td>Mr. Lee Bing</td>\n",
              "      <td>male</td>\n",
              "      <td>32.0</td>\n",
              "      <td>0</td>\n",
              "      <td>0</td>\n",
              "      <td>56.5</td>\n",
              "    </tr>\n",
              "    <tr>\n",
              "      <th>119</th>\n",
              "      <td>0</td>\n",
              "      <td>2</td>\n",
              "      <td>Mr. Stanley George Hickman</td>\n",
              "      <td>male</td>\n",
              "      <td>21.0</td>\n",
              "      <td>2</td>\n",
              "      <td>0</td>\n",
              "      <td>73.5</td>\n",
              "    </tr>\n",
              "    <tr>\n",
              "      <th>168</th>\n",
              "      <td>0</td>\n",
              "      <td>3</td>\n",
              "      <td>Mr. Lee Ling</td>\n",
              "      <td>male</td>\n",
              "      <td>28.0</td>\n",
              "      <td>0</td>\n",
              "      <td>0</td>\n",
              "      <td>56.5</td>\n",
              "    </tr>\n",
              "    <tr>\n",
              "      <th>383</th>\n",
              "      <td>0</td>\n",
              "      <td>2</td>\n",
              "      <td>Mr. Charles Henry Davies</td>\n",
              "      <td>male</td>\n",
              "      <td>18.0</td>\n",
              "      <td>0</td>\n",
              "      <td>0</td>\n",
              "      <td>73.5</td>\n",
              "    </tr>\n",
              "    <tr>\n",
              "      <th>506</th>\n",
              "      <td>1</td>\n",
              "      <td>3</td>\n",
              "      <td>Mr. Fang Lang</td>\n",
              "      <td>male</td>\n",
              "      <td>26.0</td>\n",
              "      <td>0</td>\n",
              "      <td>0</td>\n",
              "      <td>56.5</td>\n",
              "    </tr>\n",
              "    <tr>\n",
              "      <th>640</th>\n",
              "      <td>1</td>\n",
              "      <td>3</td>\n",
              "      <td>Mr. Choong Foo</td>\n",
              "      <td>male</td>\n",
              "      <td>32.0</td>\n",
              "      <td>0</td>\n",
              "      <td>0</td>\n",
              "      <td>56.5</td>\n",
              "    </tr>\n",
              "    <tr>\n",
              "      <th>652</th>\n",
              "      <td>0</td>\n",
              "      <td>2</td>\n",
              "      <td>Mr. Leonard Mark Hickman</td>\n",
              "      <td>male</td>\n",
              "      <td>24.0</td>\n",
              "      <td>2</td>\n",
              "      <td>0</td>\n",
              "      <td>73.5</td>\n",
              "    </tr>\n",
              "    <tr>\n",
              "      <th>662</th>\n",
              "      <td>0</td>\n",
              "      <td>2</td>\n",
              "      <td>Mr. Lewis Hickman</td>\n",
              "      <td>male</td>\n",
              "      <td>32.0</td>\n",
              "      <td>2</td>\n",
              "      <td>0</td>\n",
              "      <td>73.5</td>\n",
              "    </tr>\n",
              "    <tr>\n",
              "      <th>689</th>\n",
              "      <td>1</td>\n",
              "      <td>3</td>\n",
              "      <td>Mr. Ali Lam</td>\n",
              "      <td>male</td>\n",
              "      <td>37.0</td>\n",
              "      <td>0</td>\n",
              "      <td>0</td>\n",
              "      <td>56.5</td>\n",
              "    </tr>\n",
              "    <tr>\n",
              "      <th>822</th>\n",
              "      <td>0</td>\n",
              "      <td>3</td>\n",
              "      <td>Mr. Len Lam</td>\n",
              "      <td>male</td>\n",
              "      <td>23.0</td>\n",
              "      <td>0</td>\n",
              "      <td>0</td>\n",
              "      <td>56.5</td>\n",
              "    </tr>\n",
              "    <tr>\n",
              "      <th>834</th>\n",
              "      <td>1</td>\n",
              "      <td>3</td>\n",
              "      <td>Mr. Chang Chip</td>\n",
              "      <td>male</td>\n",
              "      <td>32.0</td>\n",
              "      <td>0</td>\n",
              "      <td>0</td>\n",
              "      <td>56.5</td>\n",
              "    </tr>\n",
              "  </tbody>\n",
              "</table>\n",
              "</div>"
            ],
            "text/plain": [
              "     Survived  Pclass                        Name   Sex   Age  \\\n",
              "71          0       2         Mr. Ambrose Jr Hood  male  21.0   \n",
              "73          1       3                Mr. Lee Bing  male  32.0   \n",
              "119         0       2  Mr. Stanley George Hickman  male  21.0   \n",
              "168         0       3                Mr. Lee Ling  male  28.0   \n",
              "383         0       2    Mr. Charles Henry Davies  male  18.0   \n",
              "506         1       3               Mr. Fang Lang  male  26.0   \n",
              "640         1       3              Mr. Choong Foo  male  32.0   \n",
              "652         0       2    Mr. Leonard Mark Hickman  male  24.0   \n",
              "662         0       2           Mr. Lewis Hickman  male  32.0   \n",
              "689         1       3                 Mr. Ali Lam  male  37.0   \n",
              "822         0       3                 Mr. Len Lam  male  23.0   \n",
              "834         1       3              Mr. Chang Chip  male  32.0   \n",
              "\n",
              "     Siblings/Spouses Aboard  Parents/Children Aboard  Fare  \n",
              "71                         0                        0  73.5  \n",
              "73                         0                        0  56.5  \n",
              "119                        2                        0  73.5  \n",
              "168                        0                        0  56.5  \n",
              "383                        0                        0  73.5  \n",
              "506                        0                        0  56.5  \n",
              "640                        0                        0  56.5  \n",
              "652                        2                        0  73.5  \n",
              "662                        2                        0  73.5  \n",
              "689                        0                        0  56.5  \n",
              "822                        0                        0  56.5  \n",
              "834                        0                        0  56.5  "
            ]
          },
          "execution_count": 213,
          "metadata": {},
          "output_type": "execute_result"
        }
      ],
      "source": [
        "objetoEstudo\n",
        "# While it has been alleged that some or all were stowaways on the Titanic, in fact all eight\n",
        "# boarded the Titanic at Southampton as fare-paying third class passengers. \n",
        "# Lee Bing, Chang Chip, Choong Foo, Ling Hee, Ali Lam, Len Lam, Fang Lang and Lee Ling travelled\n",
        "# together on the same ticket (ticket number 1601, £56 9s 11d). "
      ]
    },
    {
      "cell_type": "code",
      "execution_count": 214,
      "metadata": {
        "id": "NoQ-CXOETX8f",
        "outputId": "a352e405-f6f2-46c2-d944-6ce56a824ddf"
      },
      "outputs": [
        {
          "data": {
            "text/plain": [
              "12"
            ]
          },
          "execution_count": 214,
          "metadata": {},
          "output_type": "execute_result"
        }
      ],
      "source": [
        "objetoEstudo.shape[0]"
      ]
    },
    {
      "cell_type": "code",
      "execution_count": 215,
      "metadata": {
        "id": "W3VoqRvYTX8f",
        "outputId": "66100094-77af-4731-a6ba-cfb0e0bc4c22"
      },
      "outputs": [
        {
          "name": "stderr",
          "output_type": "stream",
          "text": [
            "C:\\Users\\peyq\\AppData\\Roaming\\Python\\Python39\\site-packages\\pandas\\core\\frame.py:4901: SettingWithCopyWarning: \n",
            "A value is trying to be set on a copy of a slice from a DataFrame\n",
            "\n",
            "See the caveats in the documentation: https://pandas.pydata.org/pandas-docs/stable/user_guide/indexing.html#returning-a-view-versus-a-copy\n",
            "  return super().drop(\n"
          ]
        }
      ],
      "source": [
        "objetoEstudo.drop(objetoEstudo[objetoEstudo['Fare'] != 56.5].index, axis=0, inplace=True )"
      ]
    },
    {
      "cell_type": "code",
      "execution_count": 216,
      "metadata": {
        "id": "GWNZwuoOTX8f",
        "outputId": "67a93c9d-f329-4bce-b98c-6d156a50d4a7"
      },
      "outputs": [
        {
          "data": {
            "text/html": [
              "<div>\n",
              "<style scoped>\n",
              "    .dataframe tbody tr th:only-of-type {\n",
              "        vertical-align: middle;\n",
              "    }\n",
              "\n",
              "    .dataframe tbody tr th {\n",
              "        vertical-align: top;\n",
              "    }\n",
              "\n",
              "    .dataframe thead th {\n",
              "        text-align: right;\n",
              "    }\n",
              "</style>\n",
              "<table border=\"1\" class=\"dataframe\">\n",
              "  <thead>\n",
              "    <tr style=\"text-align: right;\">\n",
              "      <th></th>\n",
              "      <th>Survived</th>\n",
              "      <th>Pclass</th>\n",
              "      <th>Name</th>\n",
              "      <th>Sex</th>\n",
              "      <th>Age</th>\n",
              "      <th>Siblings/Spouses Aboard</th>\n",
              "      <th>Parents/Children Aboard</th>\n",
              "      <th>Fare</th>\n",
              "    </tr>\n",
              "  </thead>\n",
              "  <tbody>\n",
              "    <tr>\n",
              "      <th>73</th>\n",
              "      <td>1</td>\n",
              "      <td>3</td>\n",
              "      <td>Mr. Lee Bing</td>\n",
              "      <td>male</td>\n",
              "      <td>32.0</td>\n",
              "      <td>0</td>\n",
              "      <td>0</td>\n",
              "      <td>56.5</td>\n",
              "    </tr>\n",
              "    <tr>\n",
              "      <th>168</th>\n",
              "      <td>0</td>\n",
              "      <td>3</td>\n",
              "      <td>Mr. Lee Ling</td>\n",
              "      <td>male</td>\n",
              "      <td>28.0</td>\n",
              "      <td>0</td>\n",
              "      <td>0</td>\n",
              "      <td>56.5</td>\n",
              "    </tr>\n",
              "    <tr>\n",
              "      <th>506</th>\n",
              "      <td>1</td>\n",
              "      <td>3</td>\n",
              "      <td>Mr. Fang Lang</td>\n",
              "      <td>male</td>\n",
              "      <td>26.0</td>\n",
              "      <td>0</td>\n",
              "      <td>0</td>\n",
              "      <td>56.5</td>\n",
              "    </tr>\n",
              "    <tr>\n",
              "      <th>640</th>\n",
              "      <td>1</td>\n",
              "      <td>3</td>\n",
              "      <td>Mr. Choong Foo</td>\n",
              "      <td>male</td>\n",
              "      <td>32.0</td>\n",
              "      <td>0</td>\n",
              "      <td>0</td>\n",
              "      <td>56.5</td>\n",
              "    </tr>\n",
              "    <tr>\n",
              "      <th>689</th>\n",
              "      <td>1</td>\n",
              "      <td>3</td>\n",
              "      <td>Mr. Ali Lam</td>\n",
              "      <td>male</td>\n",
              "      <td>37.0</td>\n",
              "      <td>0</td>\n",
              "      <td>0</td>\n",
              "      <td>56.5</td>\n",
              "    </tr>\n",
              "    <tr>\n",
              "      <th>822</th>\n",
              "      <td>0</td>\n",
              "      <td>3</td>\n",
              "      <td>Mr. Len Lam</td>\n",
              "      <td>male</td>\n",
              "      <td>23.0</td>\n",
              "      <td>0</td>\n",
              "      <td>0</td>\n",
              "      <td>56.5</td>\n",
              "    </tr>\n",
              "    <tr>\n",
              "      <th>834</th>\n",
              "      <td>1</td>\n",
              "      <td>3</td>\n",
              "      <td>Mr. Chang Chip</td>\n",
              "      <td>male</td>\n",
              "      <td>32.0</td>\n",
              "      <td>0</td>\n",
              "      <td>0</td>\n",
              "      <td>56.5</td>\n",
              "    </tr>\n",
              "  </tbody>\n",
              "</table>\n",
              "</div>"
            ],
            "text/plain": [
              "     Survived  Pclass            Name   Sex   Age  Siblings/Spouses Aboard  \\\n",
              "73          1       3    Mr. Lee Bing  male  32.0                        0   \n",
              "168         0       3    Mr. Lee Ling  male  28.0                        0   \n",
              "506         1       3   Mr. Fang Lang  male  26.0                        0   \n",
              "640         1       3  Mr. Choong Foo  male  32.0                        0   \n",
              "689         1       3     Mr. Ali Lam  male  37.0                        0   \n",
              "822         0       3     Mr. Len Lam  male  23.0                        0   \n",
              "834         1       3  Mr. Chang Chip  male  32.0                        0   \n",
              "\n",
              "     Parents/Children Aboard  Fare  \n",
              "73                         0  56.5  \n",
              "168                        0  56.5  \n",
              "506                        0  56.5  \n",
              "640                        0  56.5  \n",
              "689                        0  56.5  \n",
              "822                        0  56.5  \n",
              "834                        0  56.5  "
            ]
          },
          "execution_count": 216,
          "metadata": {},
          "output_type": "execute_result"
        }
      ],
      "source": [
        "objetoEstudo\n",
        "# Lee Bing\n",
        "# Lee Ling\n",
        "# Fang Lang\n",
        "# Choong foo\n",
        "# Ali lam\n",
        "# Len lam\n",
        "# Chang Chip\n",
        "\n",
        "#LING HEE - FALTA\n"
      ]
    },
    {
      "cell_type": "code",
      "execution_count": 217,
      "metadata": {
        "id": "al77jtGaTX8g",
        "outputId": "c70520f2-80d8-4c71-fa11-79ef8271573c"
      },
      "outputs": [
        {
          "data": {
            "text/html": [
              "<div>\n",
              "<style scoped>\n",
              "    .dataframe tbody tr th:only-of-type {\n",
              "        vertical-align: middle;\n",
              "    }\n",
              "\n",
              "    .dataframe tbody tr th {\n",
              "        vertical-align: top;\n",
              "    }\n",
              "\n",
              "    .dataframe thead th {\n",
              "        text-align: right;\n",
              "    }\n",
              "</style>\n",
              "<table border=\"1\" class=\"dataframe\">\n",
              "  <thead>\n",
              "    <tr style=\"text-align: right;\">\n",
              "      <th></th>\n",
              "      <th>Survived</th>\n",
              "      <th>Pclass</th>\n",
              "      <th>Name</th>\n",
              "      <th>Sex</th>\n",
              "      <th>Age</th>\n",
              "      <th>Siblings/Spouses Aboard</th>\n",
              "      <th>Parents/Children Aboard</th>\n",
              "      <th>Fare</th>\n",
              "    </tr>\n",
              "  </thead>\n",
              "  <tbody>\n",
              "  </tbody>\n",
              "</table>\n",
              "</div>"
            ],
            "text/plain": [
              "Empty DataFrame\n",
              "Columns: [Survived, Pclass, Name, Sex, Age, Siblings/Spouses Aboard, Parents/Children Aboard, Fare]\n",
              "Index: []"
            ]
          },
          "execution_count": 217,
          "metadata": {},
          "output_type": "execute_result"
        }
      ],
      "source": [
        "titanic[titanic['Name'].str.contains('Hee')] # O nome Ling Hee apesar de ser mencionado em alguns lugares na internet não nos retorna nada."
      ]
    },
    {
      "cell_type": "code",
      "execution_count": 218,
      "metadata": {
        "id": "-uDhQjKJTX8g",
        "outputId": "764e07f1-28ce-4024-ae7e-db071c650376"
      },
      "outputs": [
        {
          "data": {
            "text/plain": [
              "'£ 8.07 foi o preco pago por cada um dos 7 chineses'"
            ]
          },
          "execution_count": 218,
          "metadata": {},
          "output_type": "execute_result"
        }
      ],
      "source": [
        "# Sem considerar o Ling Hee:\n",
        "f\"£ {(objetoEstudo.Fare.iloc[0] / objetoEstudo.shape[0]).round(2)} foi o preco pago por cada um dos {objetoEstudo.shape[0]} chineses\""
      ]
    },
    {
      "cell_type": "code",
      "execution_count": 219,
      "metadata": {
        "id": "ope3ewM3TX8g",
        "outputId": "71015f4d-c458-4e99-b08f-3e61f02c4a4d"
      },
      "outputs": [
        {
          "data": {
            "text/plain": [
              "'Usando isso como base, e acrescentando um (LING HEE), temos quase exatamente esse preco: £ 7.06'"
            ]
          },
          "execution_count": 219,
          "metadata": {},
          "output_type": "execute_result"
        }
      ],
      "source": [
        "# Considerando o Ling Hee\n",
        "# A third class ticket cost around £7 in 1912 which is nearly £800 in today's money.\n",
        "f'Usando isso como base, e acrescentando um (LING HEE), temos quase exatamente esse preco: £ {(objetoEstudo.Fare.iloc[0] / (objetoEstudo.shape[0] + 1)).round(2)}'"
      ]
    },
    {
      "cell_type": "code",
      "execution_count": 220,
      "metadata": {
        "id": "gFO6SStJTX8g"
      },
      "outputs": [],
      "source": [
        "# Conclusão : O \"Fare\" leva em conta todos que estavam dividindo o quarto, sejam família ou não.\n",
        "# Os valores representados pelo Fare não estão individualmente corretos sempre. \n",
        "# (como descobrir quais estão? ~> Uma parte pode agrupar por familia//[Nem todos que dividiram a tarifa são familiares, como no exemplo dos chineses] ...)\n"
      ]
    },
    {
      "cell_type": "markdown",
      "metadata": {
        "id": "__Fn2d9nTX8g"
      },
      "source": [
        "_______"
      ]
    },
    {
      "cell_type": "markdown",
      "metadata": {
        "id": "t2fLMpa-TX8g"
      },
      "source": [
        "## Menores"
      ]
    },
    {
      "cell_type": "code",
      "execution_count": 221,
      "metadata": {
        "id": "3PXnFc3wTX8g",
        "outputId": "bc7f26c6-1c01-4a09-d780-a62ae59bf351"
      },
      "outputs": [
        {
          "data": {
            "text/html": [
              "<div>\n",
              "<style scoped>\n",
              "    .dataframe tbody tr th:only-of-type {\n",
              "        vertical-align: middle;\n",
              "    }\n",
              "\n",
              "    .dataframe tbody tr th {\n",
              "        vertical-align: top;\n",
              "    }\n",
              "\n",
              "    .dataframe thead th {\n",
              "        text-align: right;\n",
              "    }\n",
              "</style>\n",
              "<table border=\"1\" class=\"dataframe\">\n",
              "  <thead>\n",
              "    <tr style=\"text-align: right;\">\n",
              "      <th></th>\n",
              "      <th>Survived</th>\n",
              "      <th>Pclass</th>\n",
              "      <th>Name</th>\n",
              "      <th>Sex</th>\n",
              "      <th>Age</th>\n",
              "      <th>Siblings/Spouses Aboard</th>\n",
              "      <th>Parents/Children Aboard</th>\n",
              "      <th>Fare</th>\n",
              "    </tr>\n",
              "  </thead>\n",
              "  <tbody>\n",
              "    <tr>\n",
              "      <th>7</th>\n",
              "      <td>0</td>\n",
              "      <td>3</td>\n",
              "      <td>Master. Gosta Leonard Palsson</td>\n",
              "      <td>male</td>\n",
              "      <td>2.0</td>\n",
              "      <td>3</td>\n",
              "      <td>1</td>\n",
              "      <td>21.1</td>\n",
              "    </tr>\n",
              "    <tr>\n",
              "      <th>9</th>\n",
              "      <td>1</td>\n",
              "      <td>2</td>\n",
              "      <td>Mrs. Nicholas (Adele Achem) Nasser</td>\n",
              "      <td>female</td>\n",
              "      <td>14.0</td>\n",
              "      <td>1</td>\n",
              "      <td>0</td>\n",
              "      <td>30.1</td>\n",
              "    </tr>\n",
              "    <tr>\n",
              "      <th>10</th>\n",
              "      <td>1</td>\n",
              "      <td>3</td>\n",
              "      <td>Miss. Marguerite Rut Sandstrom</td>\n",
              "      <td>female</td>\n",
              "      <td>4.0</td>\n",
              "      <td>1</td>\n",
              "      <td>1</td>\n",
              "      <td>16.7</td>\n",
              "    </tr>\n",
              "    <tr>\n",
              "      <th>14</th>\n",
              "      <td>0</td>\n",
              "      <td>3</td>\n",
              "      <td>Miss. Hulda Amanda Adolfina Vestrom</td>\n",
              "      <td>female</td>\n",
              "      <td>14.0</td>\n",
              "      <td>0</td>\n",
              "      <td>0</td>\n",
              "      <td>7.9</td>\n",
              "    </tr>\n",
              "    <tr>\n",
              "      <th>16</th>\n",
              "      <td>0</td>\n",
              "      <td>3</td>\n",
              "      <td>Master. Eugene Rice</td>\n",
              "      <td>male</td>\n",
              "      <td>2.0</td>\n",
              "      <td>4</td>\n",
              "      <td>1</td>\n",
              "      <td>29.1</td>\n",
              "    </tr>\n",
              "    <tr>\n",
              "      <th>...</th>\n",
              "      <td>...</td>\n",
              "      <td>...</td>\n",
              "      <td>...</td>\n",
              "      <td>...</td>\n",
              "      <td>...</td>\n",
              "      <td>...</td>\n",
              "      <td>...</td>\n",
              "      <td>...</td>\n",
              "    </tr>\n",
              "    <tr>\n",
              "      <th>849</th>\n",
              "      <td>1</td>\n",
              "      <td>1</td>\n",
              "      <td>Miss. Mary Conover Lines</td>\n",
              "      <td>female</td>\n",
              "      <td>16.0</td>\n",
              "      <td>0</td>\n",
              "      <td>1</td>\n",
              "      <td>39.4</td>\n",
              "    </tr>\n",
              "    <tr>\n",
              "      <th>859</th>\n",
              "      <td>0</td>\n",
              "      <td>3</td>\n",
              "      <td>Miss. Dorothy Edith Sage</td>\n",
              "      <td>female</td>\n",
              "      <td>14.0</td>\n",
              "      <td>8</td>\n",
              "      <td>2</td>\n",
              "      <td>69.5</td>\n",
              "    </tr>\n",
              "    <tr>\n",
              "      <th>865</th>\n",
              "      <td>1</td>\n",
              "      <td>3</td>\n",
              "      <td>Master. Harold Theodor Johnson</td>\n",
              "      <td>male</td>\n",
              "      <td>4.0</td>\n",
              "      <td>1</td>\n",
              "      <td>1</td>\n",
              "      <td>11.1</td>\n",
              "    </tr>\n",
              "    <tr>\n",
              "      <th>871</th>\n",
              "      <td>1</td>\n",
              "      <td>3</td>\n",
              "      <td>Miss. Adele Kiamie Najib</td>\n",
              "      <td>female</td>\n",
              "      <td>15.0</td>\n",
              "      <td>0</td>\n",
              "      <td>0</td>\n",
              "      <td>7.2</td>\n",
              "    </tr>\n",
              "    <tr>\n",
              "      <th>884</th>\n",
              "      <td>0</td>\n",
              "      <td>3</td>\n",
              "      <td>Miss. Catherine Helen Johnston</td>\n",
              "      <td>female</td>\n",
              "      <td>7.0</td>\n",
              "      <td>1</td>\n",
              "      <td>2</td>\n",
              "      <td>23.4</td>\n",
              "    </tr>\n",
              "  </tbody>\n",
              "</table>\n",
              "<p>130 rows × 8 columns</p>\n",
              "</div>"
            ],
            "text/plain": [
              "     Survived  Pclass                                 Name     Sex   Age  \\\n",
              "7           0       3        Master. Gosta Leonard Palsson    male   2.0   \n",
              "9           1       2   Mrs. Nicholas (Adele Achem) Nasser  female  14.0   \n",
              "10          1       3       Miss. Marguerite Rut Sandstrom  female   4.0   \n",
              "14          0       3  Miss. Hulda Amanda Adolfina Vestrom  female  14.0   \n",
              "16          0       3                  Master. Eugene Rice    male   2.0   \n",
              "..        ...     ...                                  ...     ...   ...   \n",
              "849         1       1             Miss. Mary Conover Lines  female  16.0   \n",
              "859         0       3             Miss. Dorothy Edith Sage  female  14.0   \n",
              "865         1       3       Master. Harold Theodor Johnson    male   4.0   \n",
              "871         1       3             Miss. Adele Kiamie Najib  female  15.0   \n",
              "884         0       3       Miss. Catherine Helen Johnston  female   7.0   \n",
              "\n",
              "     Siblings/Spouses Aboard  Parents/Children Aboard  Fare  \n",
              "7                          3                        1  21.1  \n",
              "9                          1                        0  30.1  \n",
              "10                         1                        1  16.7  \n",
              "14                         0                        0   7.9  \n",
              "16                         4                        1  29.1  \n",
              "..                       ...                      ...   ...  \n",
              "849                        0                        1  39.4  \n",
              "859                        8                        2  69.5  \n",
              "865                        1                        1  11.1  \n",
              "871                        0                        0   7.2  \n",
              "884                        1                        2  23.4  \n",
              "\n",
              "[130 rows x 8 columns]"
            ]
          },
          "execution_count": 221,
          "metadata": {},
          "output_type": "execute_result"
        }
      ],
      "source": [
        "#Temos 130 registros de pessoas com menos de 18 anos a bordo.\n",
        "titanic.loc[titanic['Age']<18]"
      ]
    },
    {
      "cell_type": "markdown",
      "metadata": {
        "id": "qJvsIHoETX8h"
      },
      "source": [
        "Menores Desacompanhados"
      ]
    },
    {
      "cell_type": "code",
      "execution_count": 222,
      "metadata": {
        "id": "G7amtRfSTX8h",
        "outputId": "b3004281-3818-4aff-9f44-b6538fc39cad"
      },
      "outputs": [
        {
          "name": "stdout",
          "output_type": "stream",
          "text": [
            "27\n"
          ]
        },
        {
          "data": {
            "text/html": [
              "<div>\n",
              "<style scoped>\n",
              "    .dataframe tbody tr th:only-of-type {\n",
              "        vertical-align: middle;\n",
              "    }\n",
              "\n",
              "    .dataframe tbody tr th {\n",
              "        vertical-align: top;\n",
              "    }\n",
              "\n",
              "    .dataframe thead th {\n",
              "        text-align: right;\n",
              "    }\n",
              "</style>\n",
              "<table border=\"1\" class=\"dataframe\">\n",
              "  <thead>\n",
              "    <tr style=\"text-align: right;\">\n",
              "      <th></th>\n",
              "      <th>Survived</th>\n",
              "      <th>Pclass</th>\n",
              "      <th>Age</th>\n",
              "      <th>Siblings/Spouses Aboard</th>\n",
              "      <th>Parents/Children Aboard</th>\n",
              "      <th>Fare</th>\n",
              "    </tr>\n",
              "  </thead>\n",
              "  <tbody>\n",
              "    <tr>\n",
              "      <th>count</th>\n",
              "      <td>27.000000</td>\n",
              "      <td>27.000000</td>\n",
              "      <td>27.000000</td>\n",
              "      <td>27.0</td>\n",
              "      <td>27.0</td>\n",
              "      <td>27.000000</td>\n",
              "    </tr>\n",
              "    <tr>\n",
              "      <th>mean</th>\n",
              "      <td>0.407407</td>\n",
              "      <td>2.777778</td>\n",
              "      <td>15.481481</td>\n",
              "      <td>0.0</td>\n",
              "      <td>0.0</td>\n",
              "      <td>12.759259</td>\n",
              "    </tr>\n",
              "    <tr>\n",
              "      <th>std</th>\n",
              "      <td>0.500712</td>\n",
              "      <td>0.506370</td>\n",
              "      <td>2.501851</td>\n",
              "      <td>0.0</td>\n",
              "      <td>0.0</td>\n",
              "      <td>15.305837</td>\n",
              "    </tr>\n",
              "    <tr>\n",
              "      <th>min</th>\n",
              "      <td>0.000000</td>\n",
              "      <td>1.000000</td>\n",
              "      <td>5.000000</td>\n",
              "      <td>0.0</td>\n",
              "      <td>0.0</td>\n",
              "      <td>7.100000</td>\n",
              "    </tr>\n",
              "    <tr>\n",
              "      <th>25%</th>\n",
              "      <td>0.000000</td>\n",
              "      <td>3.000000</td>\n",
              "      <td>16.000000</td>\n",
              "      <td>0.0</td>\n",
              "      <td>0.0</td>\n",
              "      <td>7.800000</td>\n",
              "    </tr>\n",
              "    <tr>\n",
              "      <th>50%</th>\n",
              "      <td>0.000000</td>\n",
              "      <td>3.000000</td>\n",
              "      <td>16.000000</td>\n",
              "      <td>0.0</td>\n",
              "      <td>0.0</td>\n",
              "      <td>8.700000</td>\n",
              "    </tr>\n",
              "    <tr>\n",
              "      <th>75%</th>\n",
              "      <td>1.000000</td>\n",
              "      <td>3.000000</td>\n",
              "      <td>17.000000</td>\n",
              "      <td>0.0</td>\n",
              "      <td>0.0</td>\n",
              "      <td>10.500000</td>\n",
              "    </tr>\n",
              "    <tr>\n",
              "      <th>max</th>\n",
              "      <td>1.000000</td>\n",
              "      <td>3.000000</td>\n",
              "      <td>17.000000</td>\n",
              "      <td>0.0</td>\n",
              "      <td>0.0</td>\n",
              "      <td>86.500000</td>\n",
              "    </tr>\n",
              "  </tbody>\n",
              "</table>\n",
              "</div>"
            ],
            "text/plain": [
              "        Survived     Pclass        Age  Siblings/Spouses Aboard  \\\n",
              "count  27.000000  27.000000  27.000000                     27.0   \n",
              "mean    0.407407   2.777778  15.481481                      0.0   \n",
              "std     0.500712   0.506370   2.501851                      0.0   \n",
              "min     0.000000   1.000000   5.000000                      0.0   \n",
              "25%     0.000000   3.000000  16.000000                      0.0   \n",
              "50%     0.000000   3.000000  16.000000                      0.0   \n",
              "75%     1.000000   3.000000  17.000000                      0.0   \n",
              "max     1.000000   3.000000  17.000000                      0.0   \n",
              "\n",
              "       Parents/Children Aboard       Fare  \n",
              "count                     27.0  27.000000  \n",
              "mean                       0.0  12.759259  \n",
              "std                        0.0  15.305837  \n",
              "min                        0.0   7.100000  \n",
              "25%                        0.0   7.800000  \n",
              "50%                        0.0   8.700000  \n",
              "75%                        0.0  10.500000  \n",
              "max                        0.0  86.500000  "
            ]
          },
          "execution_count": 222,
          "metadata": {},
          "output_type": "execute_result"
        }
      ],
      "source": [
        "# Pessoas abaixo dos 18 anos e que não estavam acompanhados de irmãos/conjuge, pais ou filhos.\n",
        "\n",
        "menoresDesacompanhados = titanic.loc[(titanic['Age'] < 18) & (titanic['Siblings/Spouses Aboard'] == 0) & (titanic['Parents/Children Aboard'] == 0)]\n",
        "#print(menoresDesacompanhados)\n",
        "\n",
        "print(menoresDesacompanhados.shape[0]) #Contagem\n",
        "menoresDesacompanhados.describe()"
      ]
    },
    {
      "cell_type": "code",
      "execution_count": 223,
      "metadata": {
        "id": "2djwyFiwTX8h",
        "outputId": "236bbf7b-32e0-4ab2-9251-fd70dc7095d7"
      },
      "outputs": [
        {
          "name": "stdout",
          "output_type": "stream",
          "text": [
            "21\n"
          ]
        },
        {
          "data": {
            "text/plain": [
              "6"
            ]
          },
          "execution_count": 223,
          "metadata": {},
          "output_type": "execute_result"
        }
      ],
      "source": [
        "# Os valores mal se alteram. Quartil de 75 = 17 anos, quartil de 25 = 16 anos.\n",
        "print(menoresDesacompanhados.query('15 < Age < 18').shape[0]) #Numero de pessoas com idade entre 16 e 17\n",
        "\n",
        "#Abaixo dos 16 anos, apenas 6 dos 21 passageriros\n",
        "menoresDesacompanhados.query('Age < 16').shape[0]\n"
      ]
    },
    {
      "cell_type": "markdown",
      "metadata": {
        "id": "ZA5KedODTX8h"
      },
      "source": [
        "____"
      ]
    },
    {
      "cell_type": "code",
      "execution_count": 224,
      "metadata": {
        "id": "pIH-yca9TX8h",
        "outputId": "0a66b8d8-90e7-41ee-e7e5-02f7f360ce05"
      },
      "outputs": [],
      "source": [
        "maisnova = menoresDesacompanhados['Age'].min()"
      ]
    },
    {
      "cell_type": "code",
      "execution_count": 225,
      "metadata": {
        "id": "tEDKGZnATX8h",
        "outputId": "d4861f11-d022-4093-fdea-b19c74696df7"
      },
      "outputs": [
        {
          "data": {
            "text/html": [
              "<div>\n",
              "<style scoped>\n",
              "    .dataframe tbody tr th:only-of-type {\n",
              "        vertical-align: middle;\n",
              "    }\n",
              "\n",
              "    .dataframe tbody tr th {\n",
              "        vertical-align: top;\n",
              "    }\n",
              "\n",
              "    .dataframe thead th {\n",
              "        text-align: right;\n",
              "    }\n",
              "</style>\n",
              "<table border=\"1\" class=\"dataframe\">\n",
              "  <thead>\n",
              "    <tr style=\"text-align: right;\">\n",
              "      <th></th>\n",
              "      <th>Survived</th>\n",
              "      <th>Pclass</th>\n",
              "      <th>Name</th>\n",
              "      <th>Sex</th>\n",
              "      <th>Age</th>\n",
              "      <th>Siblings/Spouses Aboard</th>\n",
              "      <th>Parents/Children Aboard</th>\n",
              "      <th>Fare</th>\n",
              "    </tr>\n",
              "  </thead>\n",
              "  <tbody>\n",
              "    <tr>\n",
              "      <th>773</th>\n",
              "      <td>1</td>\n",
              "      <td>3</td>\n",
              "      <td>Miss. Virginia Ethel Emanuel</td>\n",
              "      <td>female</td>\n",
              "      <td>5.0</td>\n",
              "      <td>0</td>\n",
              "      <td>0</td>\n",
              "      <td>12.5</td>\n",
              "    </tr>\n",
              "  </tbody>\n",
              "</table>\n",
              "</div>"
            ],
            "text/plain": [
              "     Survived  Pclass                          Name     Sex  Age  \\\n",
              "773         1       3  Miss. Virginia Ethel Emanuel  female  5.0   \n",
              "\n",
              "     Siblings/Spouses Aboard  Parents/Children Aboard  Fare  \n",
              "773                        0                        0  12.5  "
            ]
          },
          "execution_count": 225,
          "metadata": {},
          "output_type": "execute_result"
        }
      ],
      "source": [
        "# O 'min' é um outlier\n",
        "\n",
        "#menoresDesacompanhados.query('Age == @maisnova')\n",
        "menoresDesacompanhados.loc[menoresDesacompanhados['Age'] == menoresDesacompanhados['Age'].min()]\n",
        "\n",
        "# A garota de 5 anos estava acompanhada de uma cuidadora, Elizabeth Dowdell.\n",
        "# https://www.encyclopedia-titanica.org/titanic-survivor/virginia-ethel-emanuel.html"
      ]
    },
    {
      "cell_type": "code",
      "execution_count": 226,
      "metadata": {
        "id": "7D9PRoz2TX8h",
        "outputId": "030a201a-c620-4dd4-bfd9-a39754655b72"
      },
      "outputs": [
        {
          "data": {
            "text/html": [
              "<div>\n",
              "<style scoped>\n",
              "    .dataframe tbody tr th:only-of-type {\n",
              "        vertical-align: middle;\n",
              "    }\n",
              "\n",
              "    .dataframe tbody tr th {\n",
              "        vertical-align: top;\n",
              "    }\n",
              "\n",
              "    .dataframe thead th {\n",
              "        text-align: right;\n",
              "    }\n",
              "</style>\n",
              "<table border=\"1\" class=\"dataframe\">\n",
              "  <thead>\n",
              "    <tr style=\"text-align: right;\">\n",
              "      <th></th>\n",
              "      <th>Survived</th>\n",
              "      <th>Pclass</th>\n",
              "      <th>Name</th>\n",
              "      <th>Sex</th>\n",
              "      <th>Age</th>\n",
              "      <th>Siblings/Spouses Aboard</th>\n",
              "      <th>Parents/Children Aboard</th>\n",
              "      <th>Fare</th>\n",
              "    </tr>\n",
              "  </thead>\n",
              "  <tbody>\n",
              "    <tr>\n",
              "      <th>78</th>\n",
              "      <td>1</td>\n",
              "      <td>3</td>\n",
              "      <td>Miss. Elizabeth Dowdell</td>\n",
              "      <td>female</td>\n",
              "      <td>30.0</td>\n",
              "      <td>0</td>\n",
              "      <td>0</td>\n",
              "      <td>12.5</td>\n",
              "    </tr>\n",
              "  </tbody>\n",
              "</table>\n",
              "</div>"
            ],
            "text/plain": [
              "    Survived  Pclass                     Name     Sex   Age  \\\n",
              "78         1       3  Miss. Elizabeth Dowdell  female  30.0   \n",
              "\n",
              "    Siblings/Spouses Aboard  Parents/Children Aboard  Fare  \n",
              "78                        0                        0  12.5  "
            ]
          },
          "execution_count": 226,
          "metadata": {},
          "output_type": "execute_result"
        }
      ],
      "source": [
        "titanic[titanic['Name'].str.contains('Elizabeth D')]"
      ]
    },
    {
      "cell_type": "markdown",
      "metadata": {
        "id": "JO4OIy-ITX8i"
      },
      "source": [
        "______"
      ]
    },
    {
      "cell_type": "code",
      "execution_count": 227,
      "metadata": {
        "id": "PLakxfcWTX8i",
        "outputId": "a6f57692-1e2b-4425-9a40-df855b5c81ab"
      },
      "outputs": [
        {
          "data": {
            "text/html": [
              "<div>\n",
              "<style scoped>\n",
              "    .dataframe tbody tr th:only-of-type {\n",
              "        vertical-align: middle;\n",
              "    }\n",
              "\n",
              "    .dataframe tbody tr th {\n",
              "        vertical-align: top;\n",
              "    }\n",
              "\n",
              "    .dataframe thead th {\n",
              "        text-align: right;\n",
              "    }\n",
              "</style>\n",
              "<table border=\"1\" class=\"dataframe\">\n",
              "  <thead>\n",
              "    <tr style=\"text-align: right;\">\n",
              "      <th></th>\n",
              "      <th>Survived</th>\n",
              "      <th>Pclass</th>\n",
              "      <th>Name</th>\n",
              "      <th>Sex</th>\n",
              "      <th>Age</th>\n",
              "      <th>Siblings/Spouses Aboard</th>\n",
              "      <th>Parents/Children Aboard</th>\n",
              "      <th>Fare</th>\n",
              "    </tr>\n",
              "  </thead>\n",
              "  <tbody>\n",
              "    <tr>\n",
              "      <th>22</th>\n",
              "      <td>1</td>\n",
              "      <td>3</td>\n",
              "      <td>Miss. Anna McGowan</td>\n",
              "      <td>female</td>\n",
              "      <td>15.0</td>\n",
              "      <td>0</td>\n",
              "      <td>0</td>\n",
              "      <td>8.0</td>\n",
              "    </tr>\n",
              "    <tr>\n",
              "      <th>83</th>\n",
              "      <td>1</td>\n",
              "      <td>2</td>\n",
              "      <td>Miss. Bertha Ilett</td>\n",
              "      <td>female</td>\n",
              "      <td>17.0</td>\n",
              "      <td>0</td>\n",
              "      <td>0</td>\n",
              "      <td>10.5</td>\n",
              "    </tr>\n",
              "    <tr>\n",
              "      <th>155</th>\n",
              "      <td>1</td>\n",
              "      <td>3</td>\n",
              "      <td>Miss. Katherine Gilnagh</td>\n",
              "      <td>female</td>\n",
              "      <td>16.0</td>\n",
              "      <td>0</td>\n",
              "      <td>0</td>\n",
              "      <td>7.7</td>\n",
              "    </tr>\n",
              "    <tr>\n",
              "      <th>207</th>\n",
              "      <td>1</td>\n",
              "      <td>3</td>\n",
              "      <td>Miss. Helen Carr</td>\n",
              "      <td>female</td>\n",
              "      <td>16.0</td>\n",
              "      <td>0</td>\n",
              "      <td>0</td>\n",
              "      <td>7.8</td>\n",
              "    </tr>\n",
              "    <tr>\n",
              "      <th>219</th>\n",
              "      <td>1</td>\n",
              "      <td>3</td>\n",
              "      <td>Mr. Victor Francis Sunderland</td>\n",
              "      <td>male</td>\n",
              "      <td>16.0</td>\n",
              "      <td>0</td>\n",
              "      <td>0</td>\n",
              "      <td>8.1</td>\n",
              "    </tr>\n",
              "    <tr>\n",
              "      <th>387</th>\n",
              "      <td>1</td>\n",
              "      <td>2</td>\n",
              "      <td>Miss. Bertha Lehmann</td>\n",
              "      <td>female</td>\n",
              "      <td>17.0</td>\n",
              "      <td>0</td>\n",
              "      <td>0</td>\n",
              "      <td>12.0</td>\n",
              "    </tr>\n",
              "    <tr>\n",
              "      <th>501</th>\n",
              "      <td>1</td>\n",
              "      <td>1</td>\n",
              "      <td>Miss. Roberta Maioni</td>\n",
              "      <td>female</td>\n",
              "      <td>16.0</td>\n",
              "      <td>0</td>\n",
              "      <td>0</td>\n",
              "      <td>86.5</td>\n",
              "    </tr>\n",
              "    <tr>\n",
              "      <th>650</th>\n",
              "      <td>1</td>\n",
              "      <td>3</td>\n",
              "      <td>Miss. Hanora O'Leary</td>\n",
              "      <td>female</td>\n",
              "      <td>16.0</td>\n",
              "      <td>0</td>\n",
              "      <td>0</td>\n",
              "      <td>7.8</td>\n",
              "    </tr>\n",
              "    <tr>\n",
              "      <th>773</th>\n",
              "      <td>1</td>\n",
              "      <td>3</td>\n",
              "      <td>Miss. Virginia Ethel Emanuel</td>\n",
              "      <td>female</td>\n",
              "      <td>5.0</td>\n",
              "      <td>0</td>\n",
              "      <td>0</td>\n",
              "      <td>12.5</td>\n",
              "    </tr>\n",
              "    <tr>\n",
              "      <th>776</th>\n",
              "      <td>1</td>\n",
              "      <td>3</td>\n",
              "      <td>Miss. Banoura Ayoub</td>\n",
              "      <td>female</td>\n",
              "      <td>13.0</td>\n",
              "      <td>0</td>\n",
              "      <td>0</td>\n",
              "      <td>7.2</td>\n",
              "    </tr>\n",
              "    <tr>\n",
              "      <th>871</th>\n",
              "      <td>1</td>\n",
              "      <td>3</td>\n",
              "      <td>Miss. Adele Kiamie Najib</td>\n",
              "      <td>female</td>\n",
              "      <td>15.0</td>\n",
              "      <td>0</td>\n",
              "      <td>0</td>\n",
              "      <td>7.2</td>\n",
              "    </tr>\n",
              "  </tbody>\n",
              "</table>\n",
              "</div>"
            ],
            "text/plain": [
              "     Survived  Pclass                           Name     Sex   Age  \\\n",
              "22          1       3             Miss. Anna McGowan  female  15.0   \n",
              "83          1       2             Miss. Bertha Ilett  female  17.0   \n",
              "155         1       3        Miss. Katherine Gilnagh  female  16.0   \n",
              "207         1       3               Miss. Helen Carr  female  16.0   \n",
              "219         1       3  Mr. Victor Francis Sunderland    male  16.0   \n",
              "387         1       2           Miss. Bertha Lehmann  female  17.0   \n",
              "501         1       1           Miss. Roberta Maioni  female  16.0   \n",
              "650         1       3           Miss. Hanora O'Leary  female  16.0   \n",
              "773         1       3   Miss. Virginia Ethel Emanuel  female   5.0   \n",
              "776         1       3            Miss. Banoura Ayoub  female  13.0   \n",
              "871         1       3       Miss. Adele Kiamie Najib  female  15.0   \n",
              "\n",
              "     Siblings/Spouses Aboard  Parents/Children Aboard  Fare  \n",
              "22                         0                        0   8.0  \n",
              "83                         0                        0  10.5  \n",
              "155                        0                        0   7.7  \n",
              "207                        0                        0   7.8  \n",
              "219                        0                        0   8.1  \n",
              "387                        0                        0  12.0  \n",
              "501                        0                        0  86.5  \n",
              "650                        0                        0   7.8  \n",
              "773                        0                        0  12.5  \n",
              "776                        0                        0   7.2  \n",
              "871                        0                        0   7.2  "
            ]
          },
          "execution_count": 227,
          "metadata": {},
          "output_type": "execute_result"
        }
      ],
      "source": [
        "#Aqui se encontram os menores desacompanhados que sobreviveram\n",
        "menoresDesacompanhados.loc[menoresDesacompanhados['Survived'] == 1]"
      ]
    },
    {
      "cell_type": "markdown",
      "metadata": {
        "id": "M1BVqZK8TX8i"
      },
      "source": [
        "__________"
      ]
    },
    {
      "cell_type": "code",
      "execution_count": 228,
      "metadata": {
        "id": "i2_3OviTTX8i",
        "outputId": "a877b4b8-c0dd-45b1-da86-2070e36669c8"
      },
      "outputs": [
        {
          "data": {
            "text/html": [
              "<div>\n",
              "<style scoped>\n",
              "    .dataframe tbody tr th:only-of-type {\n",
              "        vertical-align: middle;\n",
              "    }\n",
              "\n",
              "    .dataframe tbody tr th {\n",
              "        vertical-align: top;\n",
              "    }\n",
              "\n",
              "    .dataframe thead th {\n",
              "        text-align: right;\n",
              "    }\n",
              "</style>\n",
              "<table border=\"1\" class=\"dataframe\">\n",
              "  <thead>\n",
              "    <tr style=\"text-align: right;\">\n",
              "      <th></th>\n",
              "      <th>Survived</th>\n",
              "      <th>Pclass</th>\n",
              "      <th>Name</th>\n",
              "      <th>Sex</th>\n",
              "      <th>Age</th>\n",
              "      <th>Siblings/Spouses Aboard</th>\n",
              "      <th>Parents/Children Aboard</th>\n",
              "      <th>Fare</th>\n",
              "    </tr>\n",
              "  </thead>\n",
              "  <tbody>\n",
              "    <tr>\n",
              "      <th>83</th>\n",
              "      <td>1</td>\n",
              "      <td>2</td>\n",
              "      <td>Miss. Bertha Ilett</td>\n",
              "      <td>female</td>\n",
              "      <td>17.0</td>\n",
              "      <td>0</td>\n",
              "      <td>0</td>\n",
              "      <td>10.5</td>\n",
              "    </tr>\n",
              "    <tr>\n",
              "      <th>113</th>\n",
              "      <td>0</td>\n",
              "      <td>3</td>\n",
              "      <td>Miss. Malake Attalah</td>\n",
              "      <td>female</td>\n",
              "      <td>17.0</td>\n",
              "      <td>0</td>\n",
              "      <td>0</td>\n",
              "      <td>14.5</td>\n",
              "    </tr>\n",
              "    <tr>\n",
              "      <th>387</th>\n",
              "      <td>1</td>\n",
              "      <td>2</td>\n",
              "      <td>Miss. Bertha Lehmann</td>\n",
              "      <td>female</td>\n",
              "      <td>17.0</td>\n",
              "      <td>0</td>\n",
              "      <td>0</td>\n",
              "      <td>12.0</td>\n",
              "    </tr>\n",
              "    <tr>\n",
              "      <th>501</th>\n",
              "      <td>1</td>\n",
              "      <td>1</td>\n",
              "      <td>Miss. Roberta Maioni</td>\n",
              "      <td>female</td>\n",
              "      <td>16.0</td>\n",
              "      <td>0</td>\n",
              "      <td>0</td>\n",
              "      <td>86.5</td>\n",
              "    </tr>\n",
              "    <tr>\n",
              "      <th>727</th>\n",
              "      <td>0</td>\n",
              "      <td>3</td>\n",
              "      <td>Mr. Houssein G N Hassan</td>\n",
              "      <td>male</td>\n",
              "      <td>11.0</td>\n",
              "      <td>0</td>\n",
              "      <td>0</td>\n",
              "      <td>18.8</td>\n",
              "    </tr>\n",
              "    <tr>\n",
              "      <th>773</th>\n",
              "      <td>1</td>\n",
              "      <td>3</td>\n",
              "      <td>Miss. Virginia Ethel Emanuel</td>\n",
              "      <td>female</td>\n",
              "      <td>5.0</td>\n",
              "      <td>0</td>\n",
              "      <td>0</td>\n",
              "      <td>12.5</td>\n",
              "    </tr>\n",
              "    <tr>\n",
              "      <th>787</th>\n",
              "      <td>0</td>\n",
              "      <td>2</td>\n",
              "      <td>Mr. Alfred Gaskell</td>\n",
              "      <td>male</td>\n",
              "      <td>16.0</td>\n",
              "      <td>0</td>\n",
              "      <td>0</td>\n",
              "      <td>26.0</td>\n",
              "    </tr>\n",
              "    <tr>\n",
              "      <th>837</th>\n",
              "      <td>0</td>\n",
              "      <td>2</td>\n",
              "      <td>Mr. Thomas Charles Mudd</td>\n",
              "      <td>male</td>\n",
              "      <td>16.0</td>\n",
              "      <td>0</td>\n",
              "      <td>0</td>\n",
              "      <td>10.5</td>\n",
              "    </tr>\n",
              "  </tbody>\n",
              "</table>\n",
              "</div>"
            ],
            "text/plain": [
              "     Survived  Pclass                          Name     Sex   Age  \\\n",
              "83          1       2            Miss. Bertha Ilett  female  17.0   \n",
              "113         0       3          Miss. Malake Attalah  female  17.0   \n",
              "387         1       2          Miss. Bertha Lehmann  female  17.0   \n",
              "501         1       1          Miss. Roberta Maioni  female  16.0   \n",
              "727         0       3       Mr. Houssein G N Hassan    male  11.0   \n",
              "773         1       3  Miss. Virginia Ethel Emanuel  female   5.0   \n",
              "787         0       2            Mr. Alfred Gaskell    male  16.0   \n",
              "837         0       2       Mr. Thomas Charles Mudd    male  16.0   \n",
              "\n",
              "     Siblings/Spouses Aboard  Parents/Children Aboard  Fare  \n",
              "83                         0                        0  10.5  \n",
              "113                        0                        0  14.5  \n",
              "387                        0                        0  12.0  \n",
              "501                        0                        0  86.5  \n",
              "727                        0                        0  18.8  \n",
              "773                        0                        0  12.5  \n",
              "787                        0                        0  26.0  \n",
              "837                        0                        0  10.5  "
            ]
          },
          "execution_count": 228,
          "metadata": {},
          "output_type": "execute_result"
        }
      ],
      "source": [
        "menoresDesacompanhados.query(f'Fare > 10')"
      ]
    },
    {
      "cell_type": "code",
      "execution_count": 229,
      "metadata": {
        "id": "Fh9i60F8TX8i",
        "outputId": "229cf65c-5dcc-4112-f032-98d6ad72021a"
      },
      "outputs": [
        {
          "data": {
            "text/plain": [
              "count    27.000000\n",
              "mean     12.759259\n",
              "std      15.305837\n",
              "min       7.100000\n",
              "25%       7.800000\n",
              "50%       8.700000\n",
              "75%      10.500000\n",
              "max      86.500000\n",
              "Name: Fare, dtype: float64"
            ]
          },
          "execution_count": 229,
          "metadata": {},
          "output_type": "execute_result"
        }
      ],
      "source": [
        "menoresDesacompanhados['Fare'].describe()"
      ]
    },
    {
      "cell_type": "markdown",
      "metadata": {
        "id": "II5snkqWTX8i"
      },
      "source": [
        "Menores"
      ]
    },
    {
      "cell_type": "code",
      "execution_count": 230,
      "metadata": {
        "id": "0YTt8kPfTX8i",
        "outputId": "4dc47b57-adc2-4bc4-ae05-89a9ac3142d3"
      },
      "outputs": [
        {
          "data": {
            "text/html": [
              "<div>\n",
              "<style scoped>\n",
              "    .dataframe tbody tr th:only-of-type {\n",
              "        vertical-align: middle;\n",
              "    }\n",
              "\n",
              "    .dataframe tbody tr th {\n",
              "        vertical-align: top;\n",
              "    }\n",
              "\n",
              "    .dataframe thead th {\n",
              "        text-align: right;\n",
              "    }\n",
              "</style>\n",
              "<table border=\"1\" class=\"dataframe\">\n",
              "  <thead>\n",
              "    <tr style=\"text-align: right;\">\n",
              "      <th></th>\n",
              "      <th>Survived</th>\n",
              "      <th>Pclass</th>\n",
              "      <th>Name</th>\n",
              "      <th>Sex</th>\n",
              "      <th>Age</th>\n",
              "      <th>Siblings/Spouses Aboard</th>\n",
              "      <th>Parents/Children Aboard</th>\n",
              "      <th>Fare</th>\n",
              "    </tr>\n",
              "  </thead>\n",
              "  <tbody>\n",
              "    <tr>\n",
              "      <th>7</th>\n",
              "      <td>0</td>\n",
              "      <td>3</td>\n",
              "      <td>Master. Gosta Leonard Palsson</td>\n",
              "      <td>male</td>\n",
              "      <td>2.0</td>\n",
              "      <td>3</td>\n",
              "      <td>1</td>\n",
              "      <td>21.1</td>\n",
              "    </tr>\n",
              "    <tr>\n",
              "      <th>9</th>\n",
              "      <td>1</td>\n",
              "      <td>2</td>\n",
              "      <td>Mrs. Nicholas (Adele Achem) Nasser</td>\n",
              "      <td>female</td>\n",
              "      <td>14.0</td>\n",
              "      <td>1</td>\n",
              "      <td>0</td>\n",
              "      <td>30.1</td>\n",
              "    </tr>\n",
              "    <tr>\n",
              "      <th>10</th>\n",
              "      <td>1</td>\n",
              "      <td>3</td>\n",
              "      <td>Miss. Marguerite Rut Sandstrom</td>\n",
              "      <td>female</td>\n",
              "      <td>4.0</td>\n",
              "      <td>1</td>\n",
              "      <td>1</td>\n",
              "      <td>16.7</td>\n",
              "    </tr>\n",
              "    <tr>\n",
              "      <th>14</th>\n",
              "      <td>0</td>\n",
              "      <td>3</td>\n",
              "      <td>Miss. Hulda Amanda Adolfina Vestrom</td>\n",
              "      <td>female</td>\n",
              "      <td>14.0</td>\n",
              "      <td>0</td>\n",
              "      <td>0</td>\n",
              "      <td>7.9</td>\n",
              "    </tr>\n",
              "    <tr>\n",
              "      <th>16</th>\n",
              "      <td>0</td>\n",
              "      <td>3</td>\n",
              "      <td>Master. Eugene Rice</td>\n",
              "      <td>male</td>\n",
              "      <td>2.0</td>\n",
              "      <td>4</td>\n",
              "      <td>1</td>\n",
              "      <td>29.1</td>\n",
              "    </tr>\n",
              "  </tbody>\n",
              "</table>\n",
              "</div>"
            ],
            "text/plain": [
              "    Survived  Pclass                                 Name     Sex   Age  \\\n",
              "7          0       3        Master. Gosta Leonard Palsson    male   2.0   \n",
              "9          1       2   Mrs. Nicholas (Adele Achem) Nasser  female  14.0   \n",
              "10         1       3       Miss. Marguerite Rut Sandstrom  female   4.0   \n",
              "14         0       3  Miss. Hulda Amanda Adolfina Vestrom  female  14.0   \n",
              "16         0       3                  Master. Eugene Rice    male   2.0   \n",
              "\n",
              "    Siblings/Spouses Aboard  Parents/Children Aboard  Fare  \n",
              "7                         3                        1  21.1  \n",
              "9                         1                        0  30.1  \n",
              "10                        1                        1  16.7  \n",
              "14                        0                        0   7.9  \n",
              "16                        4                        1  29.1  "
            ]
          },
          "execution_count": 230,
          "metadata": {},
          "output_type": "execute_result"
        }
      ],
      "source": [
        "menores = titanic[titanic['Age'] < 18]\n",
        "menores.head()"
      ]
    },
    {
      "cell_type": "code",
      "execution_count": 231,
      "metadata": {
        "id": "KZrdMh1HTX8i",
        "outputId": "e0231268-e504-4d2c-fcc0-3a09463203d1"
      },
      "outputs": [
        {
          "data": {
            "text/html": [
              "<div>\n",
              "<style scoped>\n",
              "    .dataframe tbody tr th:only-of-type {\n",
              "        vertical-align: middle;\n",
              "    }\n",
              "\n",
              "    .dataframe tbody tr th {\n",
              "        vertical-align: top;\n",
              "    }\n",
              "\n",
              "    .dataframe thead th {\n",
              "        text-align: right;\n",
              "    }\n",
              "</style>\n",
              "<table border=\"1\" class=\"dataframe\">\n",
              "  <thead>\n",
              "    <tr style=\"text-align: right;\">\n",
              "      <th></th>\n",
              "      <th>Survived</th>\n",
              "      <th>Pclass</th>\n",
              "      <th>Name</th>\n",
              "      <th>Sex</th>\n",
              "      <th>Age</th>\n",
              "      <th>Siblings/Spouses Aboard</th>\n",
              "      <th>Parents/Children Aboard</th>\n",
              "      <th>Fare</th>\n",
              "    </tr>\n",
              "  </thead>\n",
              "  <tbody>\n",
              "    <tr>\n",
              "      <th>9</th>\n",
              "      <td>1</td>\n",
              "      <td>2</td>\n",
              "      <td>Mrs. Nicholas (Adele Achem) Nasser</td>\n",
              "      <td>female</td>\n",
              "      <td>14.00</td>\n",
              "      <td>1</td>\n",
              "      <td>0</td>\n",
              "      <td>30.1</td>\n",
              "    </tr>\n",
              "    <tr>\n",
              "      <th>10</th>\n",
              "      <td>1</td>\n",
              "      <td>3</td>\n",
              "      <td>Miss. Marguerite Rut Sandstrom</td>\n",
              "      <td>female</td>\n",
              "      <td>4.00</td>\n",
              "      <td>1</td>\n",
              "      <td>1</td>\n",
              "      <td>16.7</td>\n",
              "    </tr>\n",
              "    <tr>\n",
              "      <th>22</th>\n",
              "      <td>1</td>\n",
              "      <td>3</td>\n",
              "      <td>Miss. Anna McGowan</td>\n",
              "      <td>female</td>\n",
              "      <td>15.00</td>\n",
              "      <td>0</td>\n",
              "      <td>0</td>\n",
              "      <td>8.0</td>\n",
              "    </tr>\n",
              "    <tr>\n",
              "      <th>39</th>\n",
              "      <td>1</td>\n",
              "      <td>3</td>\n",
              "      <td>Miss. Jamila Nicola-Yarred</td>\n",
              "      <td>female</td>\n",
              "      <td>14.00</td>\n",
              "      <td>1</td>\n",
              "      <td>0</td>\n",
              "      <td>11.2</td>\n",
              "    </tr>\n",
              "    <tr>\n",
              "      <th>42</th>\n",
              "      <td>1</td>\n",
              "      <td>2</td>\n",
              "      <td>Miss. Simonne Marie Anne Andree Laroche</td>\n",
              "      <td>female</td>\n",
              "      <td>3.00</td>\n",
              "      <td>1</td>\n",
              "      <td>2</td>\n",
              "      <td>41.6</td>\n",
              "    </tr>\n",
              "    <tr>\n",
              "      <th>...</th>\n",
              "      <td>...</td>\n",
              "      <td>...</td>\n",
              "      <td>...</td>\n",
              "      <td>...</td>\n",
              "      <td>...</td>\n",
              "      <td>...</td>\n",
              "      <td>...</td>\n",
              "      <td>...</td>\n",
              "    </tr>\n",
              "    <tr>\n",
              "      <th>826</th>\n",
              "      <td>1</td>\n",
              "      <td>3</td>\n",
              "      <td>Mrs. Antoni (Selini Alexander) Yasbeck</td>\n",
              "      <td>female</td>\n",
              "      <td>15.00</td>\n",
              "      <td>1</td>\n",
              "      <td>0</td>\n",
              "      <td>14.5</td>\n",
              "    </tr>\n",
              "    <tr>\n",
              "      <th>827</th>\n",
              "      <td>1</td>\n",
              "      <td>2</td>\n",
              "      <td>Master. George Sibley Richards</td>\n",
              "      <td>male</td>\n",
              "      <td>0.83</td>\n",
              "      <td>1</td>\n",
              "      <td>1</td>\n",
              "      <td>18.8</td>\n",
              "    </tr>\n",
              "    <tr>\n",
              "      <th>849</th>\n",
              "      <td>1</td>\n",
              "      <td>1</td>\n",
              "      <td>Miss. Mary Conover Lines</td>\n",
              "      <td>female</td>\n",
              "      <td>16.00</td>\n",
              "      <td>0</td>\n",
              "      <td>1</td>\n",
              "      <td>39.4</td>\n",
              "    </tr>\n",
              "    <tr>\n",
              "      <th>865</th>\n",
              "      <td>1</td>\n",
              "      <td>3</td>\n",
              "      <td>Master. Harold Theodor Johnson</td>\n",
              "      <td>male</td>\n",
              "      <td>4.00</td>\n",
              "      <td>1</td>\n",
              "      <td>1</td>\n",
              "      <td>11.1</td>\n",
              "    </tr>\n",
              "    <tr>\n",
              "      <th>871</th>\n",
              "      <td>1</td>\n",
              "      <td>3</td>\n",
              "      <td>Miss. Adele Kiamie Najib</td>\n",
              "      <td>female</td>\n",
              "      <td>15.00</td>\n",
              "      <td>0</td>\n",
              "      <td>0</td>\n",
              "      <td>7.2</td>\n",
              "    </tr>\n",
              "  </tbody>\n",
              "</table>\n",
              "<p>65 rows × 8 columns</p>\n",
              "</div>"
            ],
            "text/plain": [
              "     Survived  Pclass                                     Name     Sex    Age  \\\n",
              "9           1       2       Mrs. Nicholas (Adele Achem) Nasser  female  14.00   \n",
              "10          1       3           Miss. Marguerite Rut Sandstrom  female   4.00   \n",
              "22          1       3                       Miss. Anna McGowan  female  15.00   \n",
              "39          1       3               Miss. Jamila Nicola-Yarred  female  14.00   \n",
              "42          1       2  Miss. Simonne Marie Anne Andree Laroche  female   3.00   \n",
              "..        ...     ...                                      ...     ...    ...   \n",
              "826         1       3   Mrs. Antoni (Selini Alexander) Yasbeck  female  15.00   \n",
              "827         1       2           Master. George Sibley Richards    male   0.83   \n",
              "849         1       1                 Miss. Mary Conover Lines  female  16.00   \n",
              "865         1       3           Master. Harold Theodor Johnson    male   4.00   \n",
              "871         1       3                 Miss. Adele Kiamie Najib  female  15.00   \n",
              "\n",
              "     Siblings/Spouses Aboard  Parents/Children Aboard  Fare  \n",
              "9                          1                        0  30.1  \n",
              "10                         1                        1  16.7  \n",
              "22                         0                        0   8.0  \n",
              "39                         1                        0  11.2  \n",
              "42                         1                        2  41.6  \n",
              "..                       ...                      ...   ...  \n",
              "826                        1                        0  14.5  \n",
              "827                        1                        1  18.8  \n",
              "849                        0                        1  39.4  \n",
              "865                        1                        1  11.1  \n",
              "871                        0                        0   7.2  \n",
              "\n",
              "[65 rows x 8 columns]"
            ]
          },
          "execution_count": 231,
          "metadata": {},
          "output_type": "execute_result"
        }
      ],
      "source": [
        "menoresSobreviventes = menores[menores['Survived'] == 1]\n",
        "menoresSobreviventes"
      ]
    },
    {
      "cell_type": "code",
      "execution_count": 232,
      "metadata": {
        "id": "lVUFQ8U_TX8j",
        "outputId": "2ea8846e-9b43-4ea1-cbf7-1678fa2e19a8"
      },
      "outputs": [
        {
          "data": {
            "text/plain": [
              "count     65.000000\n",
              "mean      33.647692\n",
              "std       38.375497\n",
              "min        7.200000\n",
              "25%       12.500000\n",
              "50%       19.500000\n",
              "75%       33.000000\n",
              "max      211.300000\n",
              "Name: Fare, dtype: float64"
            ]
          },
          "execution_count": 232,
          "metadata": {},
          "output_type": "execute_result"
        }
      ],
      "source": [
        "menoresSobreviventes.Fare.describe()"
      ]
    },
    {
      "cell_type": "code",
      "execution_count": 233,
      "metadata": {
        "id": "0NUGlRdNTX8j",
        "outputId": "73445fd7-98fc-403a-e78f-fd45057f1837"
      },
      "outputs": [
        {
          "data": {
            "image/png": "[encoded data removed]",
            "text/plain": [
              "<IPython.core.display.Image object>"
            ]
          },
          "metadata": {},
          "output_type": "display_data"
        }
      ],
      "source": [
        "from IPython.display import display, Image\n",
        "display(Image('idOutliers.png'))\n"
      ]
    },
    {
      "cell_type": "code",
      "execution_count": 234,
      "metadata": {
        "id": "QW_W5UWvTX8j",
        "outputId": "22ae3958-7bc9-4bc0-ad69-a664c03be95e"
      },
      "outputs": [
        {
          "name": "stdout",
          "output_type": "stream",
          "text": [
            "25% : 12.350000000000001,\n",
            "75%: 34.05,\n",
            "IQR : 21.699999999999996\n"
          ]
        }
      ],
      "source": [
        "q1m = menores['Fare'].quantile(0.25)\n",
        "q3m = menores['Fare'].quantile(0.75)\n",
        "iqr = q3m - q1m\n",
        "\n",
        "print(f'''25% : {q1m},\n",
        "75%: {q3m},\n",
        "IQR : {iqr}''')"
      ]
    },
    {
      "cell_type": "code",
      "execution_count": 235,
      "metadata": {
        "id": "RLNqbMc1TX8j",
        "outputId": "02abc64e-2d87-43a7-d592-4231a54b260f"
      },
      "outputs": [
        {
          "data": {
            "text/html": [
              "<div>\n",
              "<style scoped>\n",
              "    .dataframe tbody tr th:only-of-type {\n",
              "        vertical-align: middle;\n",
              "    }\n",
              "\n",
              "    .dataframe tbody tr th {\n",
              "        vertical-align: top;\n",
              "    }\n",
              "\n",
              "    .dataframe thead th {\n",
              "        text-align: right;\n",
              "    }\n",
              "</style>\n",
              "<table border=\"1\" class=\"dataframe\">\n",
              "  <thead>\n",
              "    <tr style=\"text-align: right;\">\n",
              "      <th></th>\n",
              "      <th>Survived</th>\n",
              "      <th>Pclass</th>\n",
              "      <th>Name</th>\n",
              "      <th>Sex</th>\n",
              "      <th>Age</th>\n",
              "      <th>Siblings/Spouses Aboard</th>\n",
              "      <th>Parents/Children Aboard</th>\n",
              "      <th>Fare</th>\n",
              "    </tr>\n",
              "  </thead>\n",
              "  <tbody>\n",
              "    <tr>\n",
              "      <th>14</th>\n",
              "      <td>0</td>\n",
              "      <td>3</td>\n",
              "      <td>Miss. Hulda Amanda Adolfina Vestrom</td>\n",
              "      <td>female</td>\n",
              "      <td>14.00</td>\n",
              "      <td>0</td>\n",
              "      <td>0</td>\n",
              "      <td>7.9</td>\n",
              "    </tr>\n",
              "    <tr>\n",
              "      <th>22</th>\n",
              "      <td>1</td>\n",
              "      <td>3</td>\n",
              "      <td>Miss. Anna McGowan</td>\n",
              "      <td>female</td>\n",
              "      <td>15.00</td>\n",
              "      <td>0</td>\n",
              "      <td>0</td>\n",
              "      <td>8.0</td>\n",
              "    </tr>\n",
              "    <tr>\n",
              "      <th>39</th>\n",
              "      <td>1</td>\n",
              "      <td>3</td>\n",
              "      <td>Miss. Jamila Nicola-Yarred</td>\n",
              "      <td>female</td>\n",
              "      <td>14.00</td>\n",
              "      <td>1</td>\n",
              "      <td>0</td>\n",
              "      <td>11.2</td>\n",
              "    </tr>\n",
              "    <tr>\n",
              "      <th>67</th>\n",
              "      <td>1</td>\n",
              "      <td>3</td>\n",
              "      <td>Miss. Erna Alexandra Andersson</td>\n",
              "      <td>female</td>\n",
              "      <td>17.00</td>\n",
              "      <td>4</td>\n",
              "      <td>2</td>\n",
              "      <td>7.9</td>\n",
              "    </tr>\n",
              "    <tr>\n",
              "      <th>83</th>\n",
              "      <td>1</td>\n",
              "      <td>2</td>\n",
              "      <td>Miss. Bertha Ilett</td>\n",
              "      <td>female</td>\n",
              "      <td>17.00</td>\n",
              "      <td>0</td>\n",
              "      <td>0</td>\n",
              "      <td>10.5</td>\n",
              "    </tr>\n",
              "    <tr>\n",
              "      <th>124</th>\n",
              "      <td>1</td>\n",
              "      <td>3</td>\n",
              "      <td>Master. Elias Nicola-Yarred</td>\n",
              "      <td>male</td>\n",
              "      <td>12.00</td>\n",
              "      <td>1</td>\n",
              "      <td>0</td>\n",
              "      <td>11.2</td>\n",
              "    </tr>\n",
              "    <tr>\n",
              "      <th>137</th>\n",
              "      <td>0</td>\n",
              "      <td>3</td>\n",
              "      <td>Mr. Olaf Elon Osen</td>\n",
              "      <td>male</td>\n",
              "      <td>16.00</td>\n",
              "      <td>0</td>\n",
              "      <td>0</td>\n",
              "      <td>9.2</td>\n",
              "    </tr>\n",
              "    <tr>\n",
              "      <th>155</th>\n",
              "      <td>1</td>\n",
              "      <td>3</td>\n",
              "      <td>Miss. Katherine Gilnagh</td>\n",
              "      <td>female</td>\n",
              "      <td>16.00</td>\n",
              "      <td>0</td>\n",
              "      <td>0</td>\n",
              "      <td>7.7</td>\n",
              "    </tr>\n",
              "    <tr>\n",
              "      <th>162</th>\n",
              "      <td>0</td>\n",
              "      <td>3</td>\n",
              "      <td>Mr. Jovo Calic</td>\n",
              "      <td>male</td>\n",
              "      <td>17.00</td>\n",
              "      <td>0</td>\n",
              "      <td>0</td>\n",
              "      <td>8.7</td>\n",
              "    </tr>\n",
              "    <tr>\n",
              "      <th>171</th>\n",
              "      <td>1</td>\n",
              "      <td>3</td>\n",
              "      <td>Miss. Eleanor Ileen Johnson</td>\n",
              "      <td>female</td>\n",
              "      <td>1.00</td>\n",
              "      <td>1</td>\n",
              "      <td>1</td>\n",
              "      <td>11.1</td>\n",
              "    </tr>\n",
              "    <tr>\n",
              "      <th>204</th>\n",
              "      <td>0</td>\n",
              "      <td>3</td>\n",
              "      <td>Miss. Telma Matilda Strom</td>\n",
              "      <td>female</td>\n",
              "      <td>2.00</td>\n",
              "      <td>0</td>\n",
              "      <td>1</td>\n",
              "      <td>10.5</td>\n",
              "    </tr>\n",
              "    <tr>\n",
              "      <th>207</th>\n",
              "      <td>1</td>\n",
              "      <td>3</td>\n",
              "      <td>Miss. Helen Carr</td>\n",
              "      <td>female</td>\n",
              "      <td>16.00</td>\n",
              "      <td>0</td>\n",
              "      <td>0</td>\n",
              "      <td>7.8</td>\n",
              "    </tr>\n",
              "    <tr>\n",
              "      <th>219</th>\n",
              "      <td>1</td>\n",
              "      <td>3</td>\n",
              "      <td>Mr. Victor Francis Sunderland</td>\n",
              "      <td>male</td>\n",
              "      <td>16.00</td>\n",
              "      <td>0</td>\n",
              "      <td>0</td>\n",
              "      <td>8.1</td>\n",
              "    </tr>\n",
              "    <tr>\n",
              "      <th>280</th>\n",
              "      <td>0</td>\n",
              "      <td>3</td>\n",
              "      <td>Mr. Alfons de Pelsmaeker</td>\n",
              "      <td>male</td>\n",
              "      <td>16.00</td>\n",
              "      <td>0</td>\n",
              "      <td>0</td>\n",
              "      <td>9.5</td>\n",
              "    </tr>\n",
              "    <tr>\n",
              "      <th>350</th>\n",
              "      <td>0</td>\n",
              "      <td>3</td>\n",
              "      <td>Mr. Tannous Elias</td>\n",
              "      <td>male</td>\n",
              "      <td>15.00</td>\n",
              "      <td>1</td>\n",
              "      <td>1</td>\n",
              "      <td>7.2</td>\n",
              "    </tr>\n",
              "    <tr>\n",
              "      <th>387</th>\n",
              "      <td>1</td>\n",
              "      <td>2</td>\n",
              "      <td>Miss. Bertha Lehmann</td>\n",
              "      <td>female</td>\n",
              "      <td>17.00</td>\n",
              "      <td>0</td>\n",
              "      <td>0</td>\n",
              "      <td>12.0</td>\n",
              "    </tr>\n",
              "    <tr>\n",
              "      <th>430</th>\n",
              "      <td>0</td>\n",
              "      <td>3</td>\n",
              "      <td>Mr. Nikolai Erland Kallio</td>\n",
              "      <td>male</td>\n",
              "      <td>17.00</td>\n",
              "      <td>0</td>\n",
              "      <td>0</td>\n",
              "      <td>7.1</td>\n",
              "    </tr>\n",
              "    <tr>\n",
              "      <th>456</th>\n",
              "      <td>0</td>\n",
              "      <td>3</td>\n",
              "      <td>Mr. Maurice O'Connor</td>\n",
              "      <td>male</td>\n",
              "      <td>17.00</td>\n",
              "      <td>0</td>\n",
              "      <td>0</td>\n",
              "      <td>7.8</td>\n",
              "    </tr>\n",
              "    <tr>\n",
              "      <th>476</th>\n",
              "      <td>1</td>\n",
              "      <td>3</td>\n",
              "      <td>Miss. Hildur E Hirvonen</td>\n",
              "      <td>female</td>\n",
              "      <td>2.00</td>\n",
              "      <td>0</td>\n",
              "      <td>1</td>\n",
              "      <td>12.3</td>\n",
              "    </tr>\n",
              "    <tr>\n",
              "      <th>497</th>\n",
              "      <td>0</td>\n",
              "      <td>3</td>\n",
              "      <td>Mr. Petar Calic</td>\n",
              "      <td>male</td>\n",
              "      <td>17.00</td>\n",
              "      <td>0</td>\n",
              "      <td>0</td>\n",
              "      <td>8.7</td>\n",
              "    </tr>\n",
              "    <tr>\n",
              "      <th>528</th>\n",
              "      <td>0</td>\n",
              "      <td>3</td>\n",
              "      <td>Mr. Nakli Toufik</td>\n",
              "      <td>male</td>\n",
              "      <td>17.00</td>\n",
              "      <td>0</td>\n",
              "      <td>0</td>\n",
              "      <td>7.2</td>\n",
              "    </tr>\n",
              "    <tr>\n",
              "      <th>529</th>\n",
              "      <td>0</td>\n",
              "      <td>3</td>\n",
              "      <td>Mr. Joseph Jr Elias</td>\n",
              "      <td>male</td>\n",
              "      <td>17.00</td>\n",
              "      <td>1</td>\n",
              "      <td>1</td>\n",
              "      <td>7.2</td>\n",
              "    </tr>\n",
              "    <tr>\n",
              "      <th>571</th>\n",
              "      <td>0</td>\n",
              "      <td>3</td>\n",
              "      <td>Mr. Alfred George John Rush</td>\n",
              "      <td>male</td>\n",
              "      <td>16.00</td>\n",
              "      <td>0</td>\n",
              "      <td>0</td>\n",
              "      <td>8.1</td>\n",
              "    </tr>\n",
              "    <tr>\n",
              "      <th>581</th>\n",
              "      <td>0</td>\n",
              "      <td>3</td>\n",
              "      <td>Mr. Uscher Paulner</td>\n",
              "      <td>male</td>\n",
              "      <td>16.00</td>\n",
              "      <td>0</td>\n",
              "      <td>0</td>\n",
              "      <td>8.7</td>\n",
              "    </tr>\n",
              "    <tr>\n",
              "      <th>650</th>\n",
              "      <td>1</td>\n",
              "      <td>3</td>\n",
              "      <td>Miss. Hanora O'Leary</td>\n",
              "      <td>female</td>\n",
              "      <td>16.00</td>\n",
              "      <td>0</td>\n",
              "      <td>0</td>\n",
              "      <td>7.8</td>\n",
              "    </tr>\n",
              "    <tr>\n",
              "      <th>717</th>\n",
              "      <td>0</td>\n",
              "      <td>3</td>\n",
              "      <td>Mr. Svend Lauritz Jensen</td>\n",
              "      <td>male</td>\n",
              "      <td>17.00</td>\n",
              "      <td>1</td>\n",
              "      <td>0</td>\n",
              "      <td>7.1</td>\n",
              "    </tr>\n",
              "    <tr>\n",
              "      <th>760</th>\n",
              "      <td>0</td>\n",
              "      <td>3</td>\n",
              "      <td>Mr. Hans Linus Eklund</td>\n",
              "      <td>male</td>\n",
              "      <td>16.00</td>\n",
              "      <td>0</td>\n",
              "      <td>0</td>\n",
              "      <td>7.8</td>\n",
              "    </tr>\n",
              "    <tr>\n",
              "      <th>776</th>\n",
              "      <td>1</td>\n",
              "      <td>3</td>\n",
              "      <td>Miss. Banoura Ayoub</td>\n",
              "      <td>female</td>\n",
              "      <td>13.00</td>\n",
              "      <td>0</td>\n",
              "      <td>0</td>\n",
              "      <td>7.2</td>\n",
              "    </tr>\n",
              "    <tr>\n",
              "      <th>799</th>\n",
              "      <td>1</td>\n",
              "      <td>3</td>\n",
              "      <td>Master. Assad Alexander Thomas</td>\n",
              "      <td>male</td>\n",
              "      <td>0.42</td>\n",
              "      <td>0</td>\n",
              "      <td>1</td>\n",
              "      <td>8.5</td>\n",
              "    </tr>\n",
              "    <tr>\n",
              "      <th>837</th>\n",
              "      <td>0</td>\n",
              "      <td>2</td>\n",
              "      <td>Mr. Thomas Charles Mudd</td>\n",
              "      <td>male</td>\n",
              "      <td>16.00</td>\n",
              "      <td>0</td>\n",
              "      <td>0</td>\n",
              "      <td>10.5</td>\n",
              "    </tr>\n",
              "    <tr>\n",
              "      <th>840</th>\n",
              "      <td>0</td>\n",
              "      <td>3</td>\n",
              "      <td>Mr. Jeso Culumovic</td>\n",
              "      <td>male</td>\n",
              "      <td>17.00</td>\n",
              "      <td>0</td>\n",
              "      <td>0</td>\n",
              "      <td>8.7</td>\n",
              "    </tr>\n",
              "    <tr>\n",
              "      <th>865</th>\n",
              "      <td>1</td>\n",
              "      <td>3</td>\n",
              "      <td>Master. Harold Theodor Johnson</td>\n",
              "      <td>male</td>\n",
              "      <td>4.00</td>\n",
              "      <td>1</td>\n",
              "      <td>1</td>\n",
              "      <td>11.1</td>\n",
              "    </tr>\n",
              "    <tr>\n",
              "      <th>871</th>\n",
              "      <td>1</td>\n",
              "      <td>3</td>\n",
              "      <td>Miss. Adele Kiamie Najib</td>\n",
              "      <td>female</td>\n",
              "      <td>15.00</td>\n",
              "      <td>0</td>\n",
              "      <td>0</td>\n",
              "      <td>7.2</td>\n",
              "    </tr>\n",
              "  </tbody>\n",
              "</table>\n",
              "</div>"
            ],
            "text/plain": [
              "     Survived  Pclass                                 Name     Sex    Age  \\\n",
              "14          0       3  Miss. Hulda Amanda Adolfina Vestrom  female  14.00   \n",
              "22          1       3                   Miss. Anna McGowan  female  15.00   \n",
              "39          1       3           Miss. Jamila Nicola-Yarred  female  14.00   \n",
              "67          1       3       Miss. Erna Alexandra Andersson  female  17.00   \n",
              "83          1       2                   Miss. Bertha Ilett  female  17.00   \n",
              "124         1       3          Master. Elias Nicola-Yarred    male  12.00   \n",
              "137         0       3                   Mr. Olaf Elon Osen    male  16.00   \n",
              "155         1       3              Miss. Katherine Gilnagh  female  16.00   \n",
              "162         0       3                       Mr. Jovo Calic    male  17.00   \n",
              "171         1       3          Miss. Eleanor Ileen Johnson  female   1.00   \n",
              "204         0       3            Miss. Telma Matilda Strom  female   2.00   \n",
              "207         1       3                     Miss. Helen Carr  female  16.00   \n",
              "219         1       3        Mr. Victor Francis Sunderland    male  16.00   \n",
              "280         0       3             Mr. Alfons de Pelsmaeker    male  16.00   \n",
              "350         0       3                    Mr. Tannous Elias    male  15.00   \n",
              "387         1       2                 Miss. Bertha Lehmann  female  17.00   \n",
              "430         0       3            Mr. Nikolai Erland Kallio    male  17.00   \n",
              "456         0       3                 Mr. Maurice O'Connor    male  17.00   \n",
              "476         1       3              Miss. Hildur E Hirvonen  female   2.00   \n",
              "497         0       3                      Mr. Petar Calic    male  17.00   \n",
              "528         0       3                     Mr. Nakli Toufik    male  17.00   \n",
              "529         0       3                  Mr. Joseph Jr Elias    male  17.00   \n",
              "571         0       3          Mr. Alfred George John Rush    male  16.00   \n",
              "581         0       3                   Mr. Uscher Paulner    male  16.00   \n",
              "650         1       3                 Miss. Hanora O'Leary  female  16.00   \n",
              "717         0       3             Mr. Svend Lauritz Jensen    male  17.00   \n",
              "760         0       3                Mr. Hans Linus Eklund    male  16.00   \n",
              "776         1       3                  Miss. Banoura Ayoub  female  13.00   \n",
              "799         1       3       Master. Assad Alexander Thomas    male   0.42   \n",
              "837         0       2              Mr. Thomas Charles Mudd    male  16.00   \n",
              "840         0       3                   Mr. Jeso Culumovic    male  17.00   \n",
              "865         1       3       Master. Harold Theodor Johnson    male   4.00   \n",
              "871         1       3             Miss. Adele Kiamie Najib  female  15.00   \n",
              "\n",
              "     Siblings/Spouses Aboard  Parents/Children Aboard  Fare  \n",
              "14                         0                        0   7.9  \n",
              "22                         0                        0   8.0  \n",
              "39                         1                        0  11.2  \n",
              "67                         4                        2   7.9  \n",
              "83                         0                        0  10.5  \n",
              "124                        1                        0  11.2  \n",
              "137                        0                        0   9.2  \n",
              "155                        0                        0   7.7  \n",
              "162                        0                        0   8.7  \n",
              "171                        1                        1  11.1  \n",
              "204                        0                        1  10.5  \n",
              "207                        0                        0   7.8  \n",
              "219                        0                        0   8.1  \n",
              "280                        0                        0   9.5  \n",
              "350                        1                        1   7.2  \n",
              "387                        0                        0  12.0  \n",
              "430                        0                        0   7.1  \n",
              "456                        0                        0   7.8  \n",
              "476                        0                        1  12.3  \n",
              "497                        0                        0   8.7  \n",
              "528                        0                        0   7.2  \n",
              "529                        1                        1   7.2  \n",
              "571                        0                        0   8.1  \n",
              "581                        0                        0   8.7  \n",
              "650                        0                        0   7.8  \n",
              "717                        1                        0   7.1  \n",
              "760                        0                        0   7.8  \n",
              "776                        0                        0   7.2  \n",
              "799                        0                        1   8.5  \n",
              "837                        0                        0  10.5  \n",
              "840                        0                        0   8.7  \n",
              "865                        1                        1  11.1  \n",
              "871                        0                        0   7.2  "
            ]
          },
          "execution_count": 235,
          "metadata": {},
          "output_type": "execute_result"
        }
      ],
      "source": [
        "# Menores do Quartil de 25 do preço de passagens\n",
        "# Em alguns casos, a Fare não parece representar a familia inteira, como no caso da Miss. Erna Alexandra . \n",
        "# Procurar: o resto da familia estava na mesma classe? Será que ficaram em quartos separados? Simplesmente compraram bilhetes separados?\n",
        "menores.query('Fare < @q1m')"
      ]
    },
    {
      "cell_type": "code",
      "execution_count": 236,
      "metadata": {
        "id": "9dWx-tkpTX8j",
        "outputId": "e5f488c2-4d5c-4e33-d364-63e8fb1ab208"
      },
      "outputs": [
        {
          "data": {
            "text/plain": [
              "21.699999999999996"
            ]
          },
          "execution_count": 236,
          "metadata": {},
          "output_type": "execute_result"
        }
      ],
      "source": [
        "iqr #Interquartile Range"
      ]
    },
    {
      "cell_type": "code",
      "execution_count": 237,
      "metadata": {
        "id": "o1iAyhihTX8j",
        "outputId": "b3a3ee22-5a10-4c3a-cfa6-4a03c5ab0bac"
      },
      "outputs": [
        {
          "name": "stdout",
          "output_type": "stream",
          "text": [
            "-20.199999999999996 \n",
            " 66.6\n"
          ]
        }
      ],
      "source": [
        "menoresOutHigh = q3m + 1.5 * iqr\n",
        "menoresOutLow = q1m - 1.5 * iqr\n",
        "print(menoresOutLow,'\\n', menoresOutHigh) #Seria esse o low realmente? considerando negativo ..."
      ]
    },
    {
      "cell_type": "code",
      "execution_count": 238,
      "metadata": {
        "id": "VWwsVsHBTX8j",
        "outputId": "c3f8864a-08fb-4932-ffc9-99719814dcae"
      },
      "outputs": [
        {
          "name": "stdout",
          "output_type": "stream",
          "text": [
            "23.2\n"
          ]
        },
        {
          "data": {
            "text/plain": [
              "31.06153846153847"
            ]
          },
          "execution_count": 238,
          "metadata": {},
          "output_type": "execute_result"
        }
      ],
      "source": [
        "print(menores['Fare'].median())\n",
        "menores['Fare'].mean()"
      ]
    },
    {
      "cell_type": "code",
      "execution_count": 239,
      "metadata": {
        "id": "oM_Lu6T_TX8j",
        "outputId": "1bd87297-1008-435b-a529-3715d1fff811"
      },
      "outputs": [
        {
          "data": {
            "text/plain": [
              "130"
            ]
          },
          "execution_count": 239,
          "metadata": {},
          "output_type": "execute_result"
        }
      ],
      "source": [
        "#Quantidade de menores de 18 anos\n",
        "qtdMn = menores.shape[0]\n",
        "qtdMn"
      ]
    },
    {
      "cell_type": "code",
      "execution_count": 240,
      "metadata": {
        "id": "1YKK_0w0TX8k",
        "outputId": "ecce4b7d-be5f-4ab0-fd82-f704ca57cf55"
      },
      "outputs": [
        {
          "data": {
            "text/plain": [
              "64"
            ]
          },
          "execution_count": 240,
          "metadata": {},
          "output_type": "execute_result"
        }
      ],
      "source": [
        "#Quantidade entre os quartis 1 e 3\n",
        "menores.query('@q1m < Fare < @q3m').shape[0]"
      ]
    },
    {
      "cell_type": "code",
      "execution_count": 241,
      "metadata": {
        "id": "EVY0OjVrTX8k",
        "outputId": "d3910932-a9e6-4255-b847-e550574c579e"
      },
      "outputs": [
        {
          "data": {
            "text/html": [
              "<div>\n",
              "<style scoped>\n",
              "    .dataframe tbody tr th:only-of-type {\n",
              "        vertical-align: middle;\n",
              "    }\n",
              "\n",
              "    .dataframe tbody tr th {\n",
              "        vertical-align: top;\n",
              "    }\n",
              "\n",
              "    .dataframe thead th {\n",
              "        text-align: right;\n",
              "    }\n",
              "</style>\n",
              "<table border=\"1\" class=\"dataframe\">\n",
              "  <thead>\n",
              "    <tr style=\"text-align: right;\">\n",
              "      <th></th>\n",
              "      <th>Survived</th>\n",
              "      <th>Pclass</th>\n",
              "      <th>Name</th>\n",
              "      <th>Sex</th>\n",
              "      <th>Age</th>\n",
              "      <th>Siblings/Spouses Aboard</th>\n",
              "      <th>Parents/Children Aboard</th>\n",
              "      <th>Fare</th>\n",
              "    </tr>\n",
              "  </thead>\n",
              "  <tbody>\n",
              "    <tr>\n",
              "      <th>7</th>\n",
              "      <td>0</td>\n",
              "      <td>3</td>\n",
              "      <td>Master. Gosta Leonard Palsson</td>\n",
              "      <td>male</td>\n",
              "      <td>2.00</td>\n",
              "      <td>3</td>\n",
              "      <td>1</td>\n",
              "      <td>21.1</td>\n",
              "    </tr>\n",
              "    <tr>\n",
              "      <th>9</th>\n",
              "      <td>1</td>\n",
              "      <td>2</td>\n",
              "      <td>Mrs. Nicholas (Adele Achem) Nasser</td>\n",
              "      <td>female</td>\n",
              "      <td>14.00</td>\n",
              "      <td>1</td>\n",
              "      <td>0</td>\n",
              "      <td>30.1</td>\n",
              "    </tr>\n",
              "    <tr>\n",
              "      <th>10</th>\n",
              "      <td>1</td>\n",
              "      <td>3</td>\n",
              "      <td>Miss. Marguerite Rut Sandstrom</td>\n",
              "      <td>female</td>\n",
              "      <td>4.00</td>\n",
              "      <td>1</td>\n",
              "      <td>1</td>\n",
              "      <td>16.7</td>\n",
              "    </tr>\n",
              "    <tr>\n",
              "      <th>16</th>\n",
              "      <td>0</td>\n",
              "      <td>3</td>\n",
              "      <td>Master. Eugene Rice</td>\n",
              "      <td>male</td>\n",
              "      <td>2.00</td>\n",
              "      <td>4</td>\n",
              "      <td>1</td>\n",
              "      <td>29.1</td>\n",
              "    </tr>\n",
              "    <tr>\n",
              "      <th>24</th>\n",
              "      <td>0</td>\n",
              "      <td>3</td>\n",
              "      <td>Miss. Torborg Danira Palsson</td>\n",
              "      <td>female</td>\n",
              "      <td>8.00</td>\n",
              "      <td>3</td>\n",
              "      <td>1</td>\n",
              "      <td>21.1</td>\n",
              "    </tr>\n",
              "    <tr>\n",
              "      <th>...</th>\n",
              "      <td>...</td>\n",
              "      <td>...</td>\n",
              "      <td>...</td>\n",
              "      <td>...</td>\n",
              "      <td>...</td>\n",
              "      <td>...</td>\n",
              "      <td>...</td>\n",
              "      <td>...</td>\n",
              "    </tr>\n",
              "    <tr>\n",
              "      <th>826</th>\n",
              "      <td>1</td>\n",
              "      <td>3</td>\n",
              "      <td>Mrs. Antoni (Selini Alexander) Yasbeck</td>\n",
              "      <td>female</td>\n",
              "      <td>15.00</td>\n",
              "      <td>1</td>\n",
              "      <td>0</td>\n",
              "      <td>14.5</td>\n",
              "    </tr>\n",
              "    <tr>\n",
              "      <th>827</th>\n",
              "      <td>1</td>\n",
              "      <td>2</td>\n",
              "      <td>Master. George Sibley Richards</td>\n",
              "      <td>male</td>\n",
              "      <td>0.83</td>\n",
              "      <td>1</td>\n",
              "      <td>1</td>\n",
              "      <td>18.8</td>\n",
              "    </tr>\n",
              "    <tr>\n",
              "      <th>846</th>\n",
              "      <td>0</td>\n",
              "      <td>3</td>\n",
              "      <td>Master. Sigvard Harald Elias Andersson</td>\n",
              "      <td>male</td>\n",
              "      <td>4.00</td>\n",
              "      <td>4</td>\n",
              "      <td>2</td>\n",
              "      <td>31.3</td>\n",
              "    </tr>\n",
              "    <tr>\n",
              "      <th>848</th>\n",
              "      <td>0</td>\n",
              "      <td>3</td>\n",
              "      <td>Miss. Nourelain Boulos</td>\n",
              "      <td>female</td>\n",
              "      <td>9.00</td>\n",
              "      <td>1</td>\n",
              "      <td>1</td>\n",
              "      <td>15.2</td>\n",
              "    </tr>\n",
              "    <tr>\n",
              "      <th>884</th>\n",
              "      <td>0</td>\n",
              "      <td>3</td>\n",
              "      <td>Miss. Catherine Helen Johnston</td>\n",
              "      <td>female</td>\n",
              "      <td>7.00</td>\n",
              "      <td>1</td>\n",
              "      <td>2</td>\n",
              "      <td>23.4</td>\n",
              "    </tr>\n",
              "  </tbody>\n",
              "</table>\n",
              "<p>64 rows × 8 columns</p>\n",
              "</div>"
            ],
            "text/plain": [
              "     Survived  Pclass                                    Name     Sex    Age  \\\n",
              "7           0       3           Master. Gosta Leonard Palsson    male   2.00   \n",
              "9           1       2      Mrs. Nicholas (Adele Achem) Nasser  female  14.00   \n",
              "10          1       3          Miss. Marguerite Rut Sandstrom  female   4.00   \n",
              "16          0       3                     Master. Eugene Rice    male   2.00   \n",
              "24          0       3            Miss. Torborg Danira Palsson  female   8.00   \n",
              "..        ...     ...                                     ...     ...    ...   \n",
              "826         1       3  Mrs. Antoni (Selini Alexander) Yasbeck  female  15.00   \n",
              "827         1       2          Master. George Sibley Richards    male   0.83   \n",
              "846         0       3  Master. Sigvard Harald Elias Andersson    male   4.00   \n",
              "848         0       3                  Miss. Nourelain Boulos  female   9.00   \n",
              "884         0       3          Miss. Catherine Helen Johnston  female   7.00   \n",
              "\n",
              "     Siblings/Spouses Aboard  Parents/Children Aboard  Fare  \n",
              "7                          3                        1  21.1  \n",
              "9                          1                        0  30.1  \n",
              "10                         1                        1  16.7  \n",
              "16                         4                        1  29.1  \n",
              "24                         3                        1  21.1  \n",
              "..                       ...                      ...   ...  \n",
              "826                        1                        0  14.5  \n",
              "827                        1                        1  18.8  \n",
              "846                        4                        2  31.3  \n",
              "848                        1                        1  15.2  \n",
              "884                        1                        2  23.4  \n",
              "\n",
              "[64 rows x 8 columns]"
            ]
          },
          "execution_count": 241,
          "metadata": {},
          "output_type": "execute_result"
        }
      ],
      "source": [
        "menores.query('@q1m < Fare < @q3m')"
      ]
    },
    {
      "cell_type": "code",
      "execution_count": 242,
      "metadata": {
        "id": "7Nfulh8sTX8k",
        "outputId": "85286cc3-2717-460a-fbd1-3374c1c83bd5"
      },
      "outputs": [
        {
          "name": "stdout",
          "output_type": "stream",
          "text": [
            "13\n"
          ]
        },
        {
          "data": {
            "text/html": [
              "<div>\n",
              "<style scoped>\n",
              "    .dataframe tbody tr th:only-of-type {\n",
              "        vertical-align: middle;\n",
              "    }\n",
              "\n",
              "    .dataframe tbody tr th {\n",
              "        vertical-align: top;\n",
              "    }\n",
              "\n",
              "    .dataframe thead th {\n",
              "        text-align: right;\n",
              "    }\n",
              "</style>\n",
              "<table border=\"1\" class=\"dataframe\">\n",
              "  <thead>\n",
              "    <tr style=\"text-align: right;\">\n",
              "      <th></th>\n",
              "      <th>Survived</th>\n",
              "      <th>Pclass</th>\n",
              "      <th>Name</th>\n",
              "      <th>Sex</th>\n",
              "      <th>Age</th>\n",
              "      <th>Siblings/Spouses Aboard</th>\n",
              "      <th>Parents/Children Aboard</th>\n",
              "      <th>Fare</th>\n",
              "    </tr>\n",
              "  </thead>\n",
              "  <tbody>\n",
              "    <tr>\n",
              "      <th>158</th>\n",
              "      <td>0</td>\n",
              "      <td>3</td>\n",
              "      <td>Master. Thomas Henry Sage</td>\n",
              "      <td>male</td>\n",
              "      <td>5.00</td>\n",
              "      <td>8</td>\n",
              "      <td>2</td>\n",
              "      <td>69.5</td>\n",
              "    </tr>\n",
              "    <tr>\n",
              "      <th>179</th>\n",
              "      <td>0</td>\n",
              "      <td>3</td>\n",
              "      <td>Miss. Constance Gladys Sage</td>\n",
              "      <td>female</td>\n",
              "      <td>8.00</td>\n",
              "      <td>8</td>\n",
              "      <td>2</td>\n",
              "      <td>69.5</td>\n",
              "    </tr>\n",
              "    <tr>\n",
              "      <th>200</th>\n",
              "      <td>0</td>\n",
              "      <td>3</td>\n",
              "      <td>Mr. Frederick Sage</td>\n",
              "      <td>male</td>\n",
              "      <td>17.00</td>\n",
              "      <td>8</td>\n",
              "      <td>2</td>\n",
              "      <td>69.5</td>\n",
              "    </tr>\n",
              "    <tr>\n",
              "      <th>295</th>\n",
              "      <td>0</td>\n",
              "      <td>1</td>\n",
              "      <td>Miss. Helen Loraine Allison</td>\n",
              "      <td>female</td>\n",
              "      <td>2.00</td>\n",
              "      <td>1</td>\n",
              "      <td>2</td>\n",
              "      <td>151.6</td>\n",
              "    </tr>\n",
              "    <tr>\n",
              "      <th>303</th>\n",
              "      <td>1</td>\n",
              "      <td>1</td>\n",
              "      <td>Master. Hudson Trevor Allison</td>\n",
              "      <td>male</td>\n",
              "      <td>0.92</td>\n",
              "      <td>1</td>\n",
              "      <td>2</td>\n",
              "      <td>151.6</td>\n",
              "    </tr>\n",
              "    <tr>\n",
              "      <th>305</th>\n",
              "      <td>1</td>\n",
              "      <td>1</td>\n",
              "      <td>Mrs. Victor de Satode (Maria Josefa Perez de S...</td>\n",
              "      <td>female</td>\n",
              "      <td>17.00</td>\n",
              "      <td>1</td>\n",
              "      <td>0</td>\n",
              "      <td>108.9</td>\n",
              "    </tr>\n",
              "    <tr>\n",
              "      <th>432</th>\n",
              "      <td>1</td>\n",
              "      <td>1</td>\n",
              "      <td>Miss. Lucile Polk Carter</td>\n",
              "      <td>female</td>\n",
              "      <td>14.00</td>\n",
              "      <td>1</td>\n",
              "      <td>2</td>\n",
              "      <td>120.0</td>\n",
              "    </tr>\n",
              "    <tr>\n",
              "      <th>442</th>\n",
              "      <td>1</td>\n",
              "      <td>1</td>\n",
              "      <td>Master. Washington Dodge</td>\n",
              "      <td>male</td>\n",
              "      <td>4.00</td>\n",
              "      <td>0</td>\n",
              "      <td>2</td>\n",
              "      <td>81.9</td>\n",
              "    </tr>\n",
              "    <tr>\n",
              "      <th>501</th>\n",
              "      <td>1</td>\n",
              "      <td>1</td>\n",
              "      <td>Miss. Roberta Maioni</td>\n",
              "      <td>female</td>\n",
              "      <td>16.00</td>\n",
              "      <td>0</td>\n",
              "      <td>0</td>\n",
              "      <td>86.5</td>\n",
              "    </tr>\n",
              "    <tr>\n",
              "      <th>547</th>\n",
              "      <td>1</td>\n",
              "      <td>1</td>\n",
              "      <td>Mr. John Borland Jr Thayer</td>\n",
              "      <td>male</td>\n",
              "      <td>17.00</td>\n",
              "      <td>0</td>\n",
              "      <td>2</td>\n",
              "      <td>110.9</td>\n",
              "    </tr>\n",
              "    <tr>\n",
              "      <th>686</th>\n",
              "      <td>1</td>\n",
              "      <td>1</td>\n",
              "      <td>Miss. Georgette Alexandra Madill</td>\n",
              "      <td>female</td>\n",
              "      <td>15.00</td>\n",
              "      <td>0</td>\n",
              "      <td>1</td>\n",
              "      <td>211.3</td>\n",
              "    </tr>\n",
              "    <tr>\n",
              "      <th>798</th>\n",
              "      <td>1</td>\n",
              "      <td>1</td>\n",
              "      <td>Master. William Thornton II Carter</td>\n",
              "      <td>male</td>\n",
              "      <td>11.00</td>\n",
              "      <td>1</td>\n",
              "      <td>2</td>\n",
              "      <td>120.0</td>\n",
              "    </tr>\n",
              "    <tr>\n",
              "      <th>859</th>\n",
              "      <td>0</td>\n",
              "      <td>3</td>\n",
              "      <td>Miss. Dorothy Edith Sage</td>\n",
              "      <td>female</td>\n",
              "      <td>14.00</td>\n",
              "      <td>8</td>\n",
              "      <td>2</td>\n",
              "      <td>69.5</td>\n",
              "    </tr>\n",
              "  </tbody>\n",
              "</table>\n",
              "</div>"
            ],
            "text/plain": [
              "     Survived  Pclass                                               Name  \\\n",
              "158         0       3                          Master. Thomas Henry Sage   \n",
              "179         0       3                        Miss. Constance Gladys Sage   \n",
              "200         0       3                                 Mr. Frederick Sage   \n",
              "295         0       1                        Miss. Helen Loraine Allison   \n",
              "303         1       1                      Master. Hudson Trevor Allison   \n",
              "305         1       1  Mrs. Victor de Satode (Maria Josefa Perez de S...   \n",
              "432         1       1                           Miss. Lucile Polk Carter   \n",
              "442         1       1                           Master. Washington Dodge   \n",
              "501         1       1                               Miss. Roberta Maioni   \n",
              "547         1       1                         Mr. John Borland Jr Thayer   \n",
              "686         1       1                   Miss. Georgette Alexandra Madill   \n",
              "798         1       1                 Master. William Thornton II Carter   \n",
              "859         0       3                           Miss. Dorothy Edith Sage   \n",
              "\n",
              "        Sex    Age  Siblings/Spouses Aboard  Parents/Children Aboard   Fare  \n",
              "158    male   5.00                        8                        2   69.5  \n",
              "179  female   8.00                        8                        2   69.5  \n",
              "200    male  17.00                        8                        2   69.5  \n",
              "295  female   2.00                        1                        2  151.6  \n",
              "303    male   0.92                        1                        2  151.6  \n",
              "305  female  17.00                        1                        0  108.9  \n",
              "432  female  14.00                        1                        2  120.0  \n",
              "442    male   4.00                        0                        2   81.9  \n",
              "501  female  16.00                        0                        0   86.5  \n",
              "547    male  17.00                        0                        2  110.9  \n",
              "686  female  15.00                        0                        1  211.3  \n",
              "798    male  11.00                        1                        2  120.0  \n",
              "859  female  14.00                        8                        2   69.5  "
            ]
          },
          "execution_count": 242,
          "metadata": {},
          "output_type": "execute_result"
        }
      ],
      "source": [
        "#'Outliers' para cima. Seriam todos eles outliers? 13 no total de 130. 10% pode ser considerado outlier?\n",
        "print(menores.query('Fare > @menoresOutHigh').shape[0])\n",
        "menores.query('Fare > @menoresOutHigh')"
      ]
    },
    {
      "cell_type": "markdown",
      "metadata": {},
      "source": [
        "## Media, Moda, Mediana ~> Três Classes"
      ]
    },
    {
      "cell_type": "markdown",
      "metadata": {},
      "source": [
        "### Primeira Classe"
      ]
    },
    {
      "cell_type": "code",
      "execution_count": 244,
      "metadata": {},
      "outputs": [
        {
          "data": {
            "text/html": [
              "<div>\n",
              "<style scoped>\n",
              "    .dataframe tbody tr th:only-of-type {\n",
              "        vertical-align: middle;\n",
              "    }\n",
              "\n",
              "    .dataframe tbody tr th {\n",
              "        vertical-align: top;\n",
              "    }\n",
              "\n",
              "    .dataframe thead th {\n",
              "        text-align: right;\n",
              "    }\n",
              "</style>\n",
              "<table border=\"1\" class=\"dataframe\">\n",
              "  <thead>\n",
              "    <tr style=\"text-align: right;\">\n",
              "      <th></th>\n",
              "      <th>Survived</th>\n",
              "      <th>Pclass</th>\n",
              "      <th>Name</th>\n",
              "      <th>Sex</th>\n",
              "      <th>Age</th>\n",
              "      <th>Siblings/Spouses Aboard</th>\n",
              "      <th>Parents/Children Aboard</th>\n",
              "      <th>Fare</th>\n",
              "    </tr>\n",
              "  </thead>\n",
              "  <tbody>\n",
              "    <tr>\n",
              "      <th>261</th>\n",
              "      <td>0</td>\n",
              "      <td>1</td>\n",
              "      <td>Mr. William Harrison</td>\n",
              "      <td>male</td>\n",
              "      <td>40.0</td>\n",
              "      <td>0</td>\n",
              "      <td>0</td>\n",
              "      <td>0.0</td>\n",
              "    </tr>\n",
              "    <tr>\n",
              "      <th>630</th>\n",
              "      <td>0</td>\n",
              "      <td>1</td>\n",
              "      <td>Mr. William Henry Marsh Parr</td>\n",
              "      <td>male</td>\n",
              "      <td>30.0</td>\n",
              "      <td>0</td>\n",
              "      <td>0</td>\n",
              "      <td>0.0</td>\n",
              "    </tr>\n",
              "    <tr>\n",
              "      <th>802</th>\n",
              "      <td>0</td>\n",
              "      <td>1</td>\n",
              "      <td>Mr. Thomas Jr Andrews</td>\n",
              "      <td>male</td>\n",
              "      <td>39.0</td>\n",
              "      <td>0</td>\n",
              "      <td>0</td>\n",
              "      <td>0.0</td>\n",
              "    </tr>\n",
              "    <tr>\n",
              "      <th>811</th>\n",
              "      <td>0</td>\n",
              "      <td>1</td>\n",
              "      <td>Mr. Richard Fry</td>\n",
              "      <td>male</td>\n",
              "      <td>39.0</td>\n",
              "      <td>0</td>\n",
              "      <td>0</td>\n",
              "      <td>0.0</td>\n",
              "    </tr>\n",
              "    <tr>\n",
              "      <th>818</th>\n",
              "      <td>0</td>\n",
              "      <td>1</td>\n",
              "      <td>Jonkheer. John George Reuchlin</td>\n",
              "      <td>male</td>\n",
              "      <td>38.0</td>\n",
              "      <td>0</td>\n",
              "      <td>0</td>\n",
              "      <td>0.0</td>\n",
              "    </tr>\n",
              "  </tbody>\n",
              "</table>\n",
              "</div>"
            ],
            "text/plain": [
              "     Survived  Pclass                            Name   Sex   Age  \\\n",
              "261         0       1            Mr. William Harrison  male  40.0   \n",
              "630         0       1    Mr. William Henry Marsh Parr  male  30.0   \n",
              "802         0       1           Mr. Thomas Jr Andrews  male  39.0   \n",
              "811         0       1                 Mr. Richard Fry  male  39.0   \n",
              "818         0       1  Jonkheer. John George Reuchlin  male  38.0   \n",
              "\n",
              "     Siblings/Spouses Aboard  Parents/Children Aboard  Fare  \n",
              "261                        0                        0   0.0  \n",
              "630                        0                        0   0.0  \n",
              "802                        0                        0   0.0  \n",
              "811                        0                        0   0.0  \n",
              "818                        0                        0   0.0  "
            ]
          },
          "execution_count": 244,
          "metadata": {},
          "output_type": "execute_result"
        }
      ],
      "source": [
        "primeiraClasse[primeiraClasse['Fare'] == 0]"
      ]
    },
    {
      "cell_type": "code",
      "execution_count": 245,
      "metadata": {},
      "outputs": [
        {
          "data": {
            "text/plain": [
              "count    216.000000\n",
              "mean      84.162037\n",
              "std       78.375446\n",
              "min        0.000000\n",
              "25%       30.925000\n",
              "50%       60.300000\n",
              "75%       93.500000\n",
              "max      512.300000\n",
              "Name: Fare, dtype: float64"
            ]
          },
          "execution_count": 245,
          "metadata": {},
          "output_type": "execute_result"
        }
      ],
      "source": [
        "primeiraClasse['Fare'].describe()"
      ]
    },
    {
      "cell_type": "markdown",
      "metadata": {},
      "source": [
        "### Segunda Classe"
      ]
    },
    {
      "cell_type": "code",
      "execution_count": 246,
      "metadata": {},
      "outputs": [
        {
          "data": {
            "text/plain": [
              "count    184.000000\n",
              "mean      20.663587\n",
              "std       13.418250\n",
              "min        0.000000\n",
              "25%       13.000000\n",
              "50%       14.250000\n",
              "75%       26.000000\n",
              "max       73.500000\n",
              "Name: Fare, dtype: float64"
            ]
          },
          "execution_count": 246,
          "metadata": {},
          "output_type": "execute_result"
        }
      ],
      "source": [
        "segundaClasse['Fare'].describe()"
      ]
    },
    {
      "cell_type": "code",
      "execution_count": 263,
      "metadata": {},
      "outputs": [],
      "source": [
        "modaSC = segundaClasse['Fare'].mode()\n",
        "medianSC = segundaClasse['Fare'].median()\n",
        "meanSC = segundaClasse['Fare'].mean()"
      ]
    },
    {
      "cell_type": "code",
      "execution_count": 268,
      "metadata": {},
      "outputs": [
        {
          "ename": "IndexError",
          "evalue": "invalid index to scalar variable.",
          "output_type": "error",
          "traceback": [
            "\u001b[1;31m---------------------------------------------------------------------------\u001b[0m",
            "\u001b[1;31mIndexError\u001b[0m                                Traceback (most recent call last)",
            "\u001b[1;32m~\\AppData\\Local\\Temp/ipykernel_412/85586969.py\u001b[0m in \u001b[0;36m<module>\u001b[1;34m\u001b[0m\n\u001b[1;32m----> 1\u001b[1;33m \u001b[0mmodaSC\u001b[0m \u001b[1;33m=\u001b[0m \u001b[0mmodaSC\u001b[0m\u001b[1;33m[\u001b[0m\u001b[1;36m0\u001b[0m\u001b[1;33m]\u001b[0m\u001b[1;33m\u001b[0m\u001b[1;33m\u001b[0m\u001b[0m\n\u001b[0m\u001b[0;32m      2\u001b[0m \u001b[0mmodaSC\u001b[0m\u001b[1;33m\u001b[0m\u001b[1;33m\u001b[0m\u001b[0m\n",
            "\u001b[1;31mIndexError\u001b[0m: invalid index to scalar variable."
          ]
        }
      ],
      "source": [
        "modaSC = modaSC[0]"
      ]
    },
    {
      "cell_type": "code",
      "execution_count": 272,
      "metadata": {},
      "outputs": [
        {
          "data": {
            "text/plain": [
              "13.0"
            ]
          },
          "execution_count": 272,
          "metadata": {},
          "output_type": "execute_result"
        }
      ],
      "source": [
        "modaSC # Muitos valores se repetindo na parte de baixo"
      ]
    },
    {
      "cell_type": "code",
      "execution_count": 270,
      "metadata": {},
      "outputs": [
        {
          "data": {
            "text/plain": [
              "14.25"
            ]
          },
          "execution_count": 270,
          "metadata": {},
          "output_type": "execute_result"
        }
      ],
      "source": [
        "medianSC # Ordenando, podemos ver que a mediana ainda é um número baixo, porém em seguida vem a média:"
      ]
    },
    {
      "cell_type": "code",
      "execution_count": 271,
      "metadata": {},
      "outputs": [
        {
          "data": {
            "text/plain": [
              "20.663586956521737"
            ]
          },
          "execution_count": 271,
          "metadata": {},
          "output_type": "execute_result"
        }
      ],
      "source": [
        "meanSC # A média se distancia bastante da moda. Podemos ver pelos quartis Q1 Q2 que pelo menos 50% da Segunda Classe pagou até £ 14.25\n",
        "# Se pelo menos 50% pagou até esse valor, e ainda assim a média sobe para 20,\n",
        "#  provavelmente bastante gente viajou na segunda classe com uma tarifa alta \n",
        "# ou seja, dividindo o bilhete comprado (familia/amigos/companheiros de trabalho)"
      ]
    },
    {
      "cell_type": "markdown",
      "metadata": {},
      "source": [
        "#### Desacompanhados"
      ]
    },
    {
      "cell_type": "code",
      "execution_count": 291,
      "metadata": {},
      "outputs": [
        {
          "data": {
            "text/html": [
              "<div>\n",
              "<style scoped>\n",
              "    .dataframe tbody tr th:only-of-type {\n",
              "        vertical-align: middle;\n",
              "    }\n",
              "\n",
              "    .dataframe tbody tr th {\n",
              "        vertical-align: top;\n",
              "    }\n",
              "\n",
              "    .dataframe thead th {\n",
              "        text-align: right;\n",
              "    }\n",
              "</style>\n",
              "<table border=\"1\" class=\"dataframe\">\n",
              "  <thead>\n",
              "    <tr style=\"text-align: right;\">\n",
              "      <th></th>\n",
              "      <th>Survived</th>\n",
              "      <th>Pclass</th>\n",
              "      <th>Name</th>\n",
              "      <th>Sex</th>\n",
              "      <th>Age</th>\n",
              "      <th>Siblings/Spouses Aboard</th>\n",
              "      <th>Parents/Children Aboard</th>\n",
              "      <th>Fare</th>\n",
              "    </tr>\n",
              "  </thead>\n",
              "  <tbody>\n",
              "    <tr>\n",
              "      <th>15</th>\n",
              "      <td>1</td>\n",
              "      <td>2</td>\n",
              "      <td>Mrs. (Mary D Kingcome) Hewlett</td>\n",
              "      <td>female</td>\n",
              "      <td>55.0</td>\n",
              "      <td>0</td>\n",
              "      <td>0</td>\n",
              "      <td>16.0</td>\n",
              "    </tr>\n",
              "    <tr>\n",
              "      <th>17</th>\n",
              "      <td>1</td>\n",
              "      <td>2</td>\n",
              "      <td>Mr. Charles Eugene Williams</td>\n",
              "      <td>male</td>\n",
              "      <td>23.0</td>\n",
              "      <td>0</td>\n",
              "      <td>0</td>\n",
              "      <td>13.0</td>\n",
              "    </tr>\n",
              "    <tr>\n",
              "      <th>20</th>\n",
              "      <td>0</td>\n",
              "      <td>2</td>\n",
              "      <td>Mr. Joseph J Fynney</td>\n",
              "      <td>male</td>\n",
              "      <td>35.0</td>\n",
              "      <td>0</td>\n",
              "      <td>0</td>\n",
              "      <td>26.0</td>\n",
              "    </tr>\n",
              "    <tr>\n",
              "      <th>21</th>\n",
              "      <td>1</td>\n",
              "      <td>2</td>\n",
              "      <td>Mr. Lawrence Beesley</td>\n",
              "      <td>male</td>\n",
              "      <td>34.0</td>\n",
              "      <td>0</td>\n",
              "      <td>0</td>\n",
              "      <td>13.0</td>\n",
              "    </tr>\n",
              "    <tr>\n",
              "      <th>33</th>\n",
              "      <td>0</td>\n",
              "      <td>2</td>\n",
              "      <td>Mr. Edward H Wheadon</td>\n",
              "      <td>male</td>\n",
              "      <td>66.0</td>\n",
              "      <td>0</td>\n",
              "      <td>0</td>\n",
              "      <td>10.5</td>\n",
              "    </tr>\n",
              "    <tr>\n",
              "      <th>...</th>\n",
              "      <td>...</td>\n",
              "      <td>...</td>\n",
              "      <td>...</td>\n",
              "      <td>...</td>\n",
              "      <td>...</td>\n",
              "      <td>...</td>\n",
              "      <td>...</td>\n",
              "      <td>...</td>\n",
              "    </tr>\n",
              "    <tr>\n",
              "      <th>837</th>\n",
              "      <td>0</td>\n",
              "      <td>2</td>\n",
              "      <td>Mr. Thomas Charles Mudd</td>\n",
              "      <td>male</td>\n",
              "      <td>16.0</td>\n",
              "      <td>0</td>\n",
              "      <td>0</td>\n",
              "      <td>10.5</td>\n",
              "    </tr>\n",
              "    <tr>\n",
              "      <th>860</th>\n",
              "      <td>0</td>\n",
              "      <td>2</td>\n",
              "      <td>Mr. John William Gill</td>\n",
              "      <td>male</td>\n",
              "      <td>24.0</td>\n",
              "      <td>0</td>\n",
              "      <td>0</td>\n",
              "      <td>13.0</td>\n",
              "    </tr>\n",
              "    <tr>\n",
              "      <th>861</th>\n",
              "      <td>1</td>\n",
              "      <td>2</td>\n",
              "      <td>Mrs. (Karolina) Bystrom</td>\n",
              "      <td>female</td>\n",
              "      <td>42.0</td>\n",
              "      <td>0</td>\n",
              "      <td>0</td>\n",
              "      <td>13.0</td>\n",
              "    </tr>\n",
              "    <tr>\n",
              "      <th>879</th>\n",
              "      <td>0</td>\n",
              "      <td>2</td>\n",
              "      <td>Mr. Frederick James Banfield</td>\n",
              "      <td>male</td>\n",
              "      <td>28.0</td>\n",
              "      <td>0</td>\n",
              "      <td>0</td>\n",
              "      <td>10.5</td>\n",
              "    </tr>\n",
              "    <tr>\n",
              "      <th>882</th>\n",
              "      <td>0</td>\n",
              "      <td>2</td>\n",
              "      <td>Rev. Juozas Montvila</td>\n",
              "      <td>male</td>\n",
              "      <td>27.0</td>\n",
              "      <td>0</td>\n",
              "      <td>0</td>\n",
              "      <td>13.0</td>\n",
              "    </tr>\n",
              "  </tbody>\n",
              "</table>\n",
              "<p>104 rows × 8 columns</p>\n",
              "</div>"
            ],
            "text/plain": [
              "     Survived  Pclass                            Name     Sex   Age  \\\n",
              "15          1       2  Mrs. (Mary D Kingcome) Hewlett  female  55.0   \n",
              "17          1       2     Mr. Charles Eugene Williams    male  23.0   \n",
              "20          0       2             Mr. Joseph J Fynney    male  35.0   \n",
              "21          1       2            Mr. Lawrence Beesley    male  34.0   \n",
              "33          0       2            Mr. Edward H Wheadon    male  66.0   \n",
              "..        ...     ...                             ...     ...   ...   \n",
              "837         0       2         Mr. Thomas Charles Mudd    male  16.0   \n",
              "860         0       2           Mr. John William Gill    male  24.0   \n",
              "861         1       2         Mrs. (Karolina) Bystrom  female  42.0   \n",
              "879         0       2    Mr. Frederick James Banfield    male  28.0   \n",
              "882         0       2            Rev. Juozas Montvila    male  27.0   \n",
              "\n",
              "     Siblings/Spouses Aboard  Parents/Children Aboard  Fare  \n",
              "15                         0                        0  16.0  \n",
              "17                         0                        0  13.0  \n",
              "20                         0                        0  26.0  \n",
              "21                         0                        0  13.0  \n",
              "33                         0                        0  10.5  \n",
              "..                       ...                      ...   ...  \n",
              "837                        0                        0  10.5  \n",
              "860                        0                        0  13.0  \n",
              "861                        0                        0  13.0  \n",
              "879                        0                        0  10.5  \n",
              "882                        0                        0  13.0  \n",
              "\n",
              "[104 rows x 8 columns]"
            ]
          },
          "execution_count": 291,
          "metadata": {},
          "output_type": "execute_result"
        }
      ],
      "source": [
        "segundaClasseDesacompanhados = segundaClasse[(segundaClasse['Siblings/Spouses Aboard'] == 0) & (segundaClasse['Parents/Children Aboard'] == 0)]\n",
        "segundaClasseDesacompanhados"
      ]
    },
    {
      "cell_type": "code",
      "execution_count": 310,
      "metadata": {},
      "outputs": [
        {
          "data": {
            "text/html": [
              "<div>\n",
              "<style scoped>\n",
              "    .dataframe tbody tr th:only-of-type {\n",
              "        vertical-align: middle;\n",
              "    }\n",
              "\n",
              "    .dataframe tbody tr th {\n",
              "        vertical-align: top;\n",
              "    }\n",
              "\n",
              "    .dataframe thead th {\n",
              "        text-align: right;\n",
              "    }\n",
              "</style>\n",
              "<table border=\"1\" class=\"dataframe\">\n",
              "  <thead>\n",
              "    <tr style=\"text-align: right;\">\n",
              "      <th></th>\n",
              "      <th>Survived</th>\n",
              "      <th>Pclass</th>\n",
              "      <th>Name</th>\n",
              "      <th>Sex</th>\n",
              "      <th>Age</th>\n",
              "      <th>Siblings/Spouses Aboard</th>\n",
              "      <th>Parents/Children Aboard</th>\n",
              "      <th>Fare</th>\n",
              "    </tr>\n",
              "  </thead>\n",
              "  <tbody>\n",
              "    <tr>\n",
              "      <th>383</th>\n",
              "      <td>0</td>\n",
              "      <td>2</td>\n",
              "      <td>Mr. Charles Henry Davies</td>\n",
              "      <td>male</td>\n",
              "      <td>18.0</td>\n",
              "      <td>0</td>\n",
              "      <td>0</td>\n",
              "      <td>73.5</td>\n",
              "    </tr>\n",
              "    <tr>\n",
              "      <th>71</th>\n",
              "      <td>0</td>\n",
              "      <td>2</td>\n",
              "      <td>Mr. Ambrose Jr Hood</td>\n",
              "      <td>male</td>\n",
              "      <td>21.0</td>\n",
              "      <td>0</td>\n",
              "      <td>0</td>\n",
              "      <td>73.5</td>\n",
              "    </tr>\n",
              "    <tr>\n",
              "      <th>593</th>\n",
              "      <td>1</td>\n",
              "      <td>2</td>\n",
              "      <td>Miss. Jessie Wills Leitch</td>\n",
              "      <td>female</td>\n",
              "      <td>31.0</td>\n",
              "      <td>0</td>\n",
              "      <td>0</td>\n",
              "      <td>33.0</td>\n",
              "    </tr>\n",
              "    <tr>\n",
              "      <th>702</th>\n",
              "      <td>0</td>\n",
              "      <td>2</td>\n",
              "      <td>Mr. Henry Samuel Morley</td>\n",
              "      <td>male</td>\n",
              "      <td>39.0</td>\n",
              "      <td>0</td>\n",
              "      <td>0</td>\n",
              "      <td>26.0</td>\n",
              "    </tr>\n",
              "    <tr>\n",
              "      <th>20</th>\n",
              "      <td>0</td>\n",
              "      <td>2</td>\n",
              "      <td>Mr. Joseph J Fynney</td>\n",
              "      <td>male</td>\n",
              "      <td>35.0</td>\n",
              "      <td>0</td>\n",
              "      <td>0</td>\n",
              "      <td>26.0</td>\n",
              "    </tr>\n",
              "    <tr>\n",
              "      <th>395</th>\n",
              "      <td>0</td>\n",
              "      <td>2</td>\n",
              "      <td>Mr. Peter David McKane</td>\n",
              "      <td>male</td>\n",
              "      <td>46.0</td>\n",
              "      <td>0</td>\n",
              "      <td>0</td>\n",
              "      <td>26.0</td>\n",
              "    </tr>\n",
              "    <tr>\n",
              "      <th>424</th>\n",
              "      <td>1</td>\n",
              "      <td>2</td>\n",
              "      <td>Miss. Kate Florence Phillips</td>\n",
              "      <td>female</td>\n",
              "      <td>19.0</td>\n",
              "      <td>0</td>\n",
              "      <td>0</td>\n",
              "      <td>26.0</td>\n",
              "    </tr>\n",
              "    <tr>\n",
              "      <th>548</th>\n",
              "      <td>0</td>\n",
              "      <td>2</td>\n",
              "      <td>Mr. Percival James R Sharp</td>\n",
              "      <td>male</td>\n",
              "      <td>27.0</td>\n",
              "      <td>0</td>\n",
              "      <td>0</td>\n",
              "      <td>26.0</td>\n",
              "    </tr>\n",
              "    <tr>\n",
              "      <th>579</th>\n",
              "      <td>0</td>\n",
              "      <td>2</td>\n",
              "      <td>Mr. William James Downton</td>\n",
              "      <td>male</td>\n",
              "      <td>54.0</td>\n",
              "      <td>0</td>\n",
              "      <td>0</td>\n",
              "      <td>26.0</td>\n",
              "    </tr>\n",
              "    <tr>\n",
              "      <th>787</th>\n",
              "      <td>0</td>\n",
              "      <td>2</td>\n",
              "      <td>Mr. Alfred Gaskell</td>\n",
              "      <td>male</td>\n",
              "      <td>16.0</td>\n",
              "      <td>0</td>\n",
              "      <td>0</td>\n",
              "      <td>26.0</td>\n",
              "    </tr>\n",
              "    <tr>\n",
              "      <th>210</th>\n",
              "      <td>1</td>\n",
              "      <td>2</td>\n",
              "      <td>Miss. Clear Annie Cameron</td>\n",
              "      <td>female</td>\n",
              "      <td>35.0</td>\n",
              "      <td>0</td>\n",
              "      <td>0</td>\n",
              "      <td>21.0</td>\n",
              "    </tr>\n",
              "    <tr>\n",
              "      <th>15</th>\n",
              "      <td>1</td>\n",
              "      <td>2</td>\n",
              "      <td>Mrs. (Mary D Kingcome) Hewlett</td>\n",
              "      <td>female</td>\n",
              "      <td>55.0</td>\n",
              "      <td>0</td>\n",
              "      <td>0</td>\n",
              "      <td>16.0</td>\n",
              "    </tr>\n",
              "    <tr>\n",
              "      <th>160</th>\n",
              "      <td>1</td>\n",
              "      <td>2</td>\n",
              "      <td>Mrs. James (Elizabeth Inglis Milne) Watt</td>\n",
              "      <td>female</td>\n",
              "      <td>40.0</td>\n",
              "      <td>0</td>\n",
              "      <td>0</td>\n",
              "      <td>15.8</td>\n",
              "    </tr>\n",
              "    <tr>\n",
              "      <th>180</th>\n",
              "      <td>0</td>\n",
              "      <td>2</td>\n",
              "      <td>Mr. Rene Pernot</td>\n",
              "      <td>male</td>\n",
              "      <td>39.0</td>\n",
              "      <td>0</td>\n",
              "      <td>0</td>\n",
              "      <td>15.1</td>\n",
              "    </tr>\n",
              "    <tr>\n",
              "      <th>583</th>\n",
              "      <td>0</td>\n",
              "      <td>2</td>\n",
              "      <td>Mr. John Denzil Jarvis</td>\n",
              "      <td>male</td>\n",
              "      <td>47.0</td>\n",
              "      <td>0</td>\n",
              "      <td>0</td>\n",
              "      <td>15.0</td>\n",
              "    </tr>\n",
              "    <tr>\n",
              "      <th>134</th>\n",
              "      <td>0</td>\n",
              "      <td>2</td>\n",
              "      <td>Mr. Emile Richard</td>\n",
              "      <td>male</td>\n",
              "      <td>23.0</td>\n",
              "      <td>0</td>\n",
              "      <td>0</td>\n",
              "      <td>15.0</td>\n",
              "    </tr>\n",
              "    <tr>\n",
              "      <th>315</th>\n",
              "      <td>0</td>\n",
              "      <td>2</td>\n",
              "      <td>Dr. Ernest Moraweck</td>\n",
              "      <td>male</td>\n",
              "      <td>54.0</td>\n",
              "      <td>0</td>\n",
              "      <td>0</td>\n",
              "      <td>14.0</td>\n",
              "    </tr>\n",
              "    <tr>\n",
              "      <th>544</th>\n",
              "      <td>1</td>\n",
              "      <td>2</td>\n",
              "      <td>Mr. Julian Padro y Manent</td>\n",
              "      <td>male</td>\n",
              "      <td>27.0</td>\n",
              "      <td>0</td>\n",
              "      <td>0</td>\n",
              "      <td>13.9</td>\n",
              "    </tr>\n",
              "    <tr>\n",
              "      <th>470</th>\n",
              "      <td>1</td>\n",
              "      <td>2</td>\n",
              "      <td>Mrs. Amin S (Marie Marthe Thuillard) Jerwan</td>\n",
              "      <td>female</td>\n",
              "      <td>23.0</td>\n",
              "      <td>0</td>\n",
              "      <td>0</td>\n",
              "      <td>13.8</td>\n",
              "    </tr>\n",
              "    <tr>\n",
              "      <th>692</th>\n",
              "      <td>0</td>\n",
              "      <td>2</td>\n",
              "      <td>Mr. Charles Henry Chapman</td>\n",
              "      <td>male</td>\n",
              "      <td>52.0</td>\n",
              "      <td>0</td>\n",
              "      <td>0</td>\n",
              "      <td>13.5</td>\n",
              "    </tr>\n",
              "  </tbody>\n",
              "</table>\n",
              "</div>"
            ],
            "text/plain": [
              "     Survived  Pclass                                         Name     Sex  \\\n",
              "383         0       2                     Mr. Charles Henry Davies    male   \n",
              "71          0       2                          Mr. Ambrose Jr Hood    male   \n",
              "593         1       2                    Miss. Jessie Wills Leitch  female   \n",
              "702         0       2                      Mr. Henry Samuel Morley    male   \n",
              "20          0       2                          Mr. Joseph J Fynney    male   \n",
              "395         0       2                       Mr. Peter David McKane    male   \n",
              "424         1       2                 Miss. Kate Florence Phillips  female   \n",
              "548         0       2                   Mr. Percival James R Sharp    male   \n",
              "579         0       2                    Mr. William James Downton    male   \n",
              "787         0       2                           Mr. Alfred Gaskell    male   \n",
              "210         1       2                    Miss. Clear Annie Cameron  female   \n",
              "15          1       2               Mrs. (Mary D Kingcome) Hewlett  female   \n",
              "160         1       2     Mrs. James (Elizabeth Inglis Milne) Watt  female   \n",
              "180         0       2                              Mr. Rene Pernot    male   \n",
              "583         0       2                       Mr. John Denzil Jarvis    male   \n",
              "134         0       2                            Mr. Emile Richard    male   \n",
              "315         0       2                          Dr. Ernest Moraweck    male   \n",
              "544         1       2                    Mr. Julian Padro y Manent    male   \n",
              "470         1       2  Mrs. Amin S (Marie Marthe Thuillard) Jerwan  female   \n",
              "692         0       2                    Mr. Charles Henry Chapman    male   \n",
              "\n",
              "      Age  Siblings/Spouses Aboard  Parents/Children Aboard  Fare  \n",
              "383  18.0                        0                        0  73.5  \n",
              "71   21.0                        0                        0  73.5  \n",
              "593  31.0                        0                        0  33.0  \n",
              "702  39.0                        0                        0  26.0  \n",
              "20   35.0                        0                        0  26.0  \n",
              "395  46.0                        0                        0  26.0  \n",
              "424  19.0                        0                        0  26.0  \n",
              "548  27.0                        0                        0  26.0  \n",
              "579  54.0                        0                        0  26.0  \n",
              "787  16.0                        0                        0  26.0  \n",
              "210  35.0                        0                        0  21.0  \n",
              "15   55.0                        0                        0  16.0  \n",
              "160  40.0                        0                        0  15.8  \n",
              "180  39.0                        0                        0  15.1  \n",
              "583  47.0                        0                        0  15.0  \n",
              "134  23.0                        0                        0  15.0  \n",
              "315  54.0                        0                        0  14.0  \n",
              "544  27.0                        0                        0  13.9  \n",
              "470  23.0                        0                        0  13.8  \n",
              "692  52.0                        0                        0  13.5  "
            ]
          },
          "execution_count": 310,
          "metadata": {},
          "output_type": "execute_result"
        }
      ],
      "source": [
        "sCDOrd = segundaClasseDesacompanhados.sort_values(by=['Fare'], ascending=False).head(20)\n",
        "sCDOrd\n",
        "# https://www.encyclopedia-titanica.org/titanic-victim/charles-henry-davies.html\n",
        "# Charle H. D. e Mr. Ambr. Viajavam juntos. Porém segundo o texto, junto com eles haviam mais\n",
        "# Ambrose Hood, William Dibden, Percy William Deacon, Leonard Mark Hickman , Lewis Hickman and Stanley George Hickman\n",
        "# O nome de alguns desses viajantes entretanto, não foram encontrados. Os 3 ultimos estão no navio, mas contam com familiares a bordo."
      ]
    },
    {
      "cell_type": "code",
      "execution_count": 311,
      "metadata": {},
      "outputs": [
        {
          "data": {
            "text/html": [
              "<div>\n",
              "<style scoped>\n",
              "    .dataframe tbody tr th:only-of-type {\n",
              "        vertical-align: middle;\n",
              "    }\n",
              "\n",
              "    .dataframe tbody tr th {\n",
              "        vertical-align: top;\n",
              "    }\n",
              "\n",
              "    .dataframe thead th {\n",
              "        text-align: right;\n",
              "    }\n",
              "</style>\n",
              "<table border=\"1\" class=\"dataframe\">\n",
              "  <thead>\n",
              "    <tr style=\"text-align: right;\">\n",
              "      <th></th>\n",
              "      <th>Survived</th>\n",
              "      <th>Pclass</th>\n",
              "      <th>Name</th>\n",
              "      <th>Sex</th>\n",
              "      <th>Age</th>\n",
              "      <th>Siblings/Spouses Aboard</th>\n",
              "      <th>Parents/Children Aboard</th>\n",
              "      <th>Fare</th>\n",
              "    </tr>\n",
              "  </thead>\n",
              "  <tbody>\n",
              "  </tbody>\n",
              "</table>\n",
              "</div>"
            ],
            "text/plain": [
              "Empty DataFrame\n",
              "Columns: [Survived, Pclass, Name, Sex, Age, Siblings/Spouses Aboard, Parents/Children Aboard, Fare]\n",
              "Index: []"
            ]
          },
          "execution_count": 311,
          "metadata": {},
          "output_type": "execute_result"
        }
      ],
      "source": [
        "titanic[titanic.Name.str.contains('Dibden')]"
      ]
    },
    {
      "cell_type": "code",
      "execution_count": 316,
      "metadata": {},
      "outputs": [
        {
          "data": {
            "text/html": [
              "<div>\n",
              "<style scoped>\n",
              "    .dataframe tbody tr th:only-of-type {\n",
              "        vertical-align: middle;\n",
              "    }\n",
              "\n",
              "    .dataframe tbody tr th {\n",
              "        vertical-align: top;\n",
              "    }\n",
              "\n",
              "    .dataframe thead th {\n",
              "        text-align: right;\n",
              "    }\n",
              "</style>\n",
              "<table border=\"1\" class=\"dataframe\">\n",
              "  <thead>\n",
              "    <tr style=\"text-align: right;\">\n",
              "      <th></th>\n",
              "      <th>Survived</th>\n",
              "      <th>Pclass</th>\n",
              "      <th>Name</th>\n",
              "      <th>Sex</th>\n",
              "      <th>Age</th>\n",
              "      <th>Siblings/Spouses Aboard</th>\n",
              "      <th>Parents/Children Aboard</th>\n",
              "      <th>Fare</th>\n",
              "    </tr>\n",
              "  </thead>\n",
              "  <tbody>\n",
              "    <tr>\n",
              "      <th>593</th>\n",
              "      <td>1</td>\n",
              "      <td>2</td>\n",
              "      <td>Miss. Jessie Wills Leitch</td>\n",
              "      <td>female</td>\n",
              "      <td>31.0</td>\n",
              "      <td>0</td>\n",
              "      <td>0</td>\n",
              "      <td>33.0</td>\n",
              "    </tr>\n",
              "    <tr>\n",
              "      <th>424</th>\n",
              "      <td>1</td>\n",
              "      <td>2</td>\n",
              "      <td>Miss. Kate Florence Phillips</td>\n",
              "      <td>female</td>\n",
              "      <td>19.0</td>\n",
              "      <td>0</td>\n",
              "      <td>0</td>\n",
              "      <td>26.0</td>\n",
              "    </tr>\n",
              "    <tr>\n",
              "      <th>210</th>\n",
              "      <td>1</td>\n",
              "      <td>2</td>\n",
              "      <td>Miss. Clear Annie Cameron</td>\n",
              "      <td>female</td>\n",
              "      <td>35.0</td>\n",
              "      <td>0</td>\n",
              "      <td>0</td>\n",
              "      <td>21.0</td>\n",
              "    </tr>\n",
              "    <tr>\n",
              "      <th>15</th>\n",
              "      <td>1</td>\n",
              "      <td>2</td>\n",
              "      <td>Mrs. (Mary D Kingcome) Hewlett</td>\n",
              "      <td>female</td>\n",
              "      <td>55.0</td>\n",
              "      <td>0</td>\n",
              "      <td>0</td>\n",
              "      <td>16.0</td>\n",
              "    </tr>\n",
              "    <tr>\n",
              "      <th>160</th>\n",
              "      <td>1</td>\n",
              "      <td>2</td>\n",
              "      <td>Mrs. James (Elizabeth Inglis Milne) Watt</td>\n",
              "      <td>female</td>\n",
              "      <td>40.0</td>\n",
              "      <td>0</td>\n",
              "      <td>0</td>\n",
              "      <td>15.8</td>\n",
              "    </tr>\n",
              "    <tr>\n",
              "      <th>544</th>\n",
              "      <td>1</td>\n",
              "      <td>2</td>\n",
              "      <td>Mr. Julian Padro y Manent</td>\n",
              "      <td>male</td>\n",
              "      <td>27.0</td>\n",
              "      <td>0</td>\n",
              "      <td>0</td>\n",
              "      <td>13.9</td>\n",
              "    </tr>\n",
              "    <tr>\n",
              "      <th>470</th>\n",
              "      <td>1</td>\n",
              "      <td>2</td>\n",
              "      <td>Mrs. Amin S (Marie Marthe Thuillard) Jerwan</td>\n",
              "      <td>female</td>\n",
              "      <td>23.0</td>\n",
              "      <td>0</td>\n",
              "      <td>0</td>\n",
              "      <td>13.8</td>\n",
              "    </tr>\n",
              "  </tbody>\n",
              "</table>\n",
              "</div>"
            ],
            "text/plain": [
              "     Survived  Pclass                                         Name     Sex  \\\n",
              "593         1       2                    Miss. Jessie Wills Leitch  female   \n",
              "424         1       2                 Miss. Kate Florence Phillips  female   \n",
              "210         1       2                    Miss. Clear Annie Cameron  female   \n",
              "15          1       2               Mrs. (Mary D Kingcome) Hewlett  female   \n",
              "160         1       2     Mrs. James (Elizabeth Inglis Milne) Watt  female   \n",
              "544         1       2                    Mr. Julian Padro y Manent    male   \n",
              "470         1       2  Mrs. Amin S (Marie Marthe Thuillard) Jerwan  female   \n",
              "\n",
              "      Age  Siblings/Spouses Aboard  Parents/Children Aboard  Fare  \n",
              "593  31.0                        0                        0  33.0  \n",
              "424  19.0                        0                        0  26.0  \n",
              "210  35.0                        0                        0  21.0  \n",
              "15   55.0                        0                        0  16.0  \n",
              "160  40.0                        0                        0  15.8  \n",
              "544  27.0                        0                        0  13.9  \n",
              "470  23.0                        0                        0  13.8  "
            ]
          },
          "execution_count": 316,
          "metadata": {},
          "output_type": "execute_result"
        }
      ],
      "source": [
        "sCDOrd[sCDOrd['Survived'] == 1]"
      ]
    },
    {
      "cell_type": "markdown",
      "metadata": {},
      "source": [
        "### Terceira Classe"
      ]
    },
    {
      "cell_type": "code",
      "execution_count": 247,
      "metadata": {},
      "outputs": [
        {
          "name": "stdout",
          "output_type": "stream",
          "text": [
            "count    487.000000\n",
            "mean      13.712936\n",
            "std       11.811978\n",
            "min        0.000000\n",
            "25%        7.800000\n",
            "50%        8.100000\n",
            "75%       15.500000\n",
            "max       69.500000\n",
            "Name: Fare, dtype: float64\n"
          ]
        }
      ],
      "source": [
        "print(terceiraClasse['Fare'].describe())\n",
        "meanTC = terceiraClasse['Fare'].describe()[1]\n",
        "modeTC = terceiraClasse['Fare'].mode()\n",
        "medianTC = terceiraClasse['Fare'].median()"
      ]
    },
    {
      "cell_type": "code",
      "execution_count": 248,
      "metadata": {},
      "outputs": [
        {
          "data": {
            "text/plain": [
              "13.71"
            ]
          },
          "execution_count": 248,
          "metadata": {},
          "output_type": "execute_result"
        }
      ],
      "source": [
        "# A média\n",
        "meanTC = meanTC.round(2)\n",
        "meanTC"
      ]
    },
    {
      "cell_type": "code",
      "execution_count": 249,
      "metadata": {},
      "outputs": [
        {
          "data": {
            "text/plain": [
              "7.9"
            ]
          },
          "execution_count": 249,
          "metadata": {},
          "output_type": "execute_result"
        }
      ],
      "source": [
        "# A moda\n",
        "modeTC = modeTC[0]\n",
        "modeTC"
      ]
    },
    {
      "cell_type": "code",
      "execution_count": 250,
      "metadata": {},
      "outputs": [
        {
          "data": {
            "text/plain": [
              "8.1"
            ]
          },
          "execution_count": 250,
          "metadata": {},
          "output_type": "execute_result"
        }
      ],
      "source": [
        "# A mediana\n",
        "medianTC"
      ]
    },
    {
      "cell_type": "code",
      "execution_count": 251,
      "metadata": {},
      "outputs": [],
      "source": [
        "# Vemos que a Moda e a Mediana são o mesmo número. \n",
        "# Isso significa que existe uma repetição gigantesca desses números,\n",
        "# possivelmente a tarifa mais comprada de todo o navio                (~> Falta verificar)"
      ]
    },
    {
      "cell_type": "code",
      "execution_count": 252,
      "metadata": {},
      "outputs": [
        {
          "data": {
            "text/plain": [
              "73"
            ]
          },
          "execution_count": 252,
          "metadata": {},
          "output_type": "execute_result"
        }
      ],
      "source": [
        "numeroDePassagensMaisComprado = titanic['Fare'][titanic['Fare'] == modeTC].count()\n",
        "numeroDePassagensMaisComprado"
      ]
    },
    {
      "cell_type": "code",
      "execution_count": 253,
      "metadata": {},
      "outputs": [],
      "source": [
        "# Verificado, de fato é a tarifa mais comprada do navio"
      ]
    },
    {
      "cell_type": "code",
      "execution_count": 254,
      "metadata": {},
      "outputs": [],
      "source": [
        "# Fazer um DF que tenha como colunas o numero de passagens compradas e seu preco"
      ]
    },
    {
      "cell_type": "code",
      "execution_count": 255,
      "metadata": {},
      "outputs": [
        {
          "data": {
            "text/plain": [
              "<bound method IndexOpsMixin.value_counts of 0       7.2\n",
              "1      71.3\n",
              "2       7.9\n",
              "3      53.1\n",
              "4       8.1\n",
              "       ... \n",
              "882    13.0\n",
              "883    30.0\n",
              "884    23.4\n",
              "885    30.0\n",
              "886     7.8\n",
              "Name: Fare, Length: 887, dtype: float64>"
            ]
          },
          "execution_count": 255,
          "metadata": {},
          "output_type": "execute_result"
        }
      ],
      "source": [
        "titanic['Fare'].value_counts"
      ]
    },
    {
      "cell_type": "code",
      "execution_count": 256,
      "metadata": {},
      "outputs": [],
      "source": [
        "compradas = pd.DataFrame(titanic['Fare'].value_counts())"
      ]
    },
    {
      "cell_type": "code",
      "execution_count": 257,
      "metadata": {},
      "outputs": [
        {
          "data": {
            "text/html": [
              "<div>\n",
              "<style scoped>\n",
              "    .dataframe tbody tr th:only-of-type {\n",
              "        vertical-align: middle;\n",
              "    }\n",
              "\n",
              "    .dataframe tbody tr th {\n",
              "        vertical-align: top;\n",
              "    }\n",
              "\n",
              "    .dataframe thead th {\n",
              "        text-align: right;\n",
              "    }\n",
              "</style>\n",
              "<table border=\"1\" class=\"dataframe\">\n",
              "  <thead>\n",
              "    <tr style=\"text-align: right;\">\n",
              "      <th>Price</th>\n",
              "      <th>Fare</th>\n",
              "    </tr>\n",
              "  </thead>\n",
              "  <tbody>\n",
              "    <tr>\n",
              "      <th>7.9</th>\n",
              "      <td>73</td>\n",
              "    </tr>\n",
              "    <tr>\n",
              "      <th>7.8</th>\n",
              "      <td>59</td>\n",
              "    </tr>\n",
              "    <tr>\n",
              "      <th>8.1</th>\n",
              "      <td>45</td>\n",
              "    </tr>\n",
              "    <tr>\n",
              "      <th>13.0</th>\n",
              "      <td>42</td>\n",
              "    </tr>\n",
              "    <tr>\n",
              "      <th>7.2</th>\n",
              "      <td>40</td>\n",
              "    </tr>\n",
              "    <tr>\n",
              "      <th>...</th>\n",
              "      <td>...</td>\n",
              "    </tr>\n",
              "    <tr>\n",
              "      <th>12.7</th>\n",
              "      <td>1</td>\n",
              "    </tr>\n",
              "    <tr>\n",
              "      <th>6.9</th>\n",
              "      <td>1</td>\n",
              "    </tr>\n",
              "    <tr>\n",
              "      <th>32.5</th>\n",
              "      <td>1</td>\n",
              "    </tr>\n",
              "    <tr>\n",
              "      <th>81.9</th>\n",
              "      <td>1</td>\n",
              "    </tr>\n",
              "    <tr>\n",
              "      <th>5.0</th>\n",
              "      <td>1</td>\n",
              "    </tr>\n",
              "  </tbody>\n",
              "</table>\n",
              "<p>193 rows × 1 columns</p>\n",
              "</div>"
            ],
            "text/plain": [
              "Price  Fare\n",
              "7.9      73\n",
              "7.8      59\n",
              "8.1      45\n",
              "13.0     42\n",
              "7.2      40\n",
              "...     ...\n",
              "12.7      1\n",
              "6.9       1\n",
              "32.5      1\n",
              "81.9      1\n",
              "5.0       1\n",
              "\n",
              "[193 rows x 1 columns]"
            ]
          },
          "execution_count": 257,
          "metadata": {},
          "output_type": "execute_result"
        }
      ],
      "source": [
        "compradas.rename_axis('Price', axis=1, inplace=True)\n",
        "compradas"
      ]
    },
    {
      "cell_type": "code",
      "execution_count": 258,
      "metadata": {},
      "outputs": [],
      "source": [
        "compradas.rename({'Fare':'Quantity'}, axis=1, inplace=True)"
      ]
    },
    {
      "cell_type": "code",
      "execution_count": 259,
      "metadata": {},
      "outputs": [
        {
          "data": {
            "text/html": [
              "<div>\n",
              "<style scoped>\n",
              "    .dataframe tbody tr th:only-of-type {\n",
              "        vertical-align: middle;\n",
              "    }\n",
              "\n",
              "    .dataframe tbody tr th {\n",
              "        vertical-align: top;\n",
              "    }\n",
              "\n",
              "    .dataframe thead th {\n",
              "        text-align: right;\n",
              "    }\n",
              "</style>\n",
              "<table border=\"1\" class=\"dataframe\">\n",
              "  <thead>\n",
              "    <tr style=\"text-align: right;\">\n",
              "      <th>Price</th>\n",
              "      <th>Quantity</th>\n",
              "    </tr>\n",
              "  </thead>\n",
              "  <tbody>\n",
              "    <tr>\n",
              "      <th>7.9</th>\n",
              "      <td>73</td>\n",
              "    </tr>\n",
              "    <tr>\n",
              "      <th>7.8</th>\n",
              "      <td>59</td>\n",
              "    </tr>\n",
              "    <tr>\n",
              "      <th>8.1</th>\n",
              "      <td>45</td>\n",
              "    </tr>\n",
              "    <tr>\n",
              "      <th>13.0</th>\n",
              "      <td>42</td>\n",
              "    </tr>\n",
              "    <tr>\n",
              "      <th>7.2</th>\n",
              "      <td>40</td>\n",
              "    </tr>\n",
              "  </tbody>\n",
              "</table>\n",
              "</div>"
            ],
            "text/plain": [
              "Price  Quantity\n",
              "7.9          73\n",
              "7.8          59\n",
              "8.1          45\n",
              "13.0         42\n",
              "7.2          40"
            ]
          },
          "execution_count": 259,
          "metadata": {},
          "output_type": "execute_result"
        }
      ],
      "source": [
        "compradas.head(5) # Podemos observar que, das 5 tarifas mais vendidas, 4 delas eram da Terceira Classe"
      ]
    }
  ],
  "metadata": {
    "colab": {
      "collapsed_sections": [
        "UN7Y5L9dTX8b"
      ],
      "provenance": []
    },
    "kernelspec": {
      "display_name": "Python 3.9.6 64-bit",
      "language": "python",
      "name": "python3"
    },
    "language_info": {
      "codemirror_mode": {
        "name": "ipython",
        "version": 3
      },
      "file_extension": ".py",
      "mimetype": "text/x-python",
      "name": "python",
      "nbconvert_exporter": "python",
      "pygments_lexer": "ipython3",
      "version": "3.9.6"
    },
    "orig_nbformat": 4,
    "vscode": {
      "interpreter": {
        "hash": "11938c6bc6919ae2720b4d5011047913343b08a43b18698fd82dedb0d4417594"
      }
    }
  },
  "nbformat": 4,
  "nbformat_minor": 0
}
